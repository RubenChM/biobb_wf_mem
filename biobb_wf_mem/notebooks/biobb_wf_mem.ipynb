{
 "cells": [
  {
   "cell_type": "markdown",
   "metadata": {},
   "source": [
    "# Membrane MD Analysis tutorial using BioExcel Building Blocks (biobb)\n",
    "\n",
    "***\n",
    "This tutorial aims to illustrate the process of **analyzing a membrane molecular dynamics (MD) simulation** using the **BioExcel Building Blocks library (biobb)**. The particular example used is the heteropentameric ligand-gated chloride channel gated by gamma-aminobutyric acid (**GABA**), a major inhibitory neurotransmitter in the brain, which was embedded in a **DPPC membrane** in the [MemProtMD](https://memprotmd.bioch.ox.ac.uk/_ref/PDB/4cof/_sim/4cof_default_dppc/) project, which trajectory is obtained from the [**MDDB**](https://mddbr.eu/), where we can find it under the [A01M6](https://mmb-dev.mddbr.eu/#/id/A01M6/overview) accession id.\n",
    "***\n",
    "\n",
    "## Settings\n",
    "\n",
    "### Biobb modules used\n",
    "\n",
    " - [biobb_mem](https://github.com/bioexcel/biobb_mem): Tools to fetch biomolecular data from public databases.\n",
    " \n",
    "### Auxiliary libraries used\n",
    "\n",
    "* [jupyter](https://jupyter.org/): Free software, open standards, and web services for interactive computing across all programming languages.\n",
    "* [nglview](http://nglviewer.org/#nglview): Jupyter/IPython widget to interactively view molecular structures and trajectories in notebooks.\n",
    "* [plotly](https://plot.ly/python/offline/): Python interactive graphing library integrated in Jupyter notebooks.\n",
    "\n",
    "### Conda Installation and Launch\n",
    "\n",
    "```console\n",
    "git clone https://github.com/bioexcel/biobb_wf_mem.git\n",
    "cd biobb_wf_mem\n",
    "conda env create -f conda_env/environment.yml\n",
    "conda activate biobb_wf_mem\n",
    "jupyter-notebook biobb_wf_mem/notebooks/biobb_wf_mem.ipynb\n",
    "```\n",
    "\n",
    "***\n",
    "## Pipeline steps\n",
    " 1. [Input Parameters](#input)\n",
    " 2. [Fetching Structure and Trajectory](#fetch)\n",
    " 3. [Membrane Identification with FATSLiM](#fatslim)\n",
    " 4. [Density Profile](#density)\n",
    " 5. [Leafleats Assignation](#leaflets)\n",
    " 6. [Z Positions and Membrane Thickness](#thickness)\n",
    " 7. [Channel Dimensions](#channel)\n",
    " 8. [Questions & Comments](#questions)\n",
    "\n",
    "***\n",
    "<img src=\"https://bioexcel.eu/wp-content/uploads/2019/04/Bioexcell_logo_1080px_transp.png\" alt=\"Bioexcel2 logo\"\n",
    "\ttitle=\"Bioexcel2 logo\" width=\"400\" />\n",
    "***\n"
   ]
  },
  {
   "cell_type": "markdown",
   "metadata": {},
   "source": [
    "<a id=\"input\"></a>\n",
    "## Input parameters"
   ]
  },
  {
   "cell_type": "markdown",
   "metadata": {},
   "source": [
    "**Input parameters** needed:\n",
    " - **MD_id**: MDDB id of the protein trajectory (e.g. [A01M6](https://mmb-dev.mddbr.eu/#/id/A01M6/overview)).\n",
    "- **steps**: number of frames to skip during analysis.\n",
    " - **lipid_sel**: a [MDAnalysis selection](https://docs.mdanalysis.org/stable/documentation_pages/selections.html) of the headgroups the residues on the topology corresponding to the membrane.\n",
    " - **ngl_sel**: and **ngl_hd_sel**: [NGLView](http://nglviewer.org/ngl/api/manual/selection-language.html) selection to visualize the membrane."
   ]
  },
  {
   "cell_type": "code",
   "execution_count": 1,
   "metadata": {},
   "outputs": [
    {
     "data": {
      "application/vnd.jupyter.widget-view+json": {
       "model_id": "6f0682ebfbcc4f03b5135a5c36d9228d",
       "version_major": 2,
       "version_minor": 0
      },
      "text/plain": []
     },
     "metadata": {},
     "output_type": "display_data"
    }
   ],
   "source": [
    "# Common imports\n",
    "import os, requests\n",
    "import pandas as pd\n",
    "import nglview as nv\n",
    "import MDAnalysis as mda\n",
    "import plotly.graph_objects as go\n",
    "from plotly.subplots import make_subplots\n",
    "from ipywidgets import Output, HBox\n",
    "\n",
    "MD_id = 'A01M6'\n",
    "steps = 1500\n",
    "lipid_sel = '(resname DPPC and name P8)'\n",
    "ngl_sel = 'DPPC'\n",
    "ngl_hd_sel = f'{ngl_sel} and _P'\n",
    "\n",
    "# Common arguments for all the components\n",
    "input_top_path = f'data/{MD_id}.pdb'\n",
    "input_traj_path = f'data/{MD_id}.xtc'\n",
    "\n",
    "# If you want to disable the logs, set this variable to True    \n",
    "disable_logs = True"
   ]
  },
  {
   "cell_type": "markdown",
   "metadata": {},
   "source": [
    "For the **lipid_sel**, we choose not only choose the residues with name DPPC, but also the atom name P8, as this is the most charged one. Selecting only the headgroups make easier for the algorithms to separate the components of the membrane. "
   ]
  },
  {
   "cell_type": "markdown",
   "metadata": {},
   "source": [
    "![DPPC](../html/DPPC.png \"DPPC\")"
   ]
  },
  {
   "cell_type": "markdown",
   "metadata": {},
   "source": [
    "<a id=\"fetch\"></a>\n",
    "***\n",
    "## Fetching structure and trajectory"
   ]
  },
  {
   "cell_type": "markdown",
   "metadata": {},
   "source": [
    "Download the structure and trajectory data, in **PDB** and **XTC** formats respectively, from the MD using the [MDDB API](https://mmb-dev.mddbr.eu/api/rest/docs/)."
   ]
  },
  {
   "cell_type": "code",
   "execution_count": 2,
   "metadata": {},
   "outputs": [],
   "source": [
    "# Check if folders 'out' and 'tmp' exist and create them if not\n",
    "for folder in ['out', 'data']:\n",
    "    if not os.path.exists(folder):\n",
    "        os.makedirs(folder)\n",
    "        print(f\"Created folder: {folder}\")\n",
    "\n",
    "# Check if PDB and XTC files already exist\n",
    "if not os.path.exists(f\"data/{MD_id}.pdb\"):\n",
    "    # Download PDB\n",
    "    headers = {'accept': 'chemical/x-pdb'}\n",
    "    url = f\"https://mmb-dev.mddbr.eu/api/rest/v1/projects/{MD_id}/files/structure.pdb\"\n",
    "    response = requests.get(url, headers=headers)\n",
    "    if response.status_code == 200:\n",
    "        pdb_content = response.text\n",
    "        # Save the PDB content to a file\n",
    "        with open(f\"{MD_id}.pdb\", 'w') as pdb_file:   \n",
    "            pdb_file.write(pdb_content)\n",
    "        print(f\"Saved PDB file\")\n",
    "    else:\n",
    "        print(f\"Error for the PDB file: {response.status_code}\")\n",
    "\n",
    "if not os.path.exists(f\"data/{MD_id}.xtc\"): \n",
    "    # Download XTC\n",
    "    headers2 = {'accept': 'application/octet-stream'}\n",
    "    url2= f'https://mmb-dev.mddbr.eu/api/rest/v1/projects/{MD_id}/files/trajectory.xtc'\n",
    "    response2 = requests.get(url2, headers=headers2)\n",
    "    if response2.status_code == 200:\n",
    "        xtc_content = response2.content\n",
    "        with open(f\"{MD_id}.xtc\", 'wb') as xtc_file:\n",
    "            xtc_file.write(xtc_content)\n",
    "        print(f\"Saved XTC file\")\n",
    "    else:\n",
    "        print(f\"Error for the XTC file: {response2.status_code}\")"
   ]
  },
  {
   "cell_type": "code",
   "execution_count": 3,
   "metadata": {},
   "outputs": [],
   "source": [
    "# Load the trajectory\n",
    "u = mda.Universe(input_top_path, input_traj_path)"
   ]
  },
  {
   "cell_type": "code",
   "execution_count": 4,
   "metadata": {},
   "outputs": [
    {
     "data": {
      "application/vnd.jupyter.widget-view+json": {
       "model_id": "1138625d994749adb0f424cb67e56799",
       "version_major": 2,
       "version_minor": 0
      },
      "text/plain": [
       "HBox(children=(NGLWidget(layout=Layout(width='100%'), max_frame=10000), NGLWidget(layout=Layout(width='100%'),…"
      ]
     },
     "execution_count": 4,
     "metadata": {},
     "output_type": "execute_result"
    }
   ],
   "source": [
    "# Visualize the trajectory\n",
    "view = nv.show_mdanalysis(u)\n",
    "view.layout.width = '100%'\n",
    "# Visualize only the lipids with the headgroups\n",
    "view_mem = nv.show_mdanalysis(u)\n",
    "view_mem.layout.width = '100%'\n",
    "view_mem.clear_representations()\n",
    "view_mem.add_representation('licorice', selection=ngl_sel, color='blue')\n",
    "view_mem.add_ball_and_stick(selection=ngl_hd_sel, color='white',aspect_ratio=4) # headgroups\n",
    "HBox([view, view_mem])"
   ]
  },
  {
   "cell_type": "markdown",
   "metadata": {},
   "source": [
    "<a id=\"fatslim\"></a>\n",
    "***\n",
    "## Membrane identification with FATSLiM"
   ]
  },
  {
   "cell_type": "markdown",
   "metadata": {},
   "source": [
    "Membrane and leaflets identification.<br>\n",
    "Knowing the name of our lipids may be not enough to identify the membrane. There may be more than one membrane, cuved ones, lipids outside membranes...\n",
    "***\n",
    "**Building Blocks** used:\n",
    " - [FatslimMembranes](https://biobb-mem.readthedocs.io/en/latest/fatslim.html#module-fatslim.fatslim_membranes) from **biobb_mem.fatslim.fatslim_membranes**\n",
    "***"
   ]
  },
  {
   "cell_type": "code",
   "execution_count": 5,
   "metadata": {},
   "outputs": [],
   "source": [
    "# Analysis function\n",
    "from biobb_mem.fatslim.fatslim_membranes import fatslim_membranes\n",
    "# Visualization function\n",
    "from biobb_mem.fatslim.fatslim_membranes import display_fatslim"
   ]
  },
  {
   "cell_type": "markdown",
   "metadata": {},
   "source": [
    "### FATSLiM examples\n",
    "Some different case of membranes with FATSLiM"
   ]
  },
  {
   "cell_type": "code",
   "execution_count": 6,
   "metadata": {},
   "outputs": [],
   "source": [
    "# From https://github.com/FATSLiM/fatslim/tree/master/fatslimlib/test/data\n",
    "if not os.path.exists(f\"data/bilayer_multi.gro\"):\n",
    "    !wget https://raw.githubusercontent.com/FATSLiM/fatslim/refs/heads/master/fatslimlib/test/data/bilayer_multi.gro -P data\n",
    "\n",
    "if not os.path.exists(f\"data/dppc_vesicle.gro\"):\n",
    "    !wget https://raw.githubusercontent.com/FATSLiM/fatslim/refs/heads/master/fatslimlib/test/data/dppc_vesicle.gro -P data\n",
    "\n",
    "# From https://cgmartini.nl/docs/downloads/example-applications/micelles.html:\n",
    "if not os.path.exists(f\"data/dpc.gro\"):\n",
    "    !wget https://cgmartini-library.s3.ca-central-1.amazonaws.com/1_Downloads/example_applications/micelles/dpc.gro -P data"
   ]
  },
  {
   "cell_type": "code",
   "execution_count": 7,
   "metadata": {},
   "outputs": [
    {
     "name": "stdout",
     "output_type": "stream",
     "text": [
      "\n",
      "cmd_wrapper commnand print: fatslim membranes -n 3ee2f401-6997-4265-b082-3a24b2aa3bcc/headgroups.ndx -c /home/rchaves/repo/biobb_wf_mem/biobb_wf_mem/notebooks/sandbox_75bc3c99-bf5f-4a2e-bf90-fb9de2016c89/bilayer_multi.gro --output-index 58cbf4b4-14b9-475c-b10f-74c4a4591b29/output.ndx --cutoff 2.2 --begin-frame -1 --end-frame -1\n",
      "Executing: fatslim membranes -n 3ee2f401-6997-4265-b082-3a24b2aa3bcc/headgroups.ndx -c /hom...\n",
      "Exit code: 0\n",
      "\n",
      "\n",
      "cmd_wrapper commnand print: fatslim membranes -n aa880375-d3dd-4c00-bf95-459c7bdace05/headgroups.ndx -c /home/rchaves/repo/biobb_wf_mem/biobb_wf_mem/notebooks/sandbox_f2c37fb3-d14e-46d6-8e04-75dd13ba9075/dppc_vesicle.gro --output-index 090181b0-33e3-4f88-bb4d-24adbc528334/output.ndx --cutoff 2.2 --begin-frame -1 --end-frame -1\n",
      "Executing: fatslim membranes -n aa880375-d3dd-4c00-bf95-459c7bdace05/headgroups.ndx -c /hom...\n",
      "Exit code: 0\n",
      "\n",
      "\n",
      "cmd_wrapper commnand print: fatslim membranes -n 200d2b3b-94e4-42f7-9943-13f6a26db120/headgroups.ndx -c /home/rchaves/repo/biobb_wf_mem/biobb_wf_mem/notebooks/sandbox_bd4a0285-79c2-4edb-90fd-6312022ea206/dpc.gro --output-index 47f8d771-14c2-41f1-b0a7-c5c45465a883/output.ndx --cutoff 2.2 --begin-frame -1 --end-frame -1\n",
      "Executing: fatslim membranes -n 200d2b3b-94e4-42f7-9943-13f6a26db120/headgroups.ndx -c /hom...\n",
      "Exit code: 0\n",
      "\n"
     ]
    }
   ],
   "source": [
    "lipid_sel_CG='name PO4'\n",
    "prop_CG = {\n",
    "        'selection': lipid_sel_CG,\n",
    "        'disable_logs': disable_logs\n",
    "    }\n",
    "tops  = ['data/bilayer_multi.gro', 'data/dppc_vesicle.gro','data/dpc.gro']\n",
    "outs  = ['out/bilayer_multi.ndx', 'out/dppc_vesicle.ndx','out/dpc.ndx']\n",
    "views = []\n",
    "for top,out in zip(tops, outs):\n",
    "    fatslim_membranes(input_top_path=top,\n",
    "                    output_ndx_path=out,\n",
    "                    properties=prop_CG)\n",
    "    view = display_fatslim(top,lipid_sel_CG,output_ndx_path=out, leaflets=True)\n",
    "    view.add_ball_and_stick(selection='.PO4', color='white') # headgroups\n",
    "    view.background = 'black'\n",
    "    view.layout.width = '100%'\n",
    "    views.append(view)"
   ]
  },
  {
   "cell_type": "markdown",
   "metadata": {},
   "source": [
    "In red the lipids that do not correspond to any membrane"
   ]
  },
  {
   "cell_type": "code",
   "execution_count": 8,
   "metadata": {},
   "outputs": [
    {
     "data": {
      "application/vnd.jupyter.widget-view+json": {
       "model_id": "909ed0c75e274b0582657cb563d843c4",
       "version_major": 2,
       "version_minor": 0
      },
      "text/plain": [
       "HBox(children=(NGLWidget(background='black', layout=Layout(width='100%')), NGLWidget(background='black', layou…"
      ]
     },
     "execution_count": 8,
     "metadata": {},
     "output_type": "execute_result"
    }
   ],
   "source": [
    "# In red: elements not in a membrane. In the third case, \n",
    "# the micelle is not identify as membrane.\n",
    "HBox(views)"
   ]
  },
  {
   "cell_type": "markdown",
   "metadata": {},
   "source": [
    "### Our case"
   ]
  },
  {
   "cell_type": "code",
   "execution_count": 9,
   "metadata": {},
   "outputs": [
    {
     "name": "stdout",
     "output_type": "stream",
     "text": [
      "Warning: trajectory probably has no box variable. Setting dimensions ussing the minimum and maximum positions of the atoms.\n",
      "\n",
      "cmd_wrapper commnand print: gmx editconf -f /home/rchaves/repo/biobb_wf_mem/biobb_wf_mem/notebooks/sandbox_f5774c1a-802e-426e-86fe-9f63dd6b61bf/A01M6.pdb -o 71d5cd27-d33d-4561-a7c5-8d66f91e5e15/output.gro -box 167.68 173.51001 126.630005 ; fatslim membranes -n 21d8a6ed-91fd-48bd-b1da-74bceaab55f1/headgroups.ndx -c 71d5cd27-d33d-4561-a7c5-8d66f91e5e15/output.gro --output-index d1ea8df9-c4c5-41b9-9593-999800260357/output.ndx --cutoff 2.2 --begin-frame -1 --end-frame -1\n",
      "Executing: gmx editconf -f /home/rchaves/repo/biobb_wf_mem/biobb_wf_mem/notebooks/sandbox_f...\n",
      "Exit code: 0\n",
      "\n"
     ]
    },
    {
     "data": {
      "text/plain": [
       "0"
      ]
     },
     "execution_count": 9,
     "metadata": {},
     "output_type": "execute_result"
    }
   ],
   "source": [
    "prop = {\n",
    "    'selection': lipid_sel,\n",
    "    'cutoff': 2.2,\n",
    "    'ignore_no_box': True,\n",
    "    'disable_logs': disable_logs\n",
    "}\n",
    "fatslim_membranes(input_top_path=input_top_path,\n",
    "                  input_traj_path=input_traj_path,\n",
    "                  output_ndx_path=\"out/leaflets.ndx\",\n",
    "                  properties=prop)"
   ]
  },
  {
   "cell_type": "code",
   "execution_count": 10,
   "metadata": {},
   "outputs": [
    {
     "data": {
      "application/vnd.jupyter.widget-view+json": {
       "model_id": "773967286630432f994e71cf09d5500a",
       "version_major": 2,
       "version_minor": 0
      },
      "text/plain": [
       "NGLWidget(layout=Layout(height='400px'))"
      ]
     },
     "metadata": {},
     "output_type": "display_data"
    }
   ],
   "source": [
    "# We can now visualize the leaflets and the categorizing of the lipids\n",
    "# There is one lipid that is not in a leaflet, this can be used as a quality \n",
    "# check or in case we may want to ignore for the rest of the analyses.\n",
    "view = display_fatslim(input_top_path,lipid_sel,output_ndx_path=\"out/leaflets.ndx\")\n",
    "view.add_ball_and_stick(selection=ngl_hd_sel, color='white',aspect_ratio=4) # headgroups\n",
    "view.layout.height = '400px'\n",
    "view"
   ]
  },
  {
   "cell_type": "code",
   "execution_count": 11,
   "metadata": {},
   "outputs": [
    {
     "data": {
      "text/plain": [
       "\u001b[0;31mSignature:\u001b[0m \u001b[0mparse_index\u001b[0m\u001b[0;34m(\u001b[0m\u001b[0mndx\u001b[0m\u001b[0;34m)\u001b[0m\u001b[0;34m\u001b[0m\u001b[0;34m\u001b[0m\u001b[0m\n",
       "\u001b[0;31mSource:\u001b[0m   \n",
       "\u001b[0;32mdef\u001b[0m \u001b[0mparse_index\u001b[0m\u001b[0;34m(\u001b[0m\u001b[0mndx\u001b[0m\u001b[0;34m)\u001b[0m\u001b[0;34m:\u001b[0m\u001b[0;34m\u001b[0m\n",
       "\u001b[0;34m\u001b[0m    \u001b[0;34m\"\"\"\u001b[0m\n",
       "\u001b[0;34m    Parses a GROMACS index file (.ndx) to extract leaflet groups.\u001b[0m\n",
       "\u001b[0;34m\u001b[0m\n",
       "\u001b[0;34m    Args:\u001b[0m\n",
       "\u001b[0;34m        ndx (str): Path to the GROMACS index file (.ndx).\u001b[0m\n",
       "\u001b[0;34m    Returns:\u001b[0m\n",
       "\u001b[0;34m        dict: A dictionary where keys are group names and values are lists of integers representing atom indices.\u001b[0m\n",
       "\u001b[0;34m    \"\"\"\u001b[0m\u001b[0;34m\u001b[0m\n",
       "\u001b[0;34m\u001b[0m\u001b[0;34m\u001b[0m\n",
       "\u001b[0;34m\u001b[0m    \u001b[0;31m# Read the leaflet.ndx file\u001b[0m\u001b[0;34m\u001b[0m\n",
       "\u001b[0;34m\u001b[0m    \u001b[0;32mwith\u001b[0m \u001b[0mopen\u001b[0m\u001b[0;34m(\u001b[0m\u001b[0mndx\u001b[0m\u001b[0;34m,\u001b[0m \u001b[0;34m'r'\u001b[0m\u001b[0;34m)\u001b[0m \u001b[0;32mas\u001b[0m \u001b[0mfile\u001b[0m\u001b[0;34m:\u001b[0m\u001b[0;34m\u001b[0m\n",
       "\u001b[0;34m\u001b[0m        \u001b[0mleaflet_data\u001b[0m \u001b[0;34m=\u001b[0m \u001b[0mfile\u001b[0m\u001b[0;34m.\u001b[0m\u001b[0mreadlines\u001b[0m\u001b[0;34m(\u001b[0m\u001b[0;34m)\u001b[0m\u001b[0;34m\u001b[0m\n",
       "\u001b[0;34m\u001b[0m\u001b[0;34m\u001b[0m\n",
       "\u001b[0;34m\u001b[0m    \u001b[0;31m# Initialize dictionaries to store leaflet groups\u001b[0m\u001b[0;34m\u001b[0m\n",
       "\u001b[0;34m\u001b[0m    \u001b[0mleaflet_groups\u001b[0m \u001b[0;34m=\u001b[0m \u001b[0;34m{\u001b[0m\u001b[0;34m}\u001b[0m\u001b[0;34m\u001b[0m\n",
       "\u001b[0;34m\u001b[0m    \u001b[0mcurrent_group\u001b[0m \u001b[0;34m=\u001b[0m \u001b[0;32mNone\u001b[0m\u001b[0;34m\u001b[0m\n",
       "\u001b[0;34m\u001b[0m\u001b[0;34m\u001b[0m\n",
       "\u001b[0;34m\u001b[0m    \u001b[0;31m# Parse the leaflet.ndx file\u001b[0m\u001b[0;34m\u001b[0m\n",
       "\u001b[0;34m\u001b[0m    \u001b[0;32mfor\u001b[0m \u001b[0mline\u001b[0m \u001b[0;32min\u001b[0m \u001b[0mleaflet_data\u001b[0m\u001b[0;34m:\u001b[0m\u001b[0;34m\u001b[0m\n",
       "\u001b[0;34m\u001b[0m        \u001b[0mline\u001b[0m \u001b[0;34m=\u001b[0m \u001b[0mline\u001b[0m\u001b[0;34m.\u001b[0m\u001b[0mstrip\u001b[0m\u001b[0;34m(\u001b[0m\u001b[0;34m)\u001b[0m\u001b[0;34m\u001b[0m\n",
       "\u001b[0;34m\u001b[0m        \u001b[0;32mif\u001b[0m \u001b[0mline\u001b[0m\u001b[0;34m.\u001b[0m\u001b[0mstartswith\u001b[0m\u001b[0;34m(\u001b[0m\u001b[0;34m'['\u001b[0m\u001b[0;34m)\u001b[0m \u001b[0;32mand\u001b[0m \u001b[0mline\u001b[0m\u001b[0;34m.\u001b[0m\u001b[0mendswith\u001b[0m\u001b[0;34m(\u001b[0m\u001b[0;34m']'\u001b[0m\u001b[0;34m)\u001b[0m\u001b[0;34m:\u001b[0m\u001b[0;34m\u001b[0m\n",
       "\u001b[0;34m\u001b[0m            \u001b[0mcurrent_group\u001b[0m \u001b[0;34m=\u001b[0m \u001b[0mline\u001b[0m\u001b[0;34m[\u001b[0m\u001b[0;36m1\u001b[0m\u001b[0;34m:\u001b[0m\u001b[0;34m-\u001b[0m\u001b[0;36m1\u001b[0m\u001b[0;34m]\u001b[0m\u001b[0;34m.\u001b[0m\u001b[0mstrip\u001b[0m\u001b[0;34m(\u001b[0m\u001b[0;34m)\u001b[0m\u001b[0;34m\u001b[0m\n",
       "\u001b[0;34m\u001b[0m            \u001b[0mleaflet_groups\u001b[0m\u001b[0;34m[\u001b[0m\u001b[0mcurrent_group\u001b[0m\u001b[0;34m]\u001b[0m \u001b[0;34m=\u001b[0m \u001b[0;34m[\u001b[0m\u001b[0;34m]\u001b[0m\u001b[0;34m\u001b[0m\n",
       "\u001b[0;34m\u001b[0m        \u001b[0;32melif\u001b[0m \u001b[0mcurrent_group\u001b[0m \u001b[0;32mis\u001b[0m \u001b[0;32mnot\u001b[0m \u001b[0;32mNone\u001b[0m\u001b[0;34m:\u001b[0m\u001b[0;34m\u001b[0m\n",
       "\u001b[0;34m\u001b[0m            \u001b[0mleaflet_groups\u001b[0m\u001b[0;34m[\u001b[0m\u001b[0mcurrent_group\u001b[0m\u001b[0;34m]\u001b[0m\u001b[0;34m.\u001b[0m\u001b[0mextend\u001b[0m\u001b[0;34m(\u001b[0m\u001b[0mmap\u001b[0m\u001b[0;34m(\u001b[0m\u001b[0mint\u001b[0m\u001b[0;34m,\u001b[0m \u001b[0mline\u001b[0m\u001b[0;34m.\u001b[0m\u001b[0msplit\u001b[0m\u001b[0;34m(\u001b[0m\u001b[0;34m)\u001b[0m\u001b[0;34m)\u001b[0m\u001b[0;34m)\u001b[0m\u001b[0;34m\u001b[0m\n",
       "\u001b[0;34m\u001b[0m    \u001b[0;32mreturn\u001b[0m \u001b[0mleaflet_groups\u001b[0m\u001b[0;34m\u001b[0m\u001b[0;34m\u001b[0m\u001b[0m\n",
       "\u001b[0;31mFile:\u001b[0m      ~/miniforge3/envs/biobb_wf_mem/lib/python3.11/site-packages/biobb_mem/fatslim/fatslim_membranes.py\n",
       "\u001b[0;31mType:\u001b[0m      function"
      ]
     },
     "metadata": {},
     "output_type": "display_data"
    }
   ],
   "source": [
    "# To extract the lipids in each leaflet, we can use the parse_index function\n",
    "from biobb_mem.fatslim.fatslim_membranes import parse_index\n",
    "parse_index??\n",
    "# We can use this atom indeces to select the lipids in the membrane.\n",
    "# For simplicity, we keep using our previous selection.\n",
    "# For and example of how to use the indeces, you can see display_fatslim??"
   ]
  },
  {
   "cell_type": "markdown",
   "metadata": {},
   "source": [
    "<a id=\"density\"></a>\n",
    "***\n",
    "## Density profile"
   ]
  },
  {
   "cell_type": "markdown",
   "metadata": {},
   "source": [
    "Calculating the density over an axis with [amber selection masks](https://amberhub.chpc.utah.edu/atom-mask-selection-syntax/).<br>\n",
    "***\n",
    "**Building Blocks** used:\n",
    " - [CpptrajDensity](https://biobb-mem.readthedocs.io/en/latest/ambertools.html#module-ambertools.cpptraj_density) from **biobb_mem.ambertools.cpptraj_density**\n",
    "***"
   ]
  },
  {
   "cell_type": "code",
   "execution_count": 12,
   "metadata": {},
   "outputs": [
    {
     "name": "stdout",
     "output_type": "stream",
     "text": [
      "\n",
      "cmd_wrapper commnand print: cpptraj -i 79159f2b-8df9-47a0-be97-57620afe477f/instructions.in\n",
      "Executing: cpptraj -i 79159f2b-8df9-47a0-be97-57620afe477f/instructions.in...\n",
      "Exit code: 0\n",
      "\n"
     ]
    },
    {
     "data": {
      "text/plain": [
       "0"
      ]
     },
     "execution_count": 12,
     "metadata": {},
     "output_type": "execute_result"
    }
   ],
   "source": [
    "from biobb_mem.ambertools.cpptraj_density import cpptraj_density\n",
    "\n",
    "prop = {\n",
    "    'mask': '::M ::A,B',\n",
    "    'steps': steps,\n",
    "    'disable_logs': disable_logs\n",
    "}\n",
    "cpptraj_density(input_top_path=input_top_path,\n",
    "            input_traj_path=input_traj_path,\n",
    "            output_cpptraj_path='out/density.dat',\n",
    "            properties=prop)"
   ]
  },
  {
   "cell_type": "code",
   "execution_count": 13,
   "metadata": {},
   "outputs": [],
   "source": [
    "# Function to visualize the density results\n",
    "def plot_and_view(df, view, labels):\n",
    "    axis = df.columns[0] # Axis the density was calculated on\n",
    "    cls = df.columns[1:] # Mask used and std. EX: ::M\tsd(::M)\t::A,B\tsd(::A,B)\n",
    "    fig = make_subplots(rows=1, cols=1, subplot_titles=['Mass Density'])\n",
    "    # Iterate over the columns\n",
    "    for i, cl in enumerate(cls):\n",
    "        if i % 2 == 0: # Mask\n",
    "            # Add a line plot for the current column\n",
    "            fig.add_trace(go.Scatter(x=df[axis], y=df[cl], mode='lines', name=labels[i // 2]), row=1, col=1)\n",
    "            cl0 = cl\n",
    "        else: # Standard deviation\n",
    "            # Add a transparent line plot for the standard deviation\n",
    "            fig.add_trace(go.Scatter(x=df[axis], y=df[cl0] - df[cl], mode='lines', fill=None, showlegend=False, line=dict(color='rgba(0,0,0,0)')), row=1, col=1)\n",
    "            fig.add_trace(go.Scatter(x=df[axis], y=df[cl0] + df[cl], mode='lines', fill='tonexty', name='SD', line=dict(color='rgba(0,0,0,0)'), fillcolor='rgba(0,100,80,0.2)'), row=1, col=1)\n",
    "    \n",
    "    fig.update_layout(title='Mass Density', xaxis_title='Å', yaxis_title='Density', legend_title='Legend')\n",
    "    \n",
    "    # Capture NGL view widget\n",
    "    out = Output()\n",
    "    with out:\n",
    "        fig.show()\n",
    "    # Create a horizontal box layout with the plot and the NGL view\n",
    "    box = HBox([out, view])\n",
    "    display(box)\n",
    "    # Set the size of the NGL view widget and its orientation\n",
    "    view._remote_call('setSize', target='Widget', args=['100%', '100%'])\n",
    "    view.control.spin([0, 1, 0], -1.57)  # Same orientation as the plot\n",
    "    view.layout.width = '100%'"
   ]
  },
  {
   "cell_type": "code",
   "execution_count": 15,
   "metadata": {},
   "outputs": [
    {
     "data": {
      "application/vnd.jupyter.widget-view+json": {
       "model_id": "0666c568dbc94ef89f30ec373e1e2e28",
       "version_major": 2,
       "version_minor": 0
      },
      "text/plain": [
       "HBox(children=(Output(), NGLWidget()))"
      ]
     },
     "metadata": {},
     "output_type": "display_data"
    }
   ],
   "source": [
    "view = nv.show_file(input_top_path)\n",
    "den = pd.read_csv(f'out/density.dat', sep='\\s+')\n",
    "plot_and_view(den,view,['Membrane','Protein'])\n",
    "view.update_ball_and_stick(color='blue')\n",
    "view.update_cartoon(color='purple')\n",
    "#view.layout.height = 'full'"
   ]
  },
  {
   "cell_type": "markdown",
   "metadata": {},
   "source": [
    "<a id=\"leaflets\"></a>\n",
    "***\n",
    "## Leafleats assignation"
   ]
  },
  {
   "cell_type": "markdown",
   "metadata": {},
   "source": [
    "Lyphilic is faster that fatslim, its algorithm is simpler, assumes a plane membrane, it let you do the assignation of leafleats for every frame and use this information for analysis like flip-flop.<br>\n",
    "***\n",
    "**Building Blocks** used:\n",
    " - [LPPAssignLeaflets](https://biobb-mem.readthedocs.io/en/latest/lipyphilic_biobb.html#module-lipyphilic_biobb.lpp_assign_leaflets) from **from biobb_mem.lipyphilic_biobb.lpp_assign_leaflets**\n",
    "***"
   ]
  },
  {
   "cell_type": "code",
   "execution_count": 16,
   "metadata": {},
   "outputs": [
    {
     "data": {
      "text/plain": [
       "0"
      ]
     },
     "execution_count": 16,
     "metadata": {},
     "output_type": "execute_result"
    }
   ],
   "source": [
    "from biobb_mem.lipyphilic_biobb.lpp_assign_leaflets import lpp_assign_leaflets\n",
    "\n",
    "prop = {\n",
    "    'lipid_sel': lipid_sel,\n",
    "    'steps': 10,\n",
    "    'disable_logs': disable_logs\n",
    "}\n",
    "lpp_assign_leaflets(input_top_path=input_top_path,\n",
    "                    input_traj_path=input_traj_path,\n",
    "                    output_leaflets_path= 'out/leaflets_data.csv',\n",
    "                    properties=prop)"
   ]
  },
  {
   "cell_type": "code",
   "execution_count": 17,
   "metadata": {},
   "outputs": [
    {
     "data": {
      "text/plain": [
       "array([   0,    1,    2, ...,  998,  999, 1000])"
      ]
     },
     "execution_count": 17,
     "metadata": {},
     "output_type": "execute_result"
    }
   ],
   "source": [
    "# A few seconds for 1000 frames\n",
    "df = pd.read_csv('out/leaflets_data.csv')\n",
    "df['frame'].unique()"
   ]
  },
  {
   "cell_type": "code",
   "execution_count": 18,
   "metadata": {},
   "outputs": [
    {
     "data": {
      "application/vnd.jupyter.widget-view+json": {
       "model_id": "d05b52e69888408a8acc96b6be6b5d2d",
       "version_major": 2,
       "version_minor": 0
      },
      "text/plain": [
       "NGLWidget()"
      ]
     },
     "metadata": {},
     "output_type": "display_data"
    }
   ],
   "source": [
    "# Leaflets visualization\n",
    "from biobb_mem.lipyphilic_biobb.lpp_assign_leaflets import display_nglview\n",
    "view = display_nglview(input_top_path, 'out/leaflets_data.csv')\n",
    "view.control.spin([0, 1, 0], -1.57)\n",
    "view"
   ]
  },
  {
   "cell_type": "markdown",
   "metadata": {},
   "source": [
    "<a id=\"thickness\"></a>\n",
    "***\n",
    "## Z positions and membrane thickness"
   ]
  },
  {
   "cell_type": "markdown",
   "metadata": {},
   "source": [
    "Calculating the the z distance of lipids to the bilayer center and comparing it to a selection around the protein.<br>\n",
    "With the z position we can calculate the membrane thickness and the local distorsion.\n",
    "***\n",
    "**Building Blocks** used:\n",
    " - [LPPZPositions](https://biobb-mem.readthedocs.io/en/latest/lipyphilic_biobb.html#module-lipyphilic_biobb.lpp_zpositions) from **from biobb_mem.lipyphilic_biobb.lpp_zpositions**\n",
    "***"
   ]
  },
  {
   "cell_type": "code",
   "execution_count": 19,
   "metadata": {},
   "outputs": [
    {
     "data": {
      "text/plain": [
       "0"
      ]
     },
     "execution_count": 19,
     "metadata": {},
     "output_type": "execute_result"
    }
   ],
   "source": [
    "from biobb_mem.lipyphilic_biobb.lpp_zpositions import lpp_zpositions\n",
    "\n",
    "# Run the analysis on the whole membrane\n",
    "prop = {\n",
    "    'lipid_sel': lipid_sel,\n",
    "    'steps': steps,\n",
    "    'height_sel': lipid_sel,\n",
    "    'disable_logs': disable_logs\n",
    "}\n",
    "\n",
    "lpp_zpositions(input_top_path=input_top_path,\n",
    "            input_traj_path=input_traj_path,\n",
    "            output_positions_path='out/zpositions.csv',\n",
    "            properties=prop)"
   ]
  },
  {
   "cell_type": "code",
   "execution_count": 20,
   "metadata": {},
   "outputs": [
    {
     "data": {
      "application/vnd.jupyter.widget-view+json": {
       "model_id": "17a69ca9a43d4233afbae5b0f25eb850",
       "version_major": 2,
       "version_minor": 0
      },
      "text/plain": [
       "NGLWidget(max_frame=10000)"
      ]
     },
     "metadata": {},
     "output_type": "display_data"
    }
   ],
   "source": [
    "# We use MDAnalysis to select a region around the protein\n",
    "# https://docs.mdanalysis.org/stable/documentation_pages/selections.html#geometric\n",
    "around_sel = '(cyzone 50 70 -50 protein)'\n",
    "around_resnums = u.select_atoms(around_sel).resnums\n",
    "# Visualization of the selection in green\n",
    "view = nv.show_mdanalysis(u)\n",
    "view.clear_representations()\n",
    "view.add_point(selection=ngl_sel, color='red')\n",
    "view.add_point(selection=f'({\", \".join(map(str, around_resnums))}) and not protein', color='green')\n",
    "view.add_point(selection='protein', color='blue')\n",
    "view"
   ]
  },
  {
   "cell_type": "code",
   "execution_count": 21,
   "metadata": {},
   "outputs": [
    {
     "data": {
      "text/plain": [
       "0"
      ]
     },
     "execution_count": 21,
     "metadata": {},
     "output_type": "execute_result"
    }
   ],
   "source": [
    "# Run the analysis on the selection around the protein\n",
    "prop = {\n",
    "    'lipid_sel': lipid_sel,\n",
    "    'steps': steps,\n",
    "    'height_sel': f'{lipid_sel} and {around_sel}',\n",
    "    'disable_logs': disable_logs\n",
    "}\n",
    "lpp_zpositions(input_top_path=input_top_path,\n",
    "            input_traj_path=input_traj_path,\n",
    "            output_positions_path='out/zpositions_around.csv',\n",
    "            properties=prop)"
   ]
  },
  {
   "cell_type": "markdown",
   "metadata": {},
   "source": [
    "### Plotting the thickness of the membrane"
   ]
  },
  {
   "cell_type": "code",
   "execution_count": 22,
   "metadata": {},
   "outputs": [
    {
     "data": {
      "image/png": "[encoded data removed]",
      "text/plain": [
       "<Figure size 1000x600 with 1 Axes>"
      ]
     },
     "metadata": {},
     "output_type": "display_data"
    }
   ],
   "source": [
    "from biobb_mem.lipyphilic_biobb.lpp_zpositions import frame_df\n",
    "import matplotlib.pyplot as plt\n",
    "\n",
    "grouped = frame_df('out/zpositions.csv')\n",
    "around = frame_df('out/zpositions_around.csv')\n",
    "plt.figure(figsize=(10, 6))\n",
    "# Plot the mean positive and mean negative z positions\n",
    "plt.plot(grouped['mean_positive'], label='Mean Positive', linestyle='-', color='blue')\n",
    "plt.plot(around['mean_positive'], label='Mean Positive 5A around protein', linestyle='--', color='blue')\n",
    "plt.plot(grouped['mean_negative'], label='Mean Negative', linestyle='-', color='red')\n",
    "plt.plot(around['mean_negative'], label='Mean Negative 5A around protein', linestyle='--', color='red')\n",
    "plt.plot(grouped['thickness'], label='Thickness', linestyle='-', color='green')\n",
    "plt.plot(around['thickness'], label='Thickness 5A around protein', linestyle='--', color='green')\n",
    "plt.fill_between(grouped.index, grouped['thickness'] - grouped['std_thickness'], grouped['thickness'] + grouped['std_thickness'], color='green', alpha=0.2, label='Thickness ± Std')\n",
    "plt.title('Scatter Plot of Mean Positive and Mean Negative Z Positions')\n",
    "plt.ylabel('Z Position (Å)'); plt.xlabel('Frame')\n",
    "plt.legend(loc='center left', bbox_to_anchor=(1., 0.5), ncol=1, fancybox=True, shadow=True)\n",
    "plt.show()"
   ]
  },
  {
   "cell_type": "markdown",
   "metadata": {},
   "source": [
    "### Animating the local distorsion"
   ]
  },
  {
   "cell_type": "code",
   "execution_count": 23,
   "metadata": {},
   "outputs": [],
   "source": [
    "view = nv.show_mdanalysis(u)\n",
    "view.clear_representations()\n",
    "#view.add_cartoon(color='awesome')\n",
    "view.add_ball_and_stick(selection=ngl_hd_sel,aspect_ratio=8)\n",
    "view.add_cartoon(selection='protein', color='grey')\n",
    "#view.control.spin([0, 1, 0], -1.57)\n",
    "view.layout.height = '500px'\n",
    "view.background = 'grey'"
   ]
  },
  {
   "cell_type": "code",
   "execution_count": 24,
   "metadata": {},
   "outputs": [],
   "source": [
    "# Custom coloring scheme for the lipids with JavaScript\n",
    "# https://projects.volkamerlab.org/teachopencadd/talktorials/T017_advanced_nglview_usage.html#Custom-coloring-schemes-and-representations\n",
    "template = \"\"\"\n",
    "this.atomColor = function(atom) {\n",
    "    let zPos = atom.z - %(midplane_z)f;\n",
    "    let std = %(factor)f * %(std)f;\n",
    "    let ratio, r, g, b, layerZ;\n",
    "    \n",
    "    if (zPos > 0) { // top leaflet\n",
    "        layerZ = %(top_z)f;\n",
    "    } else { // bottom leaflet\n",
    "        layerZ = -1 * %(bot_z)f;\n",
    "        zPos = -zPos;\n",
    "    }\n",
    "    \n",
    "    if (zPos >= layerZ) { // thickening\n",
    "        ratio = (zPos - layerZ) / std;\n",
    "        ratio = Math.min(1, ratio);\n",
    "        r = Math.floor(255 * (1 - ratio));\n",
    "        g = Math.floor(255 * (1 - ratio)); \n",
    "        b = 255;\n",
    "    } else { // thinning\n",
    "        ratio = -(zPos - layerZ) / std;\n",
    "        ratio = Math.min(1, ratio);\n",
    "        r = 255;\n",
    "        g = Math.floor(255 * (1 - ratio));\n",
    "        b = Math.floor(255 * (1 - ratio));\n",
    "    }\n",
    "    return (r << 16) + (g << 8) + b;\n",
    "}\n",
    "\"\"\"\n",
    "\n",
    "# Calculate the mean positive and negative (top and bottom leaflets) z positions \n",
    "# wrt the midplane of the membrane, and the standard deviation of the thickness.\n",
    "top_z = grouped['mean_positive'].mean()\n",
    "bot_z = grouped['mean_negative'].mean()\n",
    "std   = grouped['std_thickness'].mean()\n",
    "top_z, bot_z, std\n",
    "\n",
    "# Calculate the mean z position of midplane wrt the the box axis.\n",
    "midplane_z = [u.trajectory[i].positions[u.select_atoms(lipid_sel).indices].mean(axis=0)[2] for i in range(0, u.trajectory.n_frames, steps)]\n",
    "def on_frame_change(change):\n",
    "    frame = change['new']\n",
    "    # We use the midplane  \n",
    "    subframe = frame // steps\n",
    "    js_function_combined = template % {\n",
    "        'factor': 3, # Factor to increase the color fade\n",
    "        'midplane_z': midplane_z[subframe],\n",
    "        'std': std,\n",
    "        'top_z': top_z,\n",
    "        'bot_z': bot_z\n",
    "    }\n",
    "    # We have to change the color registry name to trigger the update\n",
    "    nm = \"local_dist\"+str(frame) # One color per frame\n",
    "    nv.color.ColormakerRegistry.add_scheme_func(nm, js_function_combined)\n",
    "    view.update_ball_and_stick(color=nm)"
   ]
  },
  {
   "cell_type": "code",
   "execution_count": 25,
   "metadata": {},
   "outputs": [
    {
     "data": {
      "application/vnd.jupyter.widget-view+json": {
       "model_id": "290b7eedbcf14e5b8c68bfb425be6b3a",
       "version_major": 2,
       "version_minor": 0
      },
      "text/plain": [
       "NGLWidget(background='grey', layout=Layout(height='500px'), max_frame=10000)"
      ]
     },
     "metadata": {},
     "output_type": "display_data"
    }
   ],
   "source": [
    "# Play the animation to see the color change\n",
    "# Problem: the observe event stack and we have to refresh the broswer to eliminate them.\n",
    "view.observe(on_frame_change, names=['frame'])\n",
    "view\n",
    "# Problem: the membrane is tilted, so the visualization is not perfect -> reimaging"
   ]
  },
  {
   "cell_type": "markdown",
   "metadata": {},
   "source": [
    "<a id=\"channel\"></a>\n",
    "***\n",
    "## Channel dimensions"
   ]
  },
  {
   "cell_type": "markdown",
   "metadata": {},
   "source": [
    "Analyze pore dimensions and properties along a channel or transporter pathway.<br>\n",
    "***\n",
    "**Building Blocks** used:\n",
    " - [MDAHole](https://biobb-mem.readthedocs.io/en/latest/mdanalysis_biobb.html#mdanalysis_biobb.mda_hole.MDAHole) from **from biobb_mem.mdanalysis_biobb.mda_hole**\n",
    "***"
   ]
  },
  {
   "cell_type": "code",
   "execution_count": 26,
   "metadata": {},
   "outputs": [
    {
     "name": "stderr",
     "output_type": "stream",
     "text": [
      "/home/rchaves/miniforge3/envs/biobb_wf_mem/lib/python3.11/site-packages/MDAnalysis/analysis/hole2/__init__.py:47: DeprecationWarning:\n",
      "\n",
      "Deprecated in version 2.8.0\n",
      "MDAnalysis.analysis.hole2 is deprecated in favour of the MDAKit madahole2 (https://www.mdanalysis.org/mdahole2/) and will be removed in MDAnalysis version 3.0.0\n",
      "\n",
      "/home/rchaves/miniforge3/envs/biobb_wf_mem/lib/python3.11/site-packages/MDAnalysis/coordinates/PDB.py:1154: UserWarning:\n",
      "\n",
      "Found no information for attr: 'formalcharges' Using default value of '0'\n",
      "\n",
      "/home/rchaves/miniforge3/envs/biobb_wf_mem/lib/python3.11/site-packages/MDAnalysis/lib/util.py:575: DeprecationWarning:\n",
      "\n",
      "This method is deprecated as of MDAnalysis version 2.7.0 and will be removed in version 3.0.0. Please use shutil.which instead.\n",
      "\n"
     ]
    },
    {
     "data": {
      "text/plain": [
       "0"
      ]
     },
     "execution_count": 26,
     "metadata": {},
     "output_type": "execute_result"
    }
   ],
   "source": [
    "from biobb_mem.mdanalysis_biobb.mda_hole import mda_hole\n",
    "\n",
    "prop = {\n",
    "    'select': 'protein',\n",
    "    'steps': steps,\n",
    "    'sample': 0.1,\n",
    "    'disable_logs': disable_logs\n",
    "}\n",
    "mda_hole(input_top_path=input_top_path,\n",
    "         input_traj_path=input_traj_path,\n",
    "         output_hole_path='out/hole.vmd',\n",
    "         properties=prop)"
   ]
  },
  {
   "cell_type": "code",
   "execution_count": null,
   "metadata": {},
   "outputs": [],
   "source": [
    "from biobb_mem.mdanalysis_biobb.mda_hole import display_hole\n",
    "\n",
    "# TODO: add trajectory data, if we represent the positions of the topology\n",
    "# the channels is in the wrong position. \n",
    "display_hole(input_top_path,output_hole_path='out/hole.vmd', opacity=0.9)"
   ]
  },
  {
   "cell_type": "code",
   "execution_count": 7,
   "metadata": {},
   "outputs": [],
   "source": [
    "# TODO: radius plots"
   ]
  },
  {
   "cell_type": "markdown",
   "metadata": {},
   "source": [
    "***\n",
    "<a id=\"questions\"></a>\n",
    "\n",
    "## Questions & Comments\n",
    "\n",
    "Questions, issues, suggestions and comments are really welcome!\n",
    "\n",
    "* GitHub issues:\n",
    "    * [https://github.com/bioexcel/biobb](https://github.com/bioexcel/biobb)\n",
    "    * [https://github.com/bioexcel/biobb_wf_mem/issues](https://github.com/bioexcel/biobb_wf_mem/issues)\n",
    "\n",
    "* BioExcel forum:\n",
    "    * [https://ask.bioexcel.eu/c/BioExcel-Building-Blocks-library](https://ask.bioexcel.eu/c/BioExcel-Building-Blocks-library)\n",
    "\n",
    "* Mail:\n",
    "    * [ruben.chaves@irbbarcelona.org](mailto:ruben.chaves@irbbarcelona.org)"
   ]
  }
 ],
 "metadata": {
  "kernelspec": {
   "display_name": "Python 3 (ipykernel)",
   "language": "python",
   "name": "python3"
  },
  "language_info": {
   "codemirror_mode": {
    "name": "ipython",
    "version": 3
   },
   "file_extension": ".py",
   "mimetype": "text/x-python",
   "name": "python",
   "nbconvert_exporter": "python",
   "pygments_lexer": "ipython3",
   "version": "3.11.10"
  }
 },
 "nbformat": 4,
 "nbformat_minor": 4
}
