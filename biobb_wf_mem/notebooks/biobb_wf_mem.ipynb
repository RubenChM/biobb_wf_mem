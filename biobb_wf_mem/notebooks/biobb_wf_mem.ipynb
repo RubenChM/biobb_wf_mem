{
 "cells": [
  {
   "cell_type": "code",
   "execution_count": 42,
   "metadata": {},
   "outputs": [
    {
     "data": {
      "application/vnd.jupyter.widget-view+json": {
       "model_id": "053dbbeb1084461fb1724264572c78af",
       "version_major": 2,
       "version_minor": 0
      },
      "text/plain": []
     },
     "metadata": {},
     "output_type": "display_data"
    }
   ],
   "source": [
    "import os, requests\n",
    "import pandas as pd\n",
    "import nglview as nv\n",
    "import matplotlib.pyplot as plt\n",
    "import MDAnalysis as mda\n",
    "from ipywidgets import Output"
   ]
  },
  {
   "cell_type": "markdown",
   "metadata": {},
   "source": [
    "<a id=\"input\"></a>\n",
    "## Input parameters"
   ]
  },
  {
   "cell_type": "markdown",
   "metadata": {},
   "source": [
    "**Input parameters** needed:\n",
    " - **MD_id**: PDB code of the protein structure (e.g. [A01M6](https://mmb-dev.mddbr.eu/#/id/A01M6/overview))"
   ]
  },
  {
   "cell_type": "code",
   "execution_count": 43,
   "metadata": {},
   "outputs": [],
   "source": [
    "MD_id = 'A01M6'\n",
    "steps = 1500\n",
    "lipid_sel = '(resname DPPC and name P8)'\n",
    "ngl_sel = 'DPPC'\n",
    "ngl_hd_sel = f'{ngl_sel} and _P'\n",
    "\n",
    "# common arguments for all the components\n",
    "input_top_path = f'data/{MD_id}.pdb'\n",
    "input_traj_path = f'data/{MD_id}.xtc'\n",
    "\n",
    "#\n",
    "disable_logs = True"
   ]
  },
  {
   "cell_type": "markdown",
   "metadata": {},
   "source": [
    "<a id=\"fetch\"></a>\n",
    "***\n",
    "## Fetching structure and trajectory"
   ]
  },
  {
   "cell_type": "code",
   "execution_count": 3,
   "metadata": {},
   "outputs": [],
   "source": [
    "# Check if folders 'out' and 'tmp' exist and create them if not\n",
    "for folder in ['out', 'data']:\n",
    "    if not os.path.exists(folder):\n",
    "        os.makedirs(folder)\n",
    "        print(f\"Created folder: {folder}\")\n",
    "\n",
    "# Check if PDB and XTC files already exist\n",
    "if not os.path.exists(f\"data/{MD_id}.pdb\"):\n",
    "    # Download PDB\n",
    "    headers = {'accept': 'chemical/x-pdb'}\n",
    "    url = f\"https://mmb-dev.mddbr.eu/api/rest/v1/projects/{MD_id}/files/structure.pdb\"\n",
    "    response = requests.get(url, headers=headers)\n",
    "    if response.status_code == 200:\n",
    "        pdb_content = response.text\n",
    "        # Save the PDB content to a file\n",
    "        with open(f\"{MD_id}.pdb\", 'w') as pdb_file:   \n",
    "            pdb_file.write(pdb_content)\n",
    "        print(f\"Saved PDB file\")\n",
    "    else:\n",
    "        print(f\"Error for the PDB file: {response.status_code}\")\n",
    "\n",
    "if not os.path.exists(f\"data/{MD_id}.xtc\"): \n",
    "    # Download XTC\n",
    "    headers2 = {'accept': 'application/octet-stream'}\n",
    "    url2= f'https://mmb-dev.mddbr.eu/api/rest/v1/projects/{MD_id}/files/trajectory.xtc'\n",
    "    response2 = requests.get(url2, headers=headers2)\n",
    "    if response2.status_code == 200:\n",
    "        xtc_content = response2.content\n",
    "        with open(f\"{MD_id}.xtc\", 'wb') as xtc_file:\n",
    "            xtc_file.write(xtc_content)\n",
    "        print(f\"Saved XTC file\")\n",
    "    else:\n",
    "        print(f\"Error for the XTC file: {response2.status_code}\")"
   ]
  },
  {
   "cell_type": "code",
   "execution_count": 4,
   "metadata": {},
   "outputs": [
    {
     "data": {
      "application/vnd.jupyter.widget-view+json": {
       "model_id": "2304340deeba4055b50bc4d9e6067a51",
       "version_major": 2,
       "version_minor": 0
      },
      "text/plain": [
       "NGLWidget()"
      ]
     },
     "metadata": {},
     "output_type": "display_data"
    }
   ],
   "source": [
    "view = nv.show_file(input_top_path)\n",
    "view"
   ]
  },
  {
   "cell_type": "markdown",
   "metadata": {},
   "source": [
    "<a id=\"fatslim\"></a>\n",
    "***\n",
    "## Membrane identification with FATSLiM"
   ]
  },
  {
   "cell_type": "markdown",
   "metadata": {},
   "source": [
    "Membrane identification...<br>\n",
    "***\n",
    "**Building Blocks** used:\n",
    " - [FatslimMembranes](https://biobb-mem.readthedocs.io/en/latest/fatslim.html#module-fatslim.fatslim_membranes) from **biobb_mem.fatslim.fatslim_membranes**\n",
    "***"
   ]
  },
  {
   "cell_type": "code",
   "execution_count": 2,
   "metadata": {},
   "outputs": [
    {
     "name": "stderr",
     "output_type": "stream",
     "text": [
      "/home/rchaves/miniforge3/envs/biobb_mem/lib/python3.10/site-packages/Bio/Application/__init__.py:39: BiopythonDeprecationWarning: The Bio.Application modules and modules relying on it have been deprecated.\n",
      "\n",
      "Due to the on going maintenance burden of keeping command line application\n",
      "wrappers up to date, we have decided to deprecate and eventually remove these\n",
      "modules.\n",
      "\n",
      "We instead now recommend building your command line and invoking it directly\n",
      "with the subprocess module.\n",
      "  warnings.warn(\n"
     ]
    }
   ],
   "source": [
    "from biobb_mem.fatslim.fatslim_membranes import fatslim_membranes\n",
    "from biobb_mem.fatslim.fatslim_membranes import display_fatslim"
   ]
  },
  {
   "cell_type": "markdown",
   "metadata": {},
   "source": [
    "### FATSLiM examples"
   ]
  },
  {
   "cell_type": "code",
   "execution_count": 7,
   "metadata": {},
   "outputs": [],
   "source": [
    "# From https://github.com/FATSLiM/fatslim/tree/master/fatslimlib/test/data\n",
    "if not os.path.exists(f\"data/bilayer_multi.gro\"):\n",
    "    !wget https://raw.githubusercontent.com/FATSLiM/fatslim/refs/heads/master/fatslimlib/test/data/bilayer_multi.gro -P data\n",
    "\n",
    "if not os.path.exists(f\"data/dppc_vesicle.gro\"):\n",
    "    !wget https://raw.githubusercontent.com/FATSLiM/fatslim/refs/heads/master/fatslimlib/test/data/dppc_vesicle.gro -P data\n",
    "\n",
    "# From https://cgmartini.nl/docs/downloads/example-applications/micelles.html:\n",
    "if not os.path.exists(f\"data/dpc.gro\"):\n",
    "    !wget https://cgmartini-library.s3.ca-central-1.amazonaws.com/1_Downloads/example_applications/micelles/dpc.gro -P data"
   ]
  },
  {
   "cell_type": "code",
   "execution_count": null,
   "metadata": {},
   "outputs": [
    {
     "name": "stdout",
     "output_type": "stream",
     "text": [
      "2024-12-09 18:03:05,162 [MainThread  ] [INFO ]  Module: biobb_mem.fatslim.fatslim_membranes Version: 5.0.2\n",
      "2024-12-09 18:03:05,163 [MainThread  ] [INFO ]  /home/rchaves/repo/biobb_wf_mem/biobb_wf_mem/notebooks/sandbox_ebea22a6-899d-472a-9e0a-8f97a8ee8a16 directory successfully created\n",
      "2024-12-09 18:03:05,164 [MainThread  ] [INFO ]  Copy: data/dpc.gro to /home/rchaves/repo/biobb_wf_mem/biobb_wf_mem/notebooks/sandbox_ebea22a6-899d-472a-9e0a-8f97a8ee8a16\n",
      "2024-12-09 18:03:05,267 [MainThread  ] [INFO ]  fatslim membranes -n e56e7423-8bd8-4365-a950-00462824fd5a/headgroups.ndx -c /home/rchaves/repo/biobb_wf_mem/biobb_wf_mem/notebooks/sandbox_ebea22a6-899d-472a-9e0a-8f97a8ee8a16/dpc.gro --output-index 3cf3c622-8770-44ec-8012-9617ac72fa95/output.ndx --cutoff 2.2 --begin-frame -1 --end-frame -1\n",
      "\n",
      "2024-12-09 18:03:05,508 [MainThread  ] [INFO ]  Executing: fatslim membranes -n e56e7423-8bd8-4365-a950-00462824fd5a/headgroups.ndx -c /hom...\n",
      "2024-12-09 18:03:05,509 [MainThread  ] [INFO ]  Exit code: 0\n",
      "2024-12-09 18:03:05,509 [MainThread  ] [INFO ]  FATSLiM - Fast Analysis Toolbox for Simulations of Lipid Membranes\n",
      "version 0.2.2\n",
      "Copyright (c) 2013-2016 Sébastien Buchoux\n",
      "\n",
      "Running command: 'membranes'... This may take some time, be patient!\n",
      "Analysis will be performed using 16 threads.\n",
      "Analysing frame     1/    1 (time: 0 ps)... done in 66 ms (Remaining: 0 s)\n",
      "'membranes' command executed in 84.226 ms (CPU)\n",
      "Goodbye!\n",
      "\n",
      "2024-12-09 18:03:05,511 [MainThread  ] [INFO ]  Removed: ['/home/rchaves/repo/biobb_wf_mem/biobb_wf_mem/notebooks/sandbox_ebea22a6-899d-472a-9e0a-8f97a8ee8a16', 'e56e7423-8bd8-4365-a950-00462824fd5a', '3cf3c622-8770-44ec-8012-9617ac72fa95']\n",
      "2024-12-09 18:03:05,511 [MainThread  ] [INFO ]  \n",
      "2024-12-09 18:03:05,656 [MainThread  ] [INFO ]  Module: biobb_mem.fatslim.fatslim_membranes Version: 5.0.2\n",
      "2024-12-09 18:03:05,657 [MainThread  ] [INFO ]  /home/rchaves/repo/biobb_wf_mem/biobb_wf_mem/notebooks/sandbox_997f3524-fed6-4563-bc1f-f7d242a6ccc4 directory successfully created\n",
      "2024-12-09 18:03:05,657 [MainThread  ] [INFO ]  Copy: data/bilayer_multi.gro to /home/rchaves/repo/biobb_wf_mem/biobb_wf_mem/notebooks/sandbox_997f3524-fed6-4563-bc1f-f7d242a6ccc4\n",
      "2024-12-09 18:03:05,731 [MainThread  ] [INFO ]  fatslim membranes -n 73f6ee19-65e5-42d3-aace-885b38b00701/headgroups.ndx -c /home/rchaves/repo/biobb_wf_mem/biobb_wf_mem/notebooks/sandbox_997f3524-fed6-4563-bc1f-f7d242a6ccc4/bilayer_multi.gro --output-index ecb09595-2101-44a3-b9be-4cc25e68a850/output.ndx --cutoff 2.2 --begin-frame -1 --end-frame -1\n",
      "\n",
      "2024-12-09 18:03:06,624 [MainThread  ] [INFO ]  Executing: fatslim membranes -n 73f6ee19-65e5-42d3-aace-885b38b00701/headgroups.ndx -c /hom...\n",
      "2024-12-09 18:03:06,625 [MainThread  ] [INFO ]  Exit code: 0\n",
      "2024-12-09 18:03:06,625 [MainThread  ] [INFO ]  FATSLiM - Fast Analysis Toolbox for Simulations of Lipid Membranes\n",
      "version 0.2.2\n",
      "Copyright (c) 2013-2016 Sébastien Buchoux\n",
      "\n",
      "Running command: 'membranes'... This may take some time, be patient!\n",
      "Analysis will be performed using 16 threads.\n",
      "Analysing frame     1/    1 (time: 0 ps)... done in 711 ms (Remaining: 0 s)\n",
      "'membranes' command executed in 730.270 ms (CPU)\n",
      "Goodbye!\n",
      "\n",
      "2024-12-09 18:03:06,626 [MainThread  ] [INFO ]  Removed: ['/home/rchaves/repo/biobb_wf_mem/biobb_wf_mem/notebooks/sandbox_997f3524-fed6-4563-bc1f-f7d242a6ccc4', '73f6ee19-65e5-42d3-aace-885b38b00701', 'ecb09595-2101-44a3-b9be-4cc25e68a850']\n",
      "2024-12-09 18:03:06,627 [MainThread  ] [INFO ]  \n",
      "2024-12-09 18:03:06,797 [MainThread  ] [INFO ]  Module: biobb_mem.fatslim.fatslim_membranes Version: 5.0.2\n",
      "2024-12-09 18:03:06,798 [MainThread  ] [INFO ]  /home/rchaves/repo/biobb_wf_mem/biobb_wf_mem/notebooks/sandbox_0dbb6d71-bec7-45c5-b267-07ed4631d47f directory successfully created\n",
      "2024-12-09 18:03:06,799 [MainThread  ] [INFO ]  Copy: data/dppc_vesicle.gro to /home/rchaves/repo/biobb_wf_mem/biobb_wf_mem/notebooks/sandbox_0dbb6d71-bec7-45c5-b267-07ed4631d47f\n",
      "2024-12-09 18:03:07,110 [MainThread  ] [INFO ]  fatslim membranes -n 9de9b99d-ef2d-4d57-8b8b-c0248e7812b9/headgroups.ndx -c /home/rchaves/repo/biobb_wf_mem/biobb_wf_mem/notebooks/sandbox_0dbb6d71-bec7-45c5-b267-07ed4631d47f/dppc_vesicle.gro --output-index 863b485f-f9e7-464c-aef8-7147ea3dd53d/output.ndx --cutoff 2.2 --begin-frame -1 --end-frame -1\n",
      "\n",
      "2024-12-09 18:03:09,870 [MainThread  ] [INFO ]  Executing: fatslim membranes -n 9de9b99d-ef2d-4d57-8b8b-c0248e7812b9/headgroups.ndx -c /hom...\n",
      "2024-12-09 18:03:09,870 [MainThread  ] [INFO ]  Exit code: 0\n",
      "2024-12-09 18:03:09,871 [MainThread  ] [INFO ]  FATSLiM - Fast Analysis Toolbox for Simulations of Lipid Membranes\n",
      "version 0.2.2\n",
      "Copyright (c) 2013-2016 Sébastien Buchoux\n",
      "\n",
      "Running command: 'membranes'... This may take some time, be patient!\n",
      "Analysis will be performed using 16 threads.\n",
      "Analysing frame     1/    1 (time: 0 ps)... done in 3 s (Remaining: 0 s)\n",
      "'membranes' command executed in 2.631 s (CPU)\n",
      "Goodbye!\n",
      "\n",
      "2024-12-09 18:03:09,872 [MainThread  ] [INFO ]  Removed: ['/home/rchaves/repo/biobb_wf_mem/biobb_wf_mem/notebooks/sandbox_0dbb6d71-bec7-45c5-b267-07ed4631d47f', '9de9b99d-ef2d-4d57-8b8b-c0248e7812b9', '863b485f-f9e7-464c-aef8-7147ea3dd53d']\n",
      "2024-12-09 18:03:09,873 [MainThread  ] [INFO ]  \n"
     ]
    }
   ],
   "source": [
    "lipid_sel_CG='name PO4'\n",
    "prop_CG = {\n",
    "        'selection': lipid_sel_CG,\n",
    "        'cutoff': 2.2,\n",
    "        'ignore_no_box': True,\n",
    "        'disable_logs': disable_logs\n",
    "    }\n",
    "tops  = ['data/dpc.gro', 'data/bilayer_multi.gro', 'data/dppc_vesicle.gro']\n",
    "outs  = ['out/dpc.ndx', 'out/bilayer_multi.ndx', 'out/dppc_vesicle.ndx']\n",
    "views = []\n",
    "for top,out in zip(tops, outs):\n",
    "    fatslim_membranes(input_top_path=top,\n",
    "                    output_ndx_path=out,\n",
    "                    properties=prop_CG)\n",
    "    view = display_fatslim(top,lipid_sel_CG,output_ndx_path=out, leaflets=True)\n",
    "    view.add_ball_and_stick(selection='.PO4', color='white') # headgroups\n",
    "    view.layout.width = '100%'\n",
    "    views.append(view)"
   ]
  },
  {
   "cell_type": "markdown",
   "metadata": {},
   "source": [
    "In red the lipids that do not correspond to any membrane"
   ]
  },
  {
   "cell_type": "code",
   "execution_count": 9,
   "metadata": {},
   "outputs": [
    {
     "data": {
      "application/vnd.jupyter.widget-view+json": {
       "model_id": "d4b74e6b433e4d51ac2227f1b5d77976",
       "version_major": 2,
       "version_minor": 0
      },
      "text/plain": [
       "HBox(children=(NGLWidget(layout=Layout(width='100%')), NGLWidget(layout=Layout(width='100%')), NGLWidget(layou…"
      ]
     },
     "execution_count": 9,
     "metadata": {},
     "output_type": "execute_result"
    }
   ],
   "source": [
    "from ipywidgets import HBox\n",
    "HBox(views)"
   ]
  },
  {
   "cell_type": "markdown",
   "metadata": {},
   "source": [
    "### Our case"
   ]
  },
  {
   "cell_type": "code",
   "execution_count": 9,
   "metadata": {},
   "outputs": [
    {
     "name": "stdout",
     "output_type": "stream",
     "text": [
      "Warning: trajectory probably has no box variable. Setting dimensions ussing the minimum and maximum positions of the atoms.\n",
      "\n",
      "cmd_wrapper commnand print: gmx editconf -f /home/rchaves/repo/biobb_wf_mem/biobb_wf_mem/notebooks/sandbox_d4b8f511-0ff6-4937-bb8b-2cd9e00c248a/A01M6.pdb -o 6e204498-bd8c-44e4-a680-78e8c781fad5/output.gro -box 167.68 173.51001 126.630005 ; fatslim membranes -n cbaf3a3e-1660-4709-ba42-bffa3beb0e7c/headgroups.ndx -c 6e204498-bd8c-44e4-a680-78e8c781fad5/output.gro --output-index f8342f75-9c65-4403-83ed-0f86e6f682c2/output.ndx --cutoff 2.2 --begin-frame -1 --end-frame -1\n",
      "Executing: gmx editconf -f /home/rchaves/repo/biobb_wf_mem/biobb_wf_mem/notebooks/sandbox_d...\n",
      "Exit code: 0\n",
      "\n"
     ]
    },
    {
     "data": {
      "text/plain": [
       "0"
      ]
     },
     "execution_count": 9,
     "metadata": {},
     "output_type": "execute_result"
    }
   ],
   "source": [
    "prop = {\n",
    "    'selection': lipid_sel,\n",
    "    'cutoff': 2.2,\n",
    "    'ignore_no_box': True,\n",
    "    'disable_logs': disable_logs\n",
    "}\n",
    "fatslim_membranes(input_top_path=input_top_path,\n",
    "                  input_traj_path=input_traj_path,\n",
    "                  output_ndx_path=\"out/leaflets.ndx\",\n",
    "                  properties=prop)"
   ]
  },
  {
   "cell_type": "code",
   "execution_count": 11,
   "metadata": {},
   "outputs": [
    {
     "data": {
      "application/vnd.jupyter.widget-view+json": {
       "model_id": "49178ba286bf4e528303ae5c270b7a35",
       "version_major": 2,
       "version_minor": 0
      },
      "text/plain": [
       "NGLWidget(layout=Layout(height='400px'))"
      ]
     },
     "metadata": {},
     "output_type": "display_data"
    }
   ],
   "source": [
    "view = display_fatslim(input_top_path,lipid_sel,output_ndx_path=\"out/leaflets.ndx\")\n",
    "view.add_ball_and_stick(selection=ngl_hd_sel, color='white',aspect_ratio=4) # headgroups\n",
    "view.layout.height = '400px'\n",
    "view"
   ]
  },
  {
   "cell_type": "code",
   "execution_count": null,
   "metadata": {},
   "outputs": [
    {
     "name": "stdout",
     "output_type": "stream",
     "text": [
      "\u001b[0;31mSignature:\u001b[0m \u001b[0mparse_index\u001b[0m\u001b[0;34m(\u001b[0m\u001b[0mndx\u001b[0m\u001b[0;34m)\u001b[0m\u001b[0;34m\u001b[0m\u001b[0;34m\u001b[0m\u001b[0m\n",
      "\u001b[0;31mSource:\u001b[0m   \n",
      "\u001b[0;32mdef\u001b[0m \u001b[0mparse_index\u001b[0m\u001b[0;34m(\u001b[0m\u001b[0mndx\u001b[0m\u001b[0;34m)\u001b[0m\u001b[0;34m:\u001b[0m\u001b[0;34m\u001b[0m\n",
      "\u001b[0;34m\u001b[0m    \u001b[0;34m\"\"\"\u001b[0m\n",
      "\u001b[0;34m    Parses a GROMACS index file (.ndx) to extract leaflet groups.\u001b[0m\n",
      "\u001b[0;34m\u001b[0m\n",
      "\u001b[0;34m    Args:\u001b[0m\n",
      "\u001b[0;34m        ndx (str): Path to the GROMACS index file (.ndx).\u001b[0m\n",
      "\u001b[0;34m    Returns:\u001b[0m\n",
      "\u001b[0;34m        dict: A dictionary where keys are group names and values are lists of integers representing atom indices.\u001b[0m\n",
      "\u001b[0;34m    \"\"\"\u001b[0m\u001b[0;34m\u001b[0m\n",
      "\u001b[0;34m\u001b[0m\u001b[0;34m\u001b[0m\n",
      "\u001b[0;34m\u001b[0m    \u001b[0;31m# Read the leaflet.ndx file\u001b[0m\u001b[0;34m\u001b[0m\n",
      "\u001b[0;34m\u001b[0m    \u001b[0;32mwith\u001b[0m \u001b[0mopen\u001b[0m\u001b[0;34m(\u001b[0m\u001b[0mndx\u001b[0m\u001b[0;34m,\u001b[0m \u001b[0;34m'r'\u001b[0m\u001b[0;34m)\u001b[0m \u001b[0;32mas\u001b[0m \u001b[0mfile\u001b[0m\u001b[0;34m:\u001b[0m\u001b[0;34m\u001b[0m\n",
      "\u001b[0;34m\u001b[0m        \u001b[0mleaflet_data\u001b[0m \u001b[0;34m=\u001b[0m \u001b[0mfile\u001b[0m\u001b[0;34m.\u001b[0m\u001b[0mreadlines\u001b[0m\u001b[0;34m(\u001b[0m\u001b[0;34m)\u001b[0m\u001b[0;34m\u001b[0m\n",
      "\u001b[0;34m\u001b[0m\u001b[0;34m\u001b[0m\n",
      "\u001b[0;34m\u001b[0m    \u001b[0;31m# Initialize dictionaries to store leaflet groups\u001b[0m\u001b[0;34m\u001b[0m\n",
      "\u001b[0;34m\u001b[0m    \u001b[0mleaflet_groups\u001b[0m \u001b[0;34m=\u001b[0m \u001b[0;34m{\u001b[0m\u001b[0;34m}\u001b[0m\u001b[0;34m\u001b[0m\n",
      "\u001b[0;34m\u001b[0m    \u001b[0mcurrent_group\u001b[0m \u001b[0;34m=\u001b[0m \u001b[0;32mNone\u001b[0m\u001b[0;34m\u001b[0m\n",
      "\u001b[0;34m\u001b[0m\u001b[0;34m\u001b[0m\n",
      "\u001b[0;34m\u001b[0m    \u001b[0;31m# Parse the leaflet.ndx file\u001b[0m\u001b[0;34m\u001b[0m\n",
      "\u001b[0;34m\u001b[0m    \u001b[0;32mfor\u001b[0m \u001b[0mline\u001b[0m \u001b[0;32min\u001b[0m \u001b[0mleaflet_data\u001b[0m\u001b[0;34m:\u001b[0m\u001b[0;34m\u001b[0m\n",
      "\u001b[0;34m\u001b[0m        \u001b[0mline\u001b[0m \u001b[0;34m=\u001b[0m \u001b[0mline\u001b[0m\u001b[0;34m.\u001b[0m\u001b[0mstrip\u001b[0m\u001b[0;34m(\u001b[0m\u001b[0;34m)\u001b[0m\u001b[0;34m\u001b[0m\n",
      "\u001b[0;34m\u001b[0m        \u001b[0;32mif\u001b[0m \u001b[0mline\u001b[0m\u001b[0;34m.\u001b[0m\u001b[0mstartswith\u001b[0m\u001b[0;34m(\u001b[0m\u001b[0;34m'['\u001b[0m\u001b[0;34m)\u001b[0m \u001b[0;32mand\u001b[0m \u001b[0mline\u001b[0m\u001b[0;34m.\u001b[0m\u001b[0mendswith\u001b[0m\u001b[0;34m(\u001b[0m\u001b[0;34m']'\u001b[0m\u001b[0;34m)\u001b[0m\u001b[0;34m:\u001b[0m\u001b[0;34m\u001b[0m\n",
      "\u001b[0;34m\u001b[0m            \u001b[0mcurrent_group\u001b[0m \u001b[0;34m=\u001b[0m \u001b[0mline\u001b[0m\u001b[0;34m[\u001b[0m\u001b[0;36m1\u001b[0m\u001b[0;34m:\u001b[0m\u001b[0;34m-\u001b[0m\u001b[0;36m1\u001b[0m\u001b[0;34m]\u001b[0m\u001b[0;34m.\u001b[0m\u001b[0mstrip\u001b[0m\u001b[0;34m(\u001b[0m\u001b[0;34m)\u001b[0m\u001b[0;34m\u001b[0m\n",
      "\u001b[0;34m\u001b[0m            \u001b[0mleaflet_groups\u001b[0m\u001b[0;34m[\u001b[0m\u001b[0mcurrent_group\u001b[0m\u001b[0;34m]\u001b[0m \u001b[0;34m=\u001b[0m \u001b[0;34m[\u001b[0m\u001b[0;34m]\u001b[0m\u001b[0;34m\u001b[0m\n",
      "\u001b[0;34m\u001b[0m        \u001b[0;32melif\u001b[0m \u001b[0mcurrent_group\u001b[0m \u001b[0;32mis\u001b[0m \u001b[0;32mnot\u001b[0m \u001b[0;32mNone\u001b[0m\u001b[0;34m:\u001b[0m\u001b[0;34m\u001b[0m\n",
      "\u001b[0;34m\u001b[0m            \u001b[0mleaflet_groups\u001b[0m\u001b[0;34m[\u001b[0m\u001b[0mcurrent_group\u001b[0m\u001b[0;34m]\u001b[0m\u001b[0;34m.\u001b[0m\u001b[0mextend\u001b[0m\u001b[0;34m(\u001b[0m\u001b[0mmap\u001b[0m\u001b[0;34m(\u001b[0m\u001b[0mint\u001b[0m\u001b[0;34m,\u001b[0m \u001b[0mline\u001b[0m\u001b[0;34m.\u001b[0m\u001b[0msplit\u001b[0m\u001b[0;34m(\u001b[0m\u001b[0;34m)\u001b[0m\u001b[0;34m)\u001b[0m\u001b[0;34m)\u001b[0m\u001b[0;34m\u001b[0m\n",
      "\u001b[0;34m\u001b[0m    \u001b[0;32mreturn\u001b[0m \u001b[0mleaflet_groups\u001b[0m\u001b[0;34m\u001b[0m\u001b[0;34m\u001b[0m\u001b[0m\n",
      "\u001b[0;31mFile:\u001b[0m      ~/repo/biobb_mem/biobb_mem/fatslim/fatslim_membranes.py\n",
      "\u001b[0;31mType:\u001b[0m      function"
     ]
    }
   ],
   "source": [
    "from biobb_mem.fatslim.fatslim_membranes import parse_index\n",
    "parse_index??"
   ]
  },
  {
   "cell_type": "markdown",
   "metadata": {},
   "source": [
    "<a id=\"density\"></a>\n",
    "***\n",
    "## Density profile"
   ]
  },
  {
   "cell_type": "markdown",
   "metadata": {},
   "source": [
    "Calculate density... [amber selection masks](https://amberhub.chpc.utah.edu/atom-mask-selection-syntax/)<br>\n",
    "***\n",
    "**Building Blocks** used:\n",
    " - [CpptrajDensity](https://biobb-mem.readthedocs.io/en/latest/ambertools.html#module-ambertools.cpptraj_density) from **biobb_mem.ambertools.cpptraj_density**\n",
    "***"
   ]
  },
  {
   "cell_type": "code",
   "execution_count": null,
   "metadata": {},
   "outputs": [
    {
     "name": "stdout",
     "output_type": "stream",
     "text": [
      "2024-12-05 15:24:18,789 [MainThread  ] [INFO ]  Module: biobb_mem.ambertools.cpptraj_density Version: 5.0.2\n",
      "2024-12-05 15:24:18,790 [MainThread  ] [INFO ]  /home/rchaves/repo/biobb_wf_mem/biobb_wf_mem/notebooks/sandbox_e130a480-f3dd-4c6e-a1d9-3e64bff3c1bb directory successfully created\n",
      "2024-12-05 15:24:18,792 [MainThread  ] [INFO ]  Copy: data/A01M6.pdb to /home/rchaves/repo/biobb_wf_mem/biobb_wf_mem/notebooks/sandbox_e130a480-f3dd-4c6e-a1d9-3e64bff3c1bb\n",
      "2024-12-05 15:24:19,367 [MainThread  ] [INFO ]  Copy: data/A01M6.xtc to /home/rchaves/repo/biobb_wf_mem/biobb_wf_mem/notebooks/sandbox_e130a480-f3dd-4c6e-a1d9-3e64bff3c1bb\n",
      "2024-12-05 15:24:19,367 [MainThread  ] [INFO ]  cpptraj -i 12090ea6-2d44-486b-8d7f-443f222c576c/instructions.in\n",
      "\n",
      "2024-12-05 15:24:19,546 [MainThread  ] [INFO ]  Executing: cpptraj -i 12090ea6-2d44-486b-8d7f-443f222c576c/instructions.in...\n",
      "2024-12-05 15:24:19,547 [MainThread  ] [INFO ]  Exit code: 0\n",
      "2024-12-05 15:24:19,548 [MainThread  ] [INFO ]  \n",
      "CPPTRAJ: Trajectory Analysis. V6.18.1 (AmberTools)\n",
      "    ___  ___  ___  ___\n",
      "     | \\/ | \\/ | \\/ | \n",
      "    _|_/\\_|_/\\_|_/\\_|_\n",
      "\n",
      "| Date/time: 12/05/24 15:24:19\n",
      "| Available memory: 18.916 GB\n",
      "\n",
      "INPUT: Reading input from '12090ea6-2d44-486b-8d7f-443f222c576c/instructions.in'\n",
      "  [parm /home/rchaves/repo/biobb_wf_mem/biobb_wf_mem/notebooks/sandbox_e130a480-f3dd-4c6e-a1d9-3e64bff3c1bb/A01M6.pdb]\n",
      "\tReading '/home/rchaves/repo/biobb_wf_mem/biobb_wf_mem/notebooks/sandbox_e130a480-f3dd-4c6e-a1d9-3e64bff3c1bb/A01M6.pdb' as PDB File\n",
      "\tReading bond info from CONECT records.\n",
      "\tNot reading bond info from LINK records.\n",
      "\tDetermining bond info from distances.\n",
      "Warning: Determining bond length parameters from element types for 'A01M6.pdb'.\n",
      "  [trajin /home/rchaves/repo/biobb_wf_mem/biobb_wf_mem/notebooks/sandbox_e130a480-f3dd-4c6e-a1d9-3e64bff3c1bb/A01M6.xtc 1 -1 1500]\n",
      "\tReading '/home/rchaves/repo/biobb_wf_mem/biobb_wf_mem/notebooks/sandbox_e130a480-f3dd-4c6e-a1d9-3e64bff3c1bb/A01M6.xtc' as Gromacs XTC\n",
      "Warning: Trajectory box type is 'Tetragonal' but topology box type is 'None'.\n",
      "Warning: Setting topology box information from trajectory.\n",
      "  [density number out /home/rchaves/repo/biobb_wf_mem/biobb_wf_mem/notebooks/sandbox_e130a480-f3dd-4c6e-a1d9-3e64bff3c1bb/density_mask.dat ::M ::A,B delta 0.25 z bincenter]\n",
      "    DENSITY: Determining number density for 2 masks.\n",
      "\troutine version: 1.0.3\n",
      "\tDelta is 0.250000\n",
      "\tAxis is Z\n",
      "\tData set name is 'DENSITY_00001'\n",
      "\tData set aspect [avg] holds the mean, aspect [sd] holds standard deviation.\n",
      "\tBin coordinates will be to bin center.\n",
      "\tOutput to '/home/rchaves/repo/biobb_wf_mem/biobb_wf_mem/notebooks/sandbox_e130a480-f3dd-4c6e-a1d9-3e64bff3c1bb/density_mask.dat'\n",
      "---------- RUN BEGIN -------------------------------------------------\n",
      "\n",
      "PARAMETER FILES (1 total):\n",
      " 0: A01M6.pdb, 47441 atoms, 2259 res, box: Tetragonal, 599 mol\n",
      "\n",
      "INPUT TRAJECTORIES (1 total):\n",
      " 0: 'A01M6.xtc' is a GROMACS XTC file, Parm A01M6.pdb (Tetragonal box) (reading 7 of 10001)\n",
      "  Coordinate processing will occur on 7 frames.\n",
      "\n",
      "BEGIN TRAJECTORY PROCESSING:\n",
      ".....................................................\n",
      "ACTION SETUP FOR PARM 'A01M6.pdb' (1 actions):\n",
      "  0: [density number out /home/rchaves/repo/biobb_wf_mem/biobb_wf_mem/notebooks/sandbox_e130a480-f3dd-4c6e-a1d9-3e64bff3c1bb/density_mask.dat ::M ::A,B delta 0.25 z bincenter]\n",
      "\t [::M](29700)\n",
      "\t [::A,B](7140)\n",
      "----- A01M6.xtc (1-10001, 1500) -----\n",
      " 0% 17% 33% 50% 67% 83% 100% Complete.\n",
      "\n",
      "Read 7 frames and processed 7 frames.\n",
      "TIME: Avg. throughput= 291.9830 frames / second.\n",
      "\n",
      "ACTION OUTPUT:\n",
      "    DENSITY: The average box area in X/Y is 20644.52 Angstrom (sd = 536.74).\n",
      "TIME: Analyses took 0.0000 seconds.\n",
      "\n",
      "DATASETS (4 total):\n",
      "\tDENSITY_00001[avg]:1 \"::M\" (double), size is 677 (5.416 kB)\n",
      "\tDENSITY_00001[sd]:1 \"sd(::M)\" (double), size is 677 (5.416 kB)\n",
      "\tDENSITY_00001[avg]:2 \"::A,B\" (double), size is 677 (5.416 kB)\n",
      "\tDENSITY_00001[sd]:2 \"sd(::A,B)\" (double), size is 677 (5.416 kB)\n",
      "    Total data set memory usage is at least 21.664 kB\n",
      "\n",
      "DATAFILES (1 total):\n",
      "  density_mask.dat (Standard Data File):  ::M sd(::M) ::A,B sd(::A,B)\n",
      "\n",
      "RUN TIMING:\n",
      "TIME:\t\tInit               : 0.0000 s (  0.01%)\n",
      "TIME:\t\tTrajectory Process : 0.0240 s ( 95.16%)\n",
      "TIME:\t\tAction Post        : 0.0000 s (  0.09%)\n",
      "TIME:\t\tAnalysis           : 0.0000 s (  0.00%)\n",
      "TIME:\t\tData File Write    : 0.0011 s (  4.56%)\n",
      "TIME:\t\tOther              : 0.0000 s (  0.00%)\n",
      "TIME:\tRun Total 0.0252 s\n",
      "---------- RUN END ---------------------------------------------------\n",
      "TIME: Total execution time: 0.1635 seconds.\n",
      "--------------------------------------------------------------------------------\n",
      "To cite CPPTRAJ use:\n",
      "Daniel R. Roe and Thomas E. Cheatham, III, \"PTRAJ and CPPTRAJ: Software for\n",
      "  Processing and Analysis of Molecular Dynamics Trajectory Data\". J. Chem.\n",
      "  Theory Comput., 2013, 9 (7), pp 3084-3095.\n",
      "\n",
      "\n",
      "2024-12-05 15:24:19,730 [MainThread  ] [INFO ]  Removed: ['/home/rchaves/repo/biobb_wf_mem/biobb_wf_mem/notebooks/sandbox_e130a480-f3dd-4c6e-a1d9-3e64bff3c1bb', '12090ea6-2d44-486b-8d7f-443f222c576c']\n",
      "2024-12-05 15:24:19,731 [MainThread  ] [INFO ]  \n"
     ]
    },
    {
     "data": {
      "text/plain": [
       "0"
      ]
     },
     "execution_count": 35,
     "metadata": {},
     "output_type": "execute_result"
    }
   ],
   "source": [
    "from biobb_mem.ambertools.cpptraj_density import cpptraj_density\n",
    "\n",
    "prop = {\n",
    "    'mask': '::M ::A,B',\n",
    "    'steps': steps,\n",
    "    'disable_logs': disable_logs\n",
    "}\n",
    "cpptraj_density(input_top_path=input_top_path,\n",
    "            input_traj_path=input_traj_path,\n",
    "            output_cpptraj_path='out/density_mask.dat',\n",
    "            properties=prop)"
   ]
  },
  {
   "cell_type": "code",
   "execution_count": 8,
   "metadata": {},
   "outputs": [],
   "source": [
    "def plot_and_view(den,view,labels,axis='z'):\n",
    "    axis = f'#{axis.upper()}'\n",
    "    fig, ax = plt.subplots(1, 1, figsize=(8, 4))\n",
    "    cls = den.columns[1:]\n",
    "    cls = den.columns[1:]\n",
    "    for i,cl in enumerate(cls):\n",
    "        if i%2==0:\n",
    "            ax.plot(den[axis], den[cl], label=labels[i//2])\n",
    "            cl0 = cl\n",
    "        else:\n",
    "            ax.fill_between(den[axis], den[cl0] - den[cl], den[cl0] + den[cl],label='SD',color='red')\n",
    "    ax.set_title('Mass Density');ax.set_xlabel('Å')\n",
    "    ax.set_ylabel('Density'); ax.legend()\n",
    "\n",
    "    # Put plot in a widget and display both widgets in a row\n",
    "    out = Output()\n",
    "    with out: plt.show()\n",
    "    box = HBox([out,view]); display(box)\n",
    "    view._remote_call('setSize', target='Widget', args=['100%', '100%'])\n",
    "    view.control.spin([0, 1, 0], -1.57) "
   ]
  },
  {
   "cell_type": "code",
   "execution_count": 9,
   "metadata": {},
   "outputs": [
    {
     "data": {
      "application/vnd.jupyter.widget-view+json": {
       "model_id": "2c34ee86e5a74b569c13a58cca49b7b4",
       "version_major": 2,
       "version_minor": 0
      },
      "text/plain": [
       "HBox(children=(Output(), NGLWidget()))"
      ]
     },
     "metadata": {},
     "output_type": "display_data"
    }
   ],
   "source": [
    "# Mask\n",
    "view = nv.show_file(input_top_path)\n",
    "den = pd.read_csv(f'out/density_mask.dat', sep='\\s+')\n",
    "plot_and_view(den,view,['Membrane','Protein'])\n",
    "view.update_ball_and_stick(color='blue')\n",
    "view.update_cartoon(color='orange')\n",
    "#view.layout.height = 'full'"
   ]
  },
  {
   "cell_type": "markdown",
   "metadata": {},
   "source": [
    "<a id=\"leaflets\"></a>\n",
    "***\n",
    "## Leafleats assignation"
   ]
  },
  {
   "cell_type": "markdown",
   "metadata": {},
   "source": [
    "Lyphilic is faster that fatslim, it algorithm is simpler, assumes a plane membrane, it let you do the assignation of leafleats for every frame and use this information for analysis like flip-flop <br>\n",
    "***\n",
    "**Building Blocks** used:\n",
    " - [LPPAssignLeaflets](https://biobb-mem.readthedocs.io/en/latest/lipyphilic_biobb.html#module-lipyphilic_biobb.lpp_assign_leaflets) from **from biobb_mem.lipyphilic_biobb.lpp_assign_leaflets**\n",
    "***"
   ]
  },
  {
   "cell_type": "markdown",
   "metadata": {},
   "source": [
    "![DPPC](../html/DPPC.png \"DPPC\")"
   ]
  },
  {
   "cell_type": "code",
   "execution_count": 4,
   "metadata": {},
   "outputs": [
    {
     "data": {
      "text/plain": [
       "0"
      ]
     },
     "execution_count": 4,
     "metadata": {},
     "output_type": "execute_result"
    }
   ],
   "source": [
    "from biobb_mem.lipyphilic_biobb.lpp_assign_leaflets import lpp_assign_leaflets\n",
    "\n",
    "prop = {\n",
    "    'lipid_sel': lipid_sel,\n",
    "    'steps': steps,\n",
    "    'disable_logs': disable_logs\n",
    "}\n",
    "lpp_assign_leaflets(input_top_path=input_top_path,\n",
    "                    input_traj_path=input_traj_path,\n",
    "                    output_leaflets_path= 'out/leaflets_data.csv',\n",
    "                    properties=prop)"
   ]
  },
  {
   "cell_type": "code",
   "execution_count": 8,
   "metadata": {},
   "outputs": [
    {
     "data": {
      "application/vnd.jupyter.widget-view+json": {
       "model_id": "66e71935d35243ba975645cc86ff1593",
       "version_major": 2,
       "version_minor": 0
      },
      "text/plain": [
       "NGLWidget()"
      ]
     },
     "metadata": {},
     "output_type": "display_data"
    }
   ],
   "source": [
    "from biobb_mem.lipyphilic_biobb.lpp_assign_leaflets import display_nglview\n",
    "view = display_nglview(input_top_path, 'out/leaflets_data.csv')\n",
    "view.control.spin([0, 1, 0], -1.57)\n",
    "view"
   ]
  },
  {
   "cell_type": "markdown",
   "metadata": {},
   "source": [
    "<a id=\"thickness\"></a>\n",
    "***\n",
    "## Z positions and membrane thickness"
   ]
  },
  {
   "cell_type": "markdown",
   "metadata": {},
   "source": [
    "Thicknes...<br>\n",
    "***\n",
    "**Building Blocks** used:\n",
    " - [LPPZPositions](https://biobb-mem.readthedocs.io/en/latest/lipyphilic_biobb.html#module-lipyphilic_biobb.lpp_zpositions) from **from biobb_mem.lipyphilic_biobb.lpp_zpositions**\n",
    "***"
   ]
  },
  {
   "cell_type": "code",
   "execution_count": 40,
   "metadata": {},
   "outputs": [],
   "source": [
    "from biobb_mem.lipyphilic_biobb.lpp_zpositions import lpp_zpositions"
   ]
  },
  {
   "cell_type": "code",
   "execution_count": 44,
   "metadata": {},
   "outputs": [
    {
     "data": {
      "text/plain": [
       "0"
      ]
     },
     "execution_count": 44,
     "metadata": {},
     "output_type": "execute_result"
    }
   ],
   "source": [
    "prop = {\n",
    "    'lipid_sel': lipid_sel,\n",
    "    'steps': steps,\n",
    "    'height_sel': lipid_sel,\n",
    "    'disable_logs': disable_logs\n",
    "}\n",
    "lpp_zpositions(input_top_path=input_top_path,\n",
    "            input_traj_path=input_traj_path,\n",
    "            output_positions_path='out/zpositions.csv',\n",
    "            properties=prop)"
   ]
  },
  {
   "cell_type": "code",
   "execution_count": 45,
   "metadata": {},
   "outputs": [
    {
     "data": {
      "application/vnd.jupyter.widget-view+json": {
       "model_id": "7904e7651d254ba584714f347accde76",
       "version_major": 2,
       "version_minor": 0
      },
      "text/plain": [
       "NGLWidget(max_frame=10000)"
      ]
     },
     "metadata": {},
     "output_type": "display_data"
    }
   ],
   "source": [
    "u = mda.Universe(input_top_path, input_traj_path)\n",
    "\n",
    "# https://docs.mdanalysis.org/stable/documentation_pages/selections.html\n",
    "around_sel = '(cyzone 50 70 -50 protein)'\n",
    "around_resnums = u.select_atoms(around_sel).resnums\n",
    "view = nv.show_mdanalysis(u)\n",
    "view.clear_representations()\n",
    "view.add_point(selection=ngl_sel, color='red')\n",
    "view.add_point(selection=f'({\", \".join(map(str, around_resnums))}) and not protein', color='green')\n",
    "view.add_point(selection='protein', color='blue')\n",
    "view"
   ]
  },
  {
   "cell_type": "code",
   "execution_count": 48,
   "metadata": {},
   "outputs": [
    {
     "data": {
      "text/plain": [
       "0"
      ]
     },
     "execution_count": 48,
     "metadata": {},
     "output_type": "execute_result"
    }
   ],
   "source": [
    "prop = {\n",
    "    'lipid_sel': lipid_sel,\n",
    "    'steps': steps,\n",
    "    'height_sel': f'{lipid_sel} and {around_sel}',\n",
    "    'disable_logs': disable_logs\n",
    "}\n",
    "lpp_zpositions(input_top_path=input_top_path,\n",
    "            input_traj_path=input_traj_path,\n",
    "            output_positions_path='out/zpositions_around.csv',\n",
    "            properties=prop)"
   ]
  },
  {
   "cell_type": "code",
   "execution_count": 47,
   "metadata": {},
   "outputs": [
    {
     "name": "stdout",
     "output_type": "stream",
     "text": [
      "The history saving thread hit an unexpected error (OperationalError('database or disk is full')).History will not be written to the database.\n"
     ]
    },
    {
     "data": {
      "image/png": "[encoded data removed]",
      "text/plain": [
       "<Figure size 1000x600 with 1 Axes>"
      ]
     },
     "metadata": {},
     "output_type": "display_data"
    }
   ],
   "source": [
    "from biobb_mem.lipyphilic_biobb.lpp_zpositions import frame_df\n",
    "import matplotlib.pyplot as plt\n",
    "\n",
    "grouped = frame_df('out/zpositions.csv')\n",
    "around = frame_df('out/zpositions_around.csv')\n",
    "plt.figure(figsize=(10, 6))\n",
    "# Plot the mean positive and mean negative z positions\n",
    "plt.plot(grouped['mean_positive'], label='Mean Positive', linestyle='-', color='blue')\n",
    "plt.plot(around['mean_positive'], label='Mean Positive 5A around protein', linestyle='--', color='blue')\n",
    "plt.fill_between(grouped.index, grouped['mean_positive'] - grouped['std_positive'], grouped['mean_positive'] + grouped['std_positive'], color='blue', alpha=0.2, label='Mean Positive ± Std')\n",
    "plt.plot(grouped['mean_negative'], label='Mean Negative', linestyle='-', color='red')\n",
    "plt.plot(around['mean_negative'], label='Mean Negative 5A around protein', linestyle='--', color='red')\n",
    "plt.fill_between(grouped.index, grouped['mean_negative'] - grouped['std_negative'], grouped['mean_negative'] + grouped['std_negative'], color='red', alpha=0.2, label='Mean Negative ± Std')\n",
    "plt.plot(grouped['thickness'], label='Thickness', linestyle='-', color='green')\n",
    "plt.plot(around['thickness'], label='Thickness 5A around protein', linestyle='--', color='green')\n",
    "plt.fill_between(grouped.index, grouped['thickness'] - grouped['std_thickness'], grouped['thickness'] + grouped['std_thickness'], color='green', alpha=0.2, label='Thickness ± Std')\n",
    "plt.title('Scatter Plot of Mean Positive and Mean Negative Z Positions')\n",
    "plt.ylabel('Z Position (Å)'); plt.xlabel('Frame')\n",
    "plt.legend(loc='center left', bbox_to_anchor=(1., 0.5), ncol=1, fancybox=True, shadow=True)\n",
    "plt.show()"
   ]
  },
  {
   "cell_type": "code",
   "execution_count": 67,
   "metadata": {},
   "outputs": [],
   "source": [
    "view = nv.show_mdanalysis(u)\n",
    "view.clear_representations()\n",
    "#view.add_cartoon(color='awesome')\n",
    "view.add_ball_and_stick(selection=ngl_hd_sel,aspect_ratio=8)\n",
    "view.add_cartoon(selection='protein', color='grey')\n",
    "#view.control.spin([0, 1, 0], -1.57)\n",
    "view.layout.height = '500px'\n",
    "view.background = 'grey'"
   ]
  },
  {
   "cell_type": "code",
   "execution_count": null,
   "metadata": {},
   "outputs": [],
   "source": [
    "# https://projects.volkamerlab.org/teachopencadd/talktorials/T017_advanced_nglview_usage.html#Custom-coloring-schemes-and-representations\n",
    "template = \"\"\"\n",
    "this.atomColor = function(atom) {\n",
    "    let zPos = atom.z - %(midplane_z)f;\n",
    "    let std = 3 * %(std)f;\n",
    "    let ratio, r, g, b, layerZ;\n",
    "    \n",
    "    if (zPos > 0) { // top leaflet\n",
    "        layerZ = %(top_z)f;\n",
    "    } else { // bottom leaflet\n",
    "        layerZ = -1 * %(bot_z)f;\n",
    "        zPos = -zPos;\n",
    "    }\n",
    "    \n",
    "    if (zPos >= layerZ) { // thickening\n",
    "        ratio = (zPos - layerZ) / std;\n",
    "        ratio = Math.min(1, ratio);\n",
    "        r = Math.floor(255 * (1 - ratio));\n",
    "        g = Math.floor(255 * (1 - ratio)); \n",
    "        b = 255;\n",
    "    } else { // thinning\n",
    "        ratio = -(zPos - layerZ) / std;\n",
    "        ratio = Math.min(1, ratio);\n",
    "        r = 255;\n",
    "        g = Math.floor(255 * (1 - ratio));\n",
    "        b = Math.floor(255 * (1 - ratio));\n",
    "    }\n",
    "    return (r << 16) + (g << 8) + b;\n",
    "}\n",
    "\"\"\"\n",
    "\n",
    "top_z = grouped['mean_positive'].mean()\n",
    "bot_z = grouped['mean_negative'].mean()\n",
    "std   = grouped['std_thickness'].mean()\n",
    "top_z, bot_z, std\n",
    "# from traitlets import observe\n",
    "midplane_z = [u.trajectory[i].positions[u.select_atoms(lipid_sel).indices].mean(axis=0)[2] for i in range(0, u.trajectory.n_frames, steps)]\n",
    "def on_frame_change(change):\n",
    "    frame = change['new']\n",
    "    # We have to change the color registry name to trigger the update\n",
    "    subframe = frame // steps\n",
    "    js_function_combined = template % {\n",
    "        'midplane_z': midplane_z[subframe],\n",
    "        'std': std,\n",
    "        'top_z': top_z,\n",
    "        'bot_z': bot_z\n",
    "    }\n",
    "    # We have to change the color registry name to trigger the update\n",
    "    nm = \"local_dist\"+str(subframe)\n",
    "    nv.color.ColormakerRegistry.add_scheme_func(nm, js_function_combined)\n",
    "    view.update_ball_and_stick(color=nm)\n",
    "        \n",
    "view.observe(on_frame_change, names=['frame'])"
   ]
  },
  {
   "cell_type": "code",
   "execution_count": 70,
   "metadata": {},
   "outputs": [
    {
     "data": {
      "application/vnd.jupyter.widget-view+json": {
       "model_id": "24d4cc695d754c2bb0173f7b98e83574",
       "version_major": 2,
       "version_minor": 0
      },
      "text/plain": [
       "NGLWidget(background='grey', layout=Layout(height='500px'), max_frame=10000)"
      ]
     },
     "metadata": {},
     "output_type": "display_data"
    }
   ],
   "source": [
    "view"
   ]
  },
  {
   "cell_type": "markdown",
   "metadata": {},
   "source": [
    "<a id=\"channel\"></a>\n",
    "***\n",
    "## Channel"
   ]
  },
  {
   "cell_type": "markdown",
   "metadata": {},
   "source": [
    "Chanel... <br>\n",
    "***\n",
    "**Building Blocks** used:\n",
    " - [MDAHole](https://biobb-mem.readthedocs.io/en/latest/mdanalysis_biobb.html#mdanalysis_biobb.mda_hole.MDAHole) from **from biobb_mem.mdanalysis_biobb.mda_hole**\n",
    "***"
   ]
  },
  {
   "cell_type": "code",
   "execution_count": 1,
   "metadata": {},
   "outputs": [
    {
     "name": "stderr",
     "output_type": "stream",
     "text": [
      "/home/rchaves/miniforge3/envs/biobb_mem/lib/python3.10/site-packages/MDAnalysis/analysis/hole2/__init__.py:47: DeprecationWarning: Deprecated in version 2.8.0\n",
      "MDAnalysis.analysis.hole2 is deprecated in favour of the MDAKit madahole2 (https://www.mdanalysis.org/mdahole2/) and will be removed in MDAnalysis version 3.0.0\n",
      "  warnings.warn(wmsg, category=DeprecationWarning)\n"
     ]
    },
    {
     "ename": "NameError",
     "evalue": "name 'steps' is not defined",
     "output_type": "error",
     "traceback": [
      "\u001b[0;31m---------------------------------------------------------------------------\u001b[0m",
      "\u001b[0;31mNameError\u001b[0m                                 Traceback (most recent call last)",
      "Cell \u001b[0;32mIn[1], line 5\u001b[0m\n\u001b[1;32m      1\u001b[0m \u001b[38;5;28;01mfrom\u001b[39;00m \u001b[38;5;21;01mbiobb_mem\u001b[39;00m\u001b[38;5;21;01m.\u001b[39;00m\u001b[38;5;21;01mmdanalysis_biobb\u001b[39;00m\u001b[38;5;21;01m.\u001b[39;00m\u001b[38;5;21;01mmda_hole\u001b[39;00m \u001b[38;5;28;01mimport\u001b[39;00m mda_hole\n\u001b[1;32m      3\u001b[0m prop \u001b[38;5;241m=\u001b[39m {\n\u001b[1;32m      4\u001b[0m     \u001b[38;5;124m'\u001b[39m\u001b[38;5;124mselect\u001b[39m\u001b[38;5;124m'\u001b[39m: \u001b[38;5;124m'\u001b[39m\u001b[38;5;124mprotein\u001b[39m\u001b[38;5;124m'\u001b[39m,\n\u001b[0;32m----> 5\u001b[0m     \u001b[38;5;124m'\u001b[39m\u001b[38;5;124msteps\u001b[39m\u001b[38;5;124m'\u001b[39m: \u001b[43msteps\u001b[49m,\n\u001b[1;32m      6\u001b[0m     \u001b[38;5;124m'\u001b[39m\u001b[38;5;124msample\u001b[39m\u001b[38;5;124m'\u001b[39m: \u001b[38;5;241m0.1\u001b[39m,\n\u001b[1;32m      7\u001b[0m     \u001b[38;5;124m'\u001b[39m\u001b[38;5;124mdisable_logs\u001b[39m\u001b[38;5;124m'\u001b[39m: disable_logs\n\u001b[1;32m      8\u001b[0m }\n\u001b[1;32m      9\u001b[0m mda_hole(input_top_path\u001b[38;5;241m=\u001b[39minput_top_path,\n\u001b[1;32m     10\u001b[0m          input_traj_path\u001b[38;5;241m=\u001b[39minput_traj_path,\n\u001b[1;32m     11\u001b[0m          output_hole_path\u001b[38;5;241m=\u001b[39m\u001b[38;5;124m'\u001b[39m\u001b[38;5;124mout/hole.vmd\u001b[39m\u001b[38;5;124m'\u001b[39m,\n\u001b[1;32m     12\u001b[0m          properties\u001b[38;5;241m=\u001b[39mprop)\n",
      "\u001b[0;31mNameError\u001b[0m: name 'steps' is not defined"
     ]
    }
   ],
   "source": [
    "from biobb_mem.mdanalysis_biobb.mda_hole import mda_hole\n",
    "\n",
    "prop = {\n",
    "    'select': 'protein',\n",
    "    'steps': steps,\n",
    "    'sample': 0.1,\n",
    "    'disable_logs': disable_logs\n",
    "}\n",
    "mda_hole(input_top_path=input_top_path,\n",
    "         input_traj_path=input_traj_path,\n",
    "         output_hole_path='out/hole.vmd',\n",
    "         properties=prop)"
   ]
  },
  {
   "cell_type": "code",
   "execution_count": 14,
   "metadata": {},
   "outputs": [
    {
     "data": {
      "application/vnd.jupyter.widget-view+json": {
       "model_id": "d4f976f5770242faa8e592479e02e96a",
       "version_major": 2,
       "version_minor": 0
      },
      "text/plain": [
       "NGLWidget()"
      ]
     },
     "metadata": {},
     "output_type": "display_data"
    }
   ],
   "source": [
    "from biobb_mem.mdanalysis_biobb.mda_hole import display_hole\n",
    "display_hole(input_top_path, opacity=0.9)"
   ]
  }
 ],
 "metadata": {
  "kernelspec": {
   "display_name": "biobb_mem",
   "language": "python",
   "name": "python3"
  },
  "language_info": {
   "codemirror_mode": {
    "name": "ipython",
    "version": 3
   },
   "file_extension": ".py",
   "mimetype": "text/x-python",
   "name": "python",
   "nbconvert_exporter": "python",
   "pygments_lexer": "ipython3",
   "version": "3.10.15"
  }
 },
 "nbformat": 4,
 "nbformat_minor": 4
}
