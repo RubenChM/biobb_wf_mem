{
 "cells": [
  {
   "cell_type": "code",
   "execution_count": 7,
   "metadata": {},
   "outputs": [],
   "source": [
    "import os, requests\n",
    "import pandas as pd\n",
    "import nglview as nv\n",
    "import matplotlib.pyplot as plt\n",
    "from ipywidgets import Output, HBox"
   ]
  },
  {
   "cell_type": "markdown",
   "metadata": {},
   "source": [
    "<a id=\"input\"></a>\n",
    "## Input parameters\n",
    "**Input parameters** needed:\n",
    " - **MD_id**: PDB code of the protein structure (e.g. [A01M6](https://mmb-dev.mddbr.eu/#/id/A01M6/overview))"
   ]
  },
  {
   "cell_type": "code",
   "execution_count": 8,
   "metadata": {},
   "outputs": [],
   "source": [
    "MD_id = 'A01M6'\n",
    "steps = 1500\n",
    "lipid_sel = '(resname DPPC and name P8)'\n",
    "ngl_sel = 'DPPC'\n",
    "ngl_hd_sel = f'{ngl_sel} and _P'\n",
    "\n",
    "# common arguments for all the components\n",
    "input_top_path = f'data/{MD_id}.pdb'\n",
    "input_traj_path = f'data/{MD_id}.xtc'"
   ]
  },
  {
   "cell_type": "markdown",
   "metadata": {},
   "source": [
    "<a id=\"fetch\"></a>\n",
    "***\n",
    "## Fetching structure and trajectory"
   ]
  },
  {
   "cell_type": "code",
   "execution_count": 3,
   "metadata": {},
   "outputs": [],
   "source": [
    "# Check if folders 'out' and 'tmp' exist and create them if not\n",
    "for folder in ['out', 'data']:\n",
    "    if not os.path.exists(folder):\n",
    "        os.makedirs(folder)\n",
    "        print(f\"Created folder: {folder}\")\n",
    "\n",
    "# Check if PDB and XTC files already exist\n",
    "if not os.path.exists(f\"data/{MD_id}.pdb\"):\n",
    "    # Download PDB\n",
    "    headers = {'accept': 'chemical/x-pdb'}\n",
    "    url = f\"https://mmb-dev.mddbr.eu/api/rest/v1/projects/{MD_id}/files/structure.pdb\"\n",
    "    response = requests.get(url, headers=headers)\n",
    "    if response.status_code == 200:\n",
    "        pdb_content = response.text\n",
    "        # Save the PDB content to a file\n",
    "        with open(f\"{MD_id}.pdb\", 'w') as pdb_file:   \n",
    "            pdb_file.write(pdb_content)\n",
    "        print(f\"Saved PDB file\")\n",
    "    else:\n",
    "        print(f\"Error for the PDB file: {response.status_code}\")\n",
    "\n",
    "if not os.path.exists(f\"data/{MD_id}.xtc\"): \n",
    "    # Download XTC\n",
    "    headers2 = {'accept': 'application/octet-stream'}\n",
    "    url2= f'https://mmb-dev.mddbr.eu/api/rest/v1/projects/{MD_id}/files/trajectory.xtc'\n",
    "    response2 = requests.get(url2, headers=headers2)\n",
    "    if response2.status_code == 200:\n",
    "        xtc_content = response2.content\n",
    "        with open(f\"{MD_id}.xtc\", 'wb') as xtc_file:\n",
    "            xtc_file.write(xtc_content)\n",
    "        print(f\"Saved XTC file\")\n",
    "    else:\n",
    "        print(f\"Error for the XTC file: {response2.status_code}\")"
   ]
  },
  {
   "cell_type": "code",
   "execution_count": 4,
   "metadata": {},
   "outputs": [
    {
     "data": {
      "application/vnd.jupyter.widget-view+json": {
       "model_id": "2304340deeba4055b50bc4d9e6067a51",
       "version_major": 2,
       "version_minor": 0
      },
      "text/plain": [
       "NGLWidget()"
      ]
     },
     "metadata": {},
     "output_type": "display_data"
    }
   ],
   "source": [
    "view = nv.show_file(input_top_path)\n",
    "view"
   ]
  },
  {
   "cell_type": "markdown",
   "metadata": {},
   "source": [
    "<a id=\"fatslim\"></a>\n",
    "***\n",
    "## Membrane identification with FATSLiM"
   ]
  },
  {
   "cell_type": "markdown",
   "metadata": {},
   "source": [
    "Membrane identification...<br>\n",
    "***\n",
    "**Building Blocks** used:\n",
    " - [FatslimMembranes](https://biobb-mem.readthedocs.io/en/latest/fatslim.html#module-fatslim.fatslim_membranes) from **biobb_mem.fatslim.fatslim_membranes**\n",
    "***"
   ]
  },
  {
   "cell_type": "code",
   "execution_count": 2,
   "metadata": {},
   "outputs": [
    {
     "name": "stderr",
     "output_type": "stream",
     "text": [
      "/home/rchaves/miniforge3/envs/biobb_mem/lib/python3.10/site-packages/Bio/Application/__init__.py:39: BiopythonDeprecationWarning: The Bio.Application modules and modules relying on it have been deprecated.\n",
      "\n",
      "Due to the on going maintenance burden of keeping command line application\n",
      "wrappers up to date, we have decided to deprecate and eventually remove these\n",
      "modules.\n",
      "\n",
      "We instead now recommend building your command line and invoking it directly\n",
      "with the subprocess module.\n",
      "  warnings.warn(\n"
     ]
    }
   ],
   "source": [
    "from biobb_mem.fatslim.fatslim_membranes import fatslim_membranes\n",
    "from biobb_mem.fatslim.fatslim_membranes import display_fatslim"
   ]
  },
  {
   "cell_type": "markdown",
   "metadata": {},
   "source": [
    "## FATSLiM examples"
   ]
  },
  {
   "cell_type": "code",
   "execution_count": 9,
   "metadata": {},
   "outputs": [],
   "source": [
    "# From https://github.com/FATSLiM/fatslim/tree/master/fatslimlib/test/data\n",
    "if not os.path.exists(f\"data/bilayer_multi.gro\"):\n",
    "    !wget https://raw.githubusercontent.com/FATSLiM/fatslim/refs/heads/master/fatslimlib/test/data/bilayer_multi.gro -P data\n",
    "\n",
    "if not os.path.exists(f\"data/dppc_vesicle.gro\"):\n",
    "    !wget https://raw.githubusercontent.com/FATSLiM/fatslim/refs/heads/master/fatslimlib/test/data/dppc_vesicle.gro -P data\n",
    "\n",
    "# From https://cgmartini.nl/docs/downloads/example-applications/micelles.html:\n",
    "if not os.path.exists(f\"data/dpc.gro\"):\n",
    "    !wget https://cgmartini-library.s3.ca-central-1.amazonaws.com/1_Downloads/example_applications/micelles/dpc.gro -P data"
   ]
  },
  {
   "cell_type": "code",
   "execution_count": 10,
   "metadata": {},
   "outputs": [
    {
     "name": "stdout",
     "output_type": "stream",
     "text": [
      "2024-12-09 11:07:04,479 [MainThread  ] [INFO ]  Module: biobb_mem.fatslim.fatslim_membranes Version: 5.0.2\n",
      "2024-12-09 11:07:04,480 [MainThread  ] [INFO ]  /home/rchaves/repo/biobb_wf_mem/biobb_wf_mem/notebooks/sandbox_752945fd-ef54-4097-8e09-b97215920dcf directory successfully created\n",
      "2024-12-09 11:07:04,481 [MainThread  ] [INFO ]  Copy: data/dpc.gro to /home/rchaves/repo/biobb_wf_mem/biobb_wf_mem/notebooks/sandbox_752945fd-ef54-4097-8e09-b97215920dcf\n",
      "2024-12-09 11:07:04,533 [MainThread  ] [INFO ]  fatslim membranes -n e4eb4a2b-3d68-442e-a924-8bc1ffdfdeef/headgroups.ndx -c /home/rchaves/repo/biobb_wf_mem/biobb_wf_mem/notebooks/sandbox_752945fd-ef54-4097-8e09-b97215920dcf/dpc.gro --output-index bba1443a-daff-4f49-abba-eff965bbafcf/output.ndx --cutoff 2.2 --begin-frame -1 --end-frame -1\n",
      "\n",
      "2024-12-09 11:07:04,735 [MainThread  ] [INFO ]  Executing: fatslim membranes -n e4eb4a2b-3d68-442e-a924-8bc1ffdfdeef/headgroups.ndx -c /hom...\n",
      "2024-12-09 11:07:04,736 [MainThread  ] [INFO ]  Exit code: 0\n",
      "2024-12-09 11:07:04,736 [MainThread  ] [INFO ]  FATSLiM - Fast Analysis Toolbox for Simulations of Lipid Membranes\n",
      "version 0.2.2\n",
      "Copyright (c) 2013-2016 Sébastien Buchoux\n",
      "\n",
      "Running command: 'membranes'... This may take some time, be patient!\n",
      "Analysis will be performed using 16 threads.\n",
      "Analysing frame     1/    1 (time: 0 ps)... done in 62 ms (Remaining: 0 s)\n",
      "'membranes' command executed in 65.018 ms (CPU)\n",
      "Goodbye!\n",
      "\n",
      "2024-12-09 11:07:04,738 [MainThread  ] [INFO ]  Removed: ['/home/rchaves/repo/biobb_wf_mem/biobb_wf_mem/notebooks/sandbox_752945fd-ef54-4097-8e09-b97215920dcf', 'e4eb4a2b-3d68-442e-a924-8bc1ffdfdeef', 'bba1443a-daff-4f49-abba-eff965bbafcf']\n",
      "2024-12-09 11:07:04,739 [MainThread  ] [INFO ]  \n",
      "2024-12-09 11:07:04,888 [MainThread  ] [INFO ]  Module: biobb_mem.fatslim.fatslim_membranes Version: 5.0.2\n",
      "2024-12-09 11:07:04,889 [MainThread  ] [INFO ]  /home/rchaves/repo/biobb_wf_mem/biobb_wf_mem/notebooks/sandbox_8f681e68-1133-468d-be75-fa25c0abebe3 directory successfully created\n",
      "2024-12-09 11:07:04,890 [MainThread  ] [INFO ]  Copy: data/bilayer_multi.gro to /home/rchaves/repo/biobb_wf_mem/biobb_wf_mem/notebooks/sandbox_8f681e68-1133-468d-be75-fa25c0abebe3\n",
      "2024-12-09 11:07:04,967 [MainThread  ] [INFO ]  fatslim membranes -n 56c2813d-9f6a-43cd-9b34-f60e456a1f6d/headgroups.ndx -c /home/rchaves/repo/biobb_wf_mem/biobb_wf_mem/notebooks/sandbox_8f681e68-1133-468d-be75-fa25c0abebe3/bilayer_multi.gro --output-index c9800398-65eb-4b90-9f5a-fd741e7092c2/output.ndx --cutoff 2.2 --begin-frame -1 --end-frame -1\n",
      "\n",
      "2024-12-09 11:07:05,811 [MainThread  ] [INFO ]  Executing: fatslim membranes -n 56c2813d-9f6a-43cd-9b34-f60e456a1f6d/headgroups.ndx -c /hom...\n",
      "2024-12-09 11:07:05,811 [MainThread  ] [INFO ]  Exit code: 0\n",
      "2024-12-09 11:07:05,811 [MainThread  ] [INFO ]  FATSLiM - Fast Analysis Toolbox for Simulations of Lipid Membranes\n",
      "version 0.2.2\n",
      "Copyright (c) 2013-2016 Sébastien Buchoux\n",
      "\n",
      "Running command: 'membranes'... This may take some time, be patient!\n",
      "Analysis will be performed using 16 threads.\n",
      "Analysing frame     1/    1 (time: 0 ps)... done in 691 ms (Remaining: 0 s)\n",
      "'membranes' command executed in 711.137 ms (CPU)\n",
      "Goodbye!\n",
      "\n",
      "2024-12-09 11:07:05,813 [MainThread  ] [INFO ]  Removed: ['/home/rchaves/repo/biobb_wf_mem/biobb_wf_mem/notebooks/sandbox_8f681e68-1133-468d-be75-fa25c0abebe3', '56c2813d-9f6a-43cd-9b34-f60e456a1f6d', 'c9800398-65eb-4b90-9f5a-fd741e7092c2']\n",
      "2024-12-09 11:07:05,813 [MainThread  ] [INFO ]  \n",
      "2024-12-09 11:07:05,994 [MainThread  ] [INFO ]  Module: biobb_mem.fatslim.fatslim_membranes Version: 5.0.2\n",
      "2024-12-09 11:07:05,994 [MainThread  ] [INFO ]  /home/rchaves/repo/biobb_wf_mem/biobb_wf_mem/notebooks/sandbox_b168f1cf-d69e-4041-828e-21016c0796b3 directory successfully created\n",
      "2024-12-09 11:07:05,995 [MainThread  ] [INFO ]  Copy: data/dppc_vesicle.gro to /home/rchaves/repo/biobb_wf_mem/biobb_wf_mem/notebooks/sandbox_b168f1cf-d69e-4041-828e-21016c0796b3\n",
      "2024-12-09 11:07:06,296 [MainThread  ] [INFO ]  fatslim membranes -n aa26bf6e-7280-4d56-85dc-47fe82507a26/headgroups.ndx -c /home/rchaves/repo/biobb_wf_mem/biobb_wf_mem/notebooks/sandbox_b168f1cf-d69e-4041-828e-21016c0796b3/dppc_vesicle.gro --output-index 17f1e1df-5dc8-4ae7-a014-87e97c51ddd2/output.ndx --cutoff 2.2 --begin-frame -1 --end-frame -1\n",
      "\n",
      "2024-12-09 11:07:09,103 [MainThread  ] [INFO ]  Executing: fatslim membranes -n aa26bf6e-7280-4d56-85dc-47fe82507a26/headgroups.ndx -c /hom...\n",
      "2024-12-09 11:07:09,103 [MainThread  ] [INFO ]  Exit code: 0\n",
      "2024-12-09 11:07:09,104 [MainThread  ] [INFO ]  FATSLiM - Fast Analysis Toolbox for Simulations of Lipid Membranes\n",
      "version 0.2.2\n",
      "Copyright (c) 2013-2016 Sébastien Buchoux\n",
      "\n",
      "Running command: 'membranes'... This may take some time, be patient!\n",
      "Analysis will be performed using 16 threads.\n",
      "Analysing frame     1/    1 (time: 0 ps)... done in 3 s (Remaining: 0 s)\n",
      "'membranes' command executed in 2.678 s (CPU)\n",
      "Goodbye!\n",
      "\n",
      "2024-12-09 11:07:09,106 [MainThread  ] [INFO ]  Removed: ['/home/rchaves/repo/biobb_wf_mem/biobb_wf_mem/notebooks/sandbox_b168f1cf-d69e-4041-828e-21016c0796b3', 'aa26bf6e-7280-4d56-85dc-47fe82507a26', '17f1e1df-5dc8-4ae7-a014-87e97c51ddd2']\n",
      "2024-12-09 11:07:09,106 [MainThread  ] [INFO ]  \n"
     ]
    }
   ],
   "source": [
    "lipid_sel_CG='name PO4'\n",
    "prop_CG = {\n",
    "        'selection': lipid_sel_CG,\n",
    "        'cutoff': 2.2,\n",
    "        'ignore_no_box': True,\n",
    "    }\n",
    "tops  = ['data/dpc.gro', 'data/bilayer_multi.gro', 'data/dppc_vesicle.gro']\n",
    "outs  = ['out/dpc.ndx', 'out/bilayer_multi.ndx', 'out/dppc_vesicle.ndx']\n",
    "views = []\n",
    "for top,out in zip(tops, outs):\n",
    "    fatslim_membranes(input_top_path=top,\n",
    "                    output_ndx_path=out,\n",
    "                    properties=prop_CG)\n",
    "    view = display_fatslim(top,lipid_sel_CG,output_ndx_path=out, leaflets=True)\n",
    "    view.add_ball_and_stick(selection='.PO4', color='white') # headgroups\n",
    "    view.layout.width = '100%'\n",
    "    views.append(view)"
   ]
  },
  {
   "cell_type": "markdown",
   "metadata": {},
   "source": [
    "In red the lipids that do not correspond to any membrane"
   ]
  },
  {
   "cell_type": "code",
   "execution_count": 13,
   "metadata": {},
   "outputs": [
    {
     "data": {
      "application/vnd.jupyter.widget-view+json": {
       "model_id": "82007a3633e74db9b435e4254aef8175",
       "version_major": 2,
       "version_minor": 0
      },
      "text/plain": [
       "HBox(children=(NGLWidget(layout=Layout(width='100%'), n_components=1), NGLWidget(layout=Layout(width='100%'), …"
      ]
     },
     "execution_count": 13,
     "metadata": {},
     "output_type": "execute_result"
    }
   ],
   "source": [
    "from ipywidgets import HBox\n",
    "HBox(views)"
   ]
  },
  {
   "cell_type": "markdown",
   "metadata": {},
   "source": [
    "## Our case"
   ]
  },
  {
   "cell_type": "code",
   "execution_count": null,
   "metadata": {},
   "outputs": [
    {
     "name": "stdout",
     "output_type": "stream",
     "text": [
      "2024-12-09 10:42:56,072 [MainThread  ] [INFO ]  Module: biobb_mem.fatslim.fatslim_membranes Version: 5.0.2\n",
      "2024-12-09 10:42:56,073 [MainThread  ] [INFO ]  /home/rchaves/repo/biobb_wf_mem/biobb_wf_mem/notebooks/sandbox_2d42c0cc-3338-4eac-bc9e-814ed9837575 directory successfully created\n",
      "2024-12-09 10:42:56,076 [MainThread  ] [INFO ]  Copy: data/A01M6.pdb to /home/rchaves/repo/biobb_wf_mem/biobb_wf_mem/notebooks/sandbox_2d42c0cc-3338-4eac-bc9e-814ed9837575\n",
      "2024-12-09 10:42:56,640 [MainThread  ] [INFO ]  Copy: data/A01M6.xtc to /home/rchaves/repo/biobb_wf_mem/biobb_wf_mem/notebooks/sandbox_2d42c0cc-3338-4eac-bc9e-814ed9837575\n",
      "Warning: trajectory probably has no box variable. Setting dimensions ussing the minimum and maximum positions of the atoms.\n",
      "2024-12-09 10:42:56,933 [MainThread  ] [INFO ]  gmx editconf -f /home/rchaves/repo/biobb_wf_mem/biobb_wf_mem/notebooks/sandbox_2d42c0cc-3338-4eac-bc9e-814ed9837575/A01M6.pdb -o efbcc4c5-24f1-40fd-9e7f-d685923b9e3d/output.gro -box 167.68 173.51001 126.630005 ; fatslim membranes -n 11c98045-aa64-4253-90fd-7eb7b674d00d/headgroups.ndx -c efbcc4c5-24f1-40fd-9e7f-d685923b9e3d/output.gro --output-index 9a4a2686-20c1-493a-b35b-d57a6e1263bc/output.ndx --cutoff 2.2 --begin-frame -1 --end-frame -1\n",
      "\n",
      "2024-12-09 10:42:57,791 [MainThread  ] [INFO ]  Executing: gmx editconf -f /home/rchaves/repo/biobb_wf_mem/biobb_wf_mem/notebooks/sandbox_2...\n",
      "2024-12-09 10:42:57,792 [MainThread  ] [INFO ]  Exit code: 0\n",
      "2024-12-09 10:42:57,792 [MainThread  ] [INFO ]  Note that major changes are planned in future for editconf, to improve usability and utility.\n",
      "Read 47441 atoms\n",
      "No velocities found\n",
      "    system size : 16.768 17.351 12.663 (nm)\n",
      "    center      :  7.352  7.389  6.818 (nm)\n",
      "    box vectors :  0.000  0.000  0.000 (nm)\n",
      "    box angles  :   0.00   0.00   0.00 (degrees)\n",
      "    box volume  :   0.00               (nm^3)\n",
      "    shift       : 76.488 79.366 56.497 (nm)\n",
      "new center      : 83.840 86.755 63.315 (nm)\n",
      "new box vectors :167.680173.510126.630 (nm)\n",
      "new box angles  :  90.00  90.00  90.00 (degrees)\n",
      "new box volume  :3684193.50               (nm^3)\n",
      "FATSLiM - Fast Analysis Toolbox for Simulations of Lipid Membranes\n",
      "version 0.2.2\n",
      "Copyright (c) 2013-2016 Sébastien Buchoux\n",
      "\n",
      "Running command: 'membranes'... This may take some time, be patient!\n",
      "Analysis will be performed using 16 threads.\n",
      "Analysing frame     1/    1 (time: 0 ps)... done in 527 ms (Remaining: 0 s)\n",
      "'membranes' command executed in 567.900 ms (CPU)\n",
      "Goodbye!\n",
      "\n",
      "2024-12-09 10:42:57,793 [MainThread  ] [INFO ]                 :-) GROMACS - gmx editconf, 2024.4-conda_forge (-:\n",
      "\n",
      "Executable:   /home/rchaves/miniforge3/envs/biobb_mem/bin.AVX2_256/gmx\n",
      "Data prefix:  /home/rchaves/miniforge3/envs/biobb_mem\n",
      "Working dir:  /home/rchaves/repo/biobb_wf_mem/biobb_wf_mem/notebooks\n",
      "Command line:\n",
      "  gmx editconf -f /home/rchaves/repo/biobb_wf_mem/biobb_wf_mem/notebooks/sandbox_2d42c0cc-3338-4eac-bc9e-814ed9837575/A01M6.pdb -o efbcc4c5-24f1-40fd-9e7f-d685923b9e3d/output.gro -box 167.68 173.51001 126.630005\n",
      "\n",
      "\n",
      "GROMACS reminds you: \"If I Were You I Would Give Me a Break\" (F. Black)\n",
      "\n",
      "\n",
      "2024-12-09 10:42:57,979 [MainThread  ] [INFO ]  Removed: ['efbcc4c5-24f1-40fd-9e7f-d685923b9e3d', '/home/rchaves/repo/biobb_wf_mem/biobb_wf_mem/notebooks/sandbox_2d42c0cc-3338-4eac-bc9e-814ed9837575', '11c98045-aa64-4253-90fd-7eb7b674d00d', '9a4a2686-20c1-493a-b35b-d57a6e1263bc']\n",
      "2024-12-09 10:42:57,980 [MainThread  ] [INFO ]  \n"
     ]
    },
    {
     "data": {
      "text/plain": [
       "0"
      ]
     },
     "execution_count": 6,
     "metadata": {},
     "output_type": "execute_result"
    }
   ],
   "source": [
    "prop = {\n",
    "    'selection': lipid_sel,\n",
    "    'cutoff': 2.2,\n",
    "    'ignore_no_box': True,\n",
    "}\n",
    "fatslim_membranes(input_top_path=input_top_path,\n",
    "                  input_traj_path=input_traj_path,\n",
    "                  output_ndx_path=\"out/leaflets.ndx\",\n",
    "                  properties=prop)"
   ]
  },
  {
   "cell_type": "code",
   "execution_count": null,
   "metadata": {},
   "outputs": [
    {
     "data": {
      "application/vnd.jupyter.widget-view+json": {
       "model_id": "f4203ff6e2ac45dbb1f19487c1fd40de",
       "version_major": 2,
       "version_minor": 0
      },
      "text/plain": [
       "NGLWidget(layout=Layout(height='400px'))"
      ]
     },
     "metadata": {},
     "output_type": "display_data"
    }
   ],
   "source": [
    "view = display_fatslim(input_top_path,lipid_sel,output_ndx_path=\"out/leaflets.ndx\")\n",
    "view.add_ball_and_stick(selection=ngl_hd_sel, color='white',aspect_ratio=4) # headgroups\n",
    "view.layout.height = '400px'\n",
    "view"
   ]
  },
  {
   "cell_type": "code",
   "execution_count": null,
   "metadata": {},
   "outputs": [
    {
     "name": "stdout",
     "output_type": "stream",
     "text": [
      "\u001b[0;31mSignature:\u001b[0m \u001b[0mparse_index\u001b[0m\u001b[0;34m(\u001b[0m\u001b[0mndx\u001b[0m\u001b[0;34m)\u001b[0m\u001b[0;34m\u001b[0m\u001b[0;34m\u001b[0m\u001b[0m\n",
      "\u001b[0;31mSource:\u001b[0m   \n",
      "\u001b[0;32mdef\u001b[0m \u001b[0mparse_index\u001b[0m\u001b[0;34m(\u001b[0m\u001b[0mndx\u001b[0m\u001b[0;34m)\u001b[0m\u001b[0;34m:\u001b[0m\u001b[0;34m\u001b[0m\n",
      "\u001b[0;34m\u001b[0m    \u001b[0;34m\"\"\"\u001b[0m\n",
      "\u001b[0;34m    Parses a GROMACS index file (.ndx) to extract leaflet groups.\u001b[0m\n",
      "\u001b[0;34m\u001b[0m\n",
      "\u001b[0;34m    Args:\u001b[0m\n",
      "\u001b[0;34m        ndx (str): Path to the GROMACS index file (.ndx).\u001b[0m\n",
      "\u001b[0;34m    Returns:\u001b[0m\n",
      "\u001b[0;34m        dict: A dictionary where keys are group names and values are lists of integers representing atom indices.\u001b[0m\n",
      "\u001b[0;34m    \"\"\"\u001b[0m\u001b[0;34m\u001b[0m\n",
      "\u001b[0;34m\u001b[0m\u001b[0;34m\u001b[0m\n",
      "\u001b[0;34m\u001b[0m    \u001b[0;31m# Read the leaflet.ndx file\u001b[0m\u001b[0;34m\u001b[0m\n",
      "\u001b[0;34m\u001b[0m    \u001b[0;32mwith\u001b[0m \u001b[0mopen\u001b[0m\u001b[0;34m(\u001b[0m\u001b[0mndx\u001b[0m\u001b[0;34m,\u001b[0m \u001b[0;34m'r'\u001b[0m\u001b[0;34m)\u001b[0m \u001b[0;32mas\u001b[0m \u001b[0mfile\u001b[0m\u001b[0;34m:\u001b[0m\u001b[0;34m\u001b[0m\n",
      "\u001b[0;34m\u001b[0m        \u001b[0mleaflet_data\u001b[0m \u001b[0;34m=\u001b[0m \u001b[0mfile\u001b[0m\u001b[0;34m.\u001b[0m\u001b[0mreadlines\u001b[0m\u001b[0;34m(\u001b[0m\u001b[0;34m)\u001b[0m\u001b[0;34m\u001b[0m\n",
      "\u001b[0;34m\u001b[0m\u001b[0;34m\u001b[0m\n",
      "\u001b[0;34m\u001b[0m    \u001b[0;31m# Initialize dictionaries to store leaflet groups\u001b[0m\u001b[0;34m\u001b[0m\n",
      "\u001b[0;34m\u001b[0m    \u001b[0mleaflet_groups\u001b[0m \u001b[0;34m=\u001b[0m \u001b[0;34m{\u001b[0m\u001b[0;34m}\u001b[0m\u001b[0;34m\u001b[0m\n",
      "\u001b[0;34m\u001b[0m    \u001b[0mcurrent_group\u001b[0m \u001b[0;34m=\u001b[0m \u001b[0;32mNone\u001b[0m\u001b[0;34m\u001b[0m\n",
      "\u001b[0;34m\u001b[0m\u001b[0;34m\u001b[0m\n",
      "\u001b[0;34m\u001b[0m    \u001b[0;31m# Parse the leaflet.ndx file\u001b[0m\u001b[0;34m\u001b[0m\n",
      "\u001b[0;34m\u001b[0m    \u001b[0;32mfor\u001b[0m \u001b[0mline\u001b[0m \u001b[0;32min\u001b[0m \u001b[0mleaflet_data\u001b[0m\u001b[0;34m:\u001b[0m\u001b[0;34m\u001b[0m\n",
      "\u001b[0;34m\u001b[0m        \u001b[0mline\u001b[0m \u001b[0;34m=\u001b[0m \u001b[0mline\u001b[0m\u001b[0;34m.\u001b[0m\u001b[0mstrip\u001b[0m\u001b[0;34m(\u001b[0m\u001b[0;34m)\u001b[0m\u001b[0;34m\u001b[0m\n",
      "\u001b[0;34m\u001b[0m        \u001b[0;32mif\u001b[0m \u001b[0mline\u001b[0m\u001b[0;34m.\u001b[0m\u001b[0mstartswith\u001b[0m\u001b[0;34m(\u001b[0m\u001b[0;34m'['\u001b[0m\u001b[0;34m)\u001b[0m \u001b[0;32mand\u001b[0m \u001b[0mline\u001b[0m\u001b[0;34m.\u001b[0m\u001b[0mendswith\u001b[0m\u001b[0;34m(\u001b[0m\u001b[0;34m']'\u001b[0m\u001b[0;34m)\u001b[0m\u001b[0;34m:\u001b[0m\u001b[0;34m\u001b[0m\n",
      "\u001b[0;34m\u001b[0m            \u001b[0mcurrent_group\u001b[0m \u001b[0;34m=\u001b[0m \u001b[0mline\u001b[0m\u001b[0;34m[\u001b[0m\u001b[0;36m1\u001b[0m\u001b[0;34m:\u001b[0m\u001b[0;34m-\u001b[0m\u001b[0;36m1\u001b[0m\u001b[0;34m]\u001b[0m\u001b[0;34m.\u001b[0m\u001b[0mstrip\u001b[0m\u001b[0;34m(\u001b[0m\u001b[0;34m)\u001b[0m\u001b[0;34m\u001b[0m\n",
      "\u001b[0;34m\u001b[0m            \u001b[0mleaflet_groups\u001b[0m\u001b[0;34m[\u001b[0m\u001b[0mcurrent_group\u001b[0m\u001b[0;34m]\u001b[0m \u001b[0;34m=\u001b[0m \u001b[0;34m[\u001b[0m\u001b[0;34m]\u001b[0m\u001b[0;34m\u001b[0m\n",
      "\u001b[0;34m\u001b[0m        \u001b[0;32melif\u001b[0m \u001b[0mcurrent_group\u001b[0m \u001b[0;32mis\u001b[0m \u001b[0;32mnot\u001b[0m \u001b[0;32mNone\u001b[0m\u001b[0;34m:\u001b[0m\u001b[0;34m\u001b[0m\n",
      "\u001b[0;34m\u001b[0m            \u001b[0mleaflet_groups\u001b[0m\u001b[0;34m[\u001b[0m\u001b[0mcurrent_group\u001b[0m\u001b[0;34m]\u001b[0m\u001b[0;34m.\u001b[0m\u001b[0mextend\u001b[0m\u001b[0;34m(\u001b[0m\u001b[0mmap\u001b[0m\u001b[0;34m(\u001b[0m\u001b[0mint\u001b[0m\u001b[0;34m,\u001b[0m \u001b[0mline\u001b[0m\u001b[0;34m.\u001b[0m\u001b[0msplit\u001b[0m\u001b[0;34m(\u001b[0m\u001b[0;34m)\u001b[0m\u001b[0;34m)\u001b[0m\u001b[0;34m)\u001b[0m\u001b[0;34m\u001b[0m\n",
      "\u001b[0;34m\u001b[0m    \u001b[0;32mreturn\u001b[0m \u001b[0mleaflet_groups\u001b[0m\u001b[0;34m\u001b[0m\u001b[0;34m\u001b[0m\u001b[0m\n",
      "\u001b[0;31mFile:\u001b[0m      ~/repo/biobb_mem/biobb_mem/fatslim/fatslim_membranes.py\n",
      "\u001b[0;31mType:\u001b[0m      function"
     ]
    }
   ],
   "source": [
    "from biobb_mem.fatslim.fatslim_membranes import parse_index\n",
    "parse_index??"
   ]
  },
  {
   "cell_type": "markdown",
   "metadata": {},
   "source": [
    "<a id=\"density\"></a>\n",
    "***\n",
    "## Density profile"
   ]
  },
  {
   "cell_type": "markdown",
   "metadata": {},
   "source": [
    "Calculate density... [amber selection masks](https://amberhub.chpc.utah.edu/atom-mask-selection-syntax/)<br>\n",
    "***\n",
    "**Building Blocks** used:\n",
    " - [CpptrajDensity](https://biobb-mem.readthedocs.io/en/latest/ambertools.html#module-ambertools.cpptraj_density) from **biobb_mem.ambertools.cpptraj_density**\n",
    "***"
   ]
  },
  {
   "cell_type": "code",
   "execution_count": 35,
   "metadata": {},
   "outputs": [
    {
     "name": "stdout",
     "output_type": "stream",
     "text": [
      "2024-12-05 15:24:18,789 [MainThread  ] [INFO ]  Module: biobb_mem.ambertools.cpptraj_density Version: 5.0.2\n",
      "2024-12-05 15:24:18,790 [MainThread  ] [INFO ]  /home/rchaves/repo/biobb_wf_mem/biobb_wf_mem/notebooks/sandbox_e130a480-f3dd-4c6e-a1d9-3e64bff3c1bb directory successfully created\n",
      "2024-12-05 15:24:18,792 [MainThread  ] [INFO ]  Copy: data/A01M6.pdb to /home/rchaves/repo/biobb_wf_mem/biobb_wf_mem/notebooks/sandbox_e130a480-f3dd-4c6e-a1d9-3e64bff3c1bb\n",
      "2024-12-05 15:24:19,367 [MainThread  ] [INFO ]  Copy: data/A01M6.xtc to /home/rchaves/repo/biobb_wf_mem/biobb_wf_mem/notebooks/sandbox_e130a480-f3dd-4c6e-a1d9-3e64bff3c1bb\n",
      "2024-12-05 15:24:19,367 [MainThread  ] [INFO ]  cpptraj -i 12090ea6-2d44-486b-8d7f-443f222c576c/instructions.in\n",
      "\n",
      "2024-12-05 15:24:19,546 [MainThread  ] [INFO ]  Executing: cpptraj -i 12090ea6-2d44-486b-8d7f-443f222c576c/instructions.in...\n",
      "2024-12-05 15:24:19,547 [MainThread  ] [INFO ]  Exit code: 0\n",
      "2024-12-05 15:24:19,548 [MainThread  ] [INFO ]  \n",
      "CPPTRAJ: Trajectory Analysis. V6.18.1 (AmberTools)\n",
      "    ___  ___  ___  ___\n",
      "     | \\/ | \\/ | \\/ | \n",
      "    _|_/\\_|_/\\_|_/\\_|_\n",
      "\n",
      "| Date/time: 12/05/24 15:24:19\n",
      "| Available memory: 18.916 GB\n",
      "\n",
      "INPUT: Reading input from '12090ea6-2d44-486b-8d7f-443f222c576c/instructions.in'\n",
      "  [parm /home/rchaves/repo/biobb_wf_mem/biobb_wf_mem/notebooks/sandbox_e130a480-f3dd-4c6e-a1d9-3e64bff3c1bb/A01M6.pdb]\n",
      "\tReading '/home/rchaves/repo/biobb_wf_mem/biobb_wf_mem/notebooks/sandbox_e130a480-f3dd-4c6e-a1d9-3e64bff3c1bb/A01M6.pdb' as PDB File\n",
      "\tReading bond info from CONECT records.\n",
      "\tNot reading bond info from LINK records.\n",
      "\tDetermining bond info from distances.\n",
      "Warning: Determining bond length parameters from element types for 'A01M6.pdb'.\n",
      "  [trajin /home/rchaves/repo/biobb_wf_mem/biobb_wf_mem/notebooks/sandbox_e130a480-f3dd-4c6e-a1d9-3e64bff3c1bb/A01M6.xtc 1 -1 1500]\n",
      "\tReading '/home/rchaves/repo/biobb_wf_mem/biobb_wf_mem/notebooks/sandbox_e130a480-f3dd-4c6e-a1d9-3e64bff3c1bb/A01M6.xtc' as Gromacs XTC\n",
      "Warning: Trajectory box type is 'Tetragonal' but topology box type is 'None'.\n",
      "Warning: Setting topology box information from trajectory.\n",
      "  [density number out /home/rchaves/repo/biobb_wf_mem/biobb_wf_mem/notebooks/sandbox_e130a480-f3dd-4c6e-a1d9-3e64bff3c1bb/density_mask.dat ::M ::A,B delta 0.25 z bincenter]\n",
      "    DENSITY: Determining number density for 2 masks.\n",
      "\troutine version: 1.0.3\n",
      "\tDelta is 0.250000\n",
      "\tAxis is Z\n",
      "\tData set name is 'DENSITY_00001'\n",
      "\tData set aspect [avg] holds the mean, aspect [sd] holds standard deviation.\n",
      "\tBin coordinates will be to bin center.\n",
      "\tOutput to '/home/rchaves/repo/biobb_wf_mem/biobb_wf_mem/notebooks/sandbox_e130a480-f3dd-4c6e-a1d9-3e64bff3c1bb/density_mask.dat'\n",
      "---------- RUN BEGIN -------------------------------------------------\n",
      "\n",
      "PARAMETER FILES (1 total):\n",
      " 0: A01M6.pdb, 47441 atoms, 2259 res, box: Tetragonal, 599 mol\n",
      "\n",
      "INPUT TRAJECTORIES (1 total):\n",
      " 0: 'A01M6.xtc' is a GROMACS XTC file, Parm A01M6.pdb (Tetragonal box) (reading 7 of 10001)\n",
      "  Coordinate processing will occur on 7 frames.\n",
      "\n",
      "BEGIN TRAJECTORY PROCESSING:\n",
      ".....................................................\n",
      "ACTION SETUP FOR PARM 'A01M6.pdb' (1 actions):\n",
      "  0: [density number out /home/rchaves/repo/biobb_wf_mem/biobb_wf_mem/notebooks/sandbox_e130a480-f3dd-4c6e-a1d9-3e64bff3c1bb/density_mask.dat ::M ::A,B delta 0.25 z bincenter]\n",
      "\t [::M](29700)\n",
      "\t [::A,B](7140)\n",
      "----- A01M6.xtc (1-10001, 1500) -----\n",
      " 0% 17% 33% 50% 67% 83% 100% Complete.\n",
      "\n",
      "Read 7 frames and processed 7 frames.\n",
      "TIME: Avg. throughput= 291.9830 frames / second.\n",
      "\n",
      "ACTION OUTPUT:\n",
      "    DENSITY: The average box area in X/Y is 20644.52 Angstrom (sd = 536.74).\n",
      "TIME: Analyses took 0.0000 seconds.\n",
      "\n",
      "DATASETS (4 total):\n",
      "\tDENSITY_00001[avg]:1 \"::M\" (double), size is 677 (5.416 kB)\n",
      "\tDENSITY_00001[sd]:1 \"sd(::M)\" (double), size is 677 (5.416 kB)\n",
      "\tDENSITY_00001[avg]:2 \"::A,B\" (double), size is 677 (5.416 kB)\n",
      "\tDENSITY_00001[sd]:2 \"sd(::A,B)\" (double), size is 677 (5.416 kB)\n",
      "    Total data set memory usage is at least 21.664 kB\n",
      "\n",
      "DATAFILES (1 total):\n",
      "  density_mask.dat (Standard Data File):  ::M sd(::M) ::A,B sd(::A,B)\n",
      "\n",
      "RUN TIMING:\n",
      "TIME:\t\tInit               : 0.0000 s (  0.01%)\n",
      "TIME:\t\tTrajectory Process : 0.0240 s ( 95.16%)\n",
      "TIME:\t\tAction Post        : 0.0000 s (  0.09%)\n",
      "TIME:\t\tAnalysis           : 0.0000 s (  0.00%)\n",
      "TIME:\t\tData File Write    : 0.0011 s (  4.56%)\n",
      "TIME:\t\tOther              : 0.0000 s (  0.00%)\n",
      "TIME:\tRun Total 0.0252 s\n",
      "---------- RUN END ---------------------------------------------------\n",
      "TIME: Total execution time: 0.1635 seconds.\n",
      "--------------------------------------------------------------------------------\n",
      "To cite CPPTRAJ use:\n",
      "Daniel R. Roe and Thomas E. Cheatham, III, \"PTRAJ and CPPTRAJ: Software for\n",
      "  Processing and Analysis of Molecular Dynamics Trajectory Data\". J. Chem.\n",
      "  Theory Comput., 2013, 9 (7), pp 3084-3095.\n",
      "\n",
      "\n",
      "2024-12-05 15:24:19,730 [MainThread  ] [INFO ]  Removed: ['/home/rchaves/repo/biobb_wf_mem/biobb_wf_mem/notebooks/sandbox_e130a480-f3dd-4c6e-a1d9-3e64bff3c1bb', '12090ea6-2d44-486b-8d7f-443f222c576c']\n",
      "2024-12-05 15:24:19,731 [MainThread  ] [INFO ]  \n"
     ]
    },
    {
     "data": {
      "text/plain": [
       "0"
      ]
     },
     "execution_count": 35,
     "metadata": {},
     "output_type": "execute_result"
    }
   ],
   "source": [
    "from biobb_mem.ambertools.cpptraj_density import cpptraj_density\n",
    "\n",
    "prop = {\n",
    "    'mask': '::M ::A,B',\n",
    "    'steps': steps,\n",
    "}\n",
    "cpptraj_density(input_top_path=input_top_path,\n",
    "            input_traj_path=input_traj_path,\n",
    "            output_cpptraj_path='out/density_mask.dat',\n",
    "            properties=prop)"
   ]
  },
  {
   "cell_type": "code",
   "execution_count": 8,
   "metadata": {},
   "outputs": [],
   "source": [
    "def plot_and_view(den,view,labels,axis='z'):\n",
    "    axis = f'#{axis.upper()}'\n",
    "    fig, ax = plt.subplots(1, 1, figsize=(8, 4))\n",
    "    cls = den.columns[1:]\n",
    "    cls = den.columns[1:]\n",
    "    for i,cl in enumerate(cls):\n",
    "        if i%2==0:\n",
    "            ax.plot(den[axis], den[cl], label=labels[i//2])\n",
    "            cl0 = cl\n",
    "        else:\n",
    "            ax.fill_between(den[axis], den[cl0] - den[cl], den[cl0] + den[cl],label='SD',color='red')\n",
    "    ax.set_title('Mass Density');ax.set_xlabel('Å')\n",
    "    ax.set_ylabel('Density'); ax.legend()\n",
    "\n",
    "    # Put plot in a widget and display both widgets in a row\n",
    "    out = Output()\n",
    "    with out: plt.show()\n",
    "    box = HBox([out,view]); display(box)\n",
    "    view._remote_call('setSize', target='Widget', args=['100%', '100%'])\n",
    "    view.control.spin([0, 1, 0], -1.57) "
   ]
  },
  {
   "cell_type": "code",
   "execution_count": 9,
   "metadata": {},
   "outputs": [
    {
     "data": {
      "application/vnd.jupyter.widget-view+json": {
       "model_id": "2c34ee86e5a74b569c13a58cca49b7b4",
       "version_major": 2,
       "version_minor": 0
      },
      "text/plain": [
       "HBox(children=(Output(), NGLWidget()))"
      ]
     },
     "metadata": {},
     "output_type": "display_data"
    }
   ],
   "source": [
    "# Mask\n",
    "view = nv.show_file(input_top_path)\n",
    "den = pd.read_csv(f'out/density_mask.dat', sep='\\s+')\n",
    "plot_and_view(den,view,['Membrane','Protein'])\n",
    "view.update_ball_and_stick(color='blue')\n",
    "view.update_cartoon(color='orange')\n",
    "#view.layout.height = 'full'"
   ]
  },
  {
   "cell_type": "markdown",
   "metadata": {},
   "source": [
    "<a id=\"leaflets\"></a>\n",
    "***\n",
    "## Leafleats assignation"
   ]
  },
  {
   "cell_type": "markdown",
   "metadata": {},
   "source": [
    "Lyphilic is faster that fatslim, it algorithm is simpler, assumes a plane membrane, it let you do the assignation of leafleats for every frame and use this information for analysis like flip-flop <br>\n",
    "***\n",
    "**Building Blocks** used:\n",
    " - [LPPAssignLeaflets](https://biobb-mem.readthedocs.io/en/latest/lipyphilic_biobb.html) from **from biobb_mem.lipyphilic_biobb.lpp_assign_leaflets**\n",
    "***"
   ]
  },
  {
   "cell_type": "markdown",
   "metadata": {},
   "source": [
    "![DPPC](../html/DPPC.png \"DPPC\")"
   ]
  },
  {
   "cell_type": "code",
   "execution_count": 12,
   "metadata": {},
   "outputs": [
    {
     "name": "stderr",
     "output_type": "stream",
     "text": [
      "/home/rchaves/miniforge3/envs/biobb_mem/lib/python3.10/site-packages/Bio/Application/__init__.py:39: BiopythonDeprecationWarning: The Bio.Application modules and modules relying on it have been deprecated.\n",
      "\n",
      "Due to the on going maintenance burden of keeping command line application\n",
      "wrappers up to date, we have decided to deprecate and eventually remove these\n",
      "modules.\n",
      "\n",
      "We instead now recommend building your command line and invoking it directly\n",
      "with the subprocess module.\n",
      "  warnings.warn(\n"
     ]
    },
    {
     "name": "stdout",
     "output_type": "stream",
     "text": [
      "2024-12-04 12:43:28,108 [MainThread  ] [INFO ]  Module: biobb_mem.lipyphilic_biobb.lpp_assign_leaflets Version: 5.0.2\n",
      "2024-12-04 12:43:28,109 [MainThread  ] [INFO ]  /home/rchaves/repo/biobb_wf_mem/biobb_wf_mem/notebooks/sandbox_e34b02ff-7e8d-49fa-b6dc-f396bfbb0b82 directory successfully created\n",
      "2024-12-04 12:43:28,111 [MainThread  ] [INFO ]  Copy: A01M6.pdb to /home/rchaves/repo/biobb_wf_mem/biobb_wf_mem/notebooks/sandbox_e34b02ff-7e8d-49fa-b6dc-f396bfbb0b82\n",
      "2024-12-04 12:43:28,701 [MainThread  ] [INFO ]  Copy: A01M6.xtc to /home/rchaves/repo/biobb_wf_mem/biobb_wf_mem/notebooks/sandbox_e34b02ff-7e8d-49fa-b6dc-f396bfbb0b82\n",
      "2024-12-04 12:43:28,961 [MainThread  ] [INFO ]  Removed: ['/home/rchaves/repo/biobb_wf_mem/biobb_wf_mem/notebooks/sandbox_e34b02ff-7e8d-49fa-b6dc-f396bfbb0b82']\n",
      "2024-12-04 12:43:28,962 [MainThread  ] [INFO ]  \n"
     ]
    },
    {
     "data": {
      "text/plain": [
       "0"
      ]
     },
     "execution_count": 12,
     "metadata": {},
     "output_type": "execute_result"
    }
   ],
   "source": [
    "from biobb_mem.lipyphilic_biobb.lpp_assign_leaflets import lpp_assign_leaflets\n",
    "\n",
    "prop = {\n",
    "    'lipid_sel': lipid_sel,\n",
    "    'steps': steps\n",
    "}\n",
    "lpp_assign_leaflets(input_top_path=input_top_path,\n",
    "                    input_traj_path=input_traj_path,\n",
    "                    output_leaflets_path= 'leaflets_data.csv',\n",
    "                    properties=prop)"
   ]
  },
  {
   "cell_type": "markdown",
   "metadata": {},
   "source": [
    "### Visualization"
   ]
  },
  {
   "cell_type": "code",
   "execution_count": 10,
   "metadata": {},
   "outputs": [
    {
     "ename": "FileNotFoundError",
     "evalue": "[Errno 2] No such file or directory: 'leaflets_data.csv'",
     "output_type": "error",
     "traceback": [
      "\u001b[0;31m---------------------------------------------------------------------------\u001b[0m",
      "\u001b[0;31mFileNotFoundError\u001b[0m                         Traceback (most recent call last)",
      "Cell \u001b[0;32mIn[10], line 2\u001b[0m\n\u001b[1;32m      1\u001b[0m \u001b[38;5;28;01mfrom\u001b[39;00m \u001b[38;5;21;01mbiobb_mem\u001b[39;00m\u001b[38;5;21;01m.\u001b[39;00m\u001b[38;5;21;01mlipyphilic_biobb\u001b[39;00m\u001b[38;5;21;01m.\u001b[39;00m\u001b[38;5;21;01mlpp_assign_leaflets\u001b[39;00m \u001b[38;5;28;01mimport\u001b[39;00m display_nglview\n\u001b[0;32m----> 2\u001b[0m view \u001b[38;5;241m=\u001b[39m \u001b[43mdisplay_nglview\u001b[49m\u001b[43m(\u001b[49m\u001b[43minput_top_path\u001b[49m\u001b[43m,\u001b[49m\u001b[43m \u001b[49m\u001b[38;5;124;43m'\u001b[39;49m\u001b[38;5;124;43mleaflets_data.csv\u001b[39;49m\u001b[38;5;124;43m'\u001b[39;49m\u001b[43m)\u001b[49m\n\u001b[1;32m      3\u001b[0m view\u001b[38;5;241m.\u001b[39mcontrol\u001b[38;5;241m.\u001b[39mspin([\u001b[38;5;241m0\u001b[39m, \u001b[38;5;241m1\u001b[39m, \u001b[38;5;241m0\u001b[39m], \u001b[38;5;241m-\u001b[39m\u001b[38;5;241m1.57\u001b[39m)\n\u001b[1;32m      4\u001b[0m view\n",
      "File \u001b[0;32m~/repo/biobb_mem/biobb_mem/lipyphilic_biobb/lpp_assign_leaflets.py:212\u001b[0m, in \u001b[0;36mdisplay_nglview\u001b[0;34m(input_top_path, output_leaflets_path, frame)\u001b[0m\n\u001b[1;32m    210\u001b[0m     \u001b[38;5;28;01mraise\u001b[39;00m \u001b[38;5;167;01mImportError\u001b[39;00m(\u001b[38;5;124m'\u001b[39m\u001b[38;5;124mPlease install the nglview package to visualize the leaflets.\u001b[39m\u001b[38;5;124m'\u001b[39m)\n\u001b[1;32m    211\u001b[0m \u001b[38;5;66;03m# Read the leaflets DataFrame\u001b[39;00m\n\u001b[0;32m--> 212\u001b[0m df \u001b[38;5;241m=\u001b[39m \u001b[43mpd\u001b[49m\u001b[38;5;241;43m.\u001b[39;49m\u001b[43mread_csv\u001b[49m\u001b[43m(\u001b[49m\u001b[43moutput_leaflets_path\u001b[49m\u001b[43m)\u001b[49m\n\u001b[1;32m    213\u001b[0m top_idx \u001b[38;5;241m=\u001b[39m df[(df[\u001b[38;5;124m'\u001b[39m\u001b[38;5;124mframe\u001b[39m\u001b[38;5;124m'\u001b[39m] \u001b[38;5;241m==\u001b[39m frame) \u001b[38;5;241m&\u001b[39m (df[\u001b[38;5;124m'\u001b[39m\u001b[38;5;124mleaflet_index\u001b[39m\u001b[38;5;124m'\u001b[39m] \u001b[38;5;241m==\u001b[39m \u001b[38;5;241m1\u001b[39m)][\u001b[38;5;124m'\u001b[39m\u001b[38;5;124mresindex\u001b[39m\u001b[38;5;124m'\u001b[39m]\u001b[38;5;241m.\u001b[39mvalues\n\u001b[1;32m    214\u001b[0m bot_idx \u001b[38;5;241m=\u001b[39m df[(df[\u001b[38;5;124m'\u001b[39m\u001b[38;5;124mframe\u001b[39m\u001b[38;5;124m'\u001b[39m] \u001b[38;5;241m==\u001b[39m frame) \u001b[38;5;241m&\u001b[39m (df[\u001b[38;5;124m'\u001b[39m\u001b[38;5;124mleaflet_index\u001b[39m\u001b[38;5;124m'\u001b[39m] \u001b[38;5;241m==\u001b[39m \u001b[38;5;241m-\u001b[39m\u001b[38;5;241m1\u001b[39m)][\u001b[38;5;124m'\u001b[39m\u001b[38;5;124mresindex\u001b[39m\u001b[38;5;124m'\u001b[39m]\u001b[38;5;241m.\u001b[39mvalues\n",
      "File \u001b[0;32m~/miniforge3/envs/biobb_mem/lib/python3.10/site-packages/pandas/io/parsers/readers.py:1026\u001b[0m, in \u001b[0;36mread_csv\u001b[0;34m(filepath_or_buffer, sep, delimiter, header, names, index_col, usecols, dtype, engine, converters, true_values, false_values, skipinitialspace, skiprows, skipfooter, nrows, na_values, keep_default_na, na_filter, verbose, skip_blank_lines, parse_dates, infer_datetime_format, keep_date_col, date_parser, date_format, dayfirst, cache_dates, iterator, chunksize, compression, thousands, decimal, lineterminator, quotechar, quoting, doublequote, escapechar, comment, encoding, encoding_errors, dialect, on_bad_lines, delim_whitespace, low_memory, memory_map, float_precision, storage_options, dtype_backend)\u001b[0m\n\u001b[1;32m   1013\u001b[0m kwds_defaults \u001b[38;5;241m=\u001b[39m _refine_defaults_read(\n\u001b[1;32m   1014\u001b[0m     dialect,\n\u001b[1;32m   1015\u001b[0m     delimiter,\n\u001b[0;32m   (...)\u001b[0m\n\u001b[1;32m   1022\u001b[0m     dtype_backend\u001b[38;5;241m=\u001b[39mdtype_backend,\n\u001b[1;32m   1023\u001b[0m )\n\u001b[1;32m   1024\u001b[0m kwds\u001b[38;5;241m.\u001b[39mupdate(kwds_defaults)\n\u001b[0;32m-> 1026\u001b[0m \u001b[38;5;28;01mreturn\u001b[39;00m \u001b[43m_read\u001b[49m\u001b[43m(\u001b[49m\u001b[43mfilepath_or_buffer\u001b[49m\u001b[43m,\u001b[49m\u001b[43m \u001b[49m\u001b[43mkwds\u001b[49m\u001b[43m)\u001b[49m\n",
      "File \u001b[0;32m~/miniforge3/envs/biobb_mem/lib/python3.10/site-packages/pandas/io/parsers/readers.py:620\u001b[0m, in \u001b[0;36m_read\u001b[0;34m(filepath_or_buffer, kwds)\u001b[0m\n\u001b[1;32m    617\u001b[0m _validate_names(kwds\u001b[38;5;241m.\u001b[39mget(\u001b[38;5;124m\"\u001b[39m\u001b[38;5;124mnames\u001b[39m\u001b[38;5;124m\"\u001b[39m, \u001b[38;5;28;01mNone\u001b[39;00m))\n\u001b[1;32m    619\u001b[0m \u001b[38;5;66;03m# Create the parser.\u001b[39;00m\n\u001b[0;32m--> 620\u001b[0m parser \u001b[38;5;241m=\u001b[39m \u001b[43mTextFileReader\u001b[49m\u001b[43m(\u001b[49m\u001b[43mfilepath_or_buffer\u001b[49m\u001b[43m,\u001b[49m\u001b[43m \u001b[49m\u001b[38;5;241;43m*\u001b[39;49m\u001b[38;5;241;43m*\u001b[39;49m\u001b[43mkwds\u001b[49m\u001b[43m)\u001b[49m\n\u001b[1;32m    622\u001b[0m \u001b[38;5;28;01mif\u001b[39;00m chunksize \u001b[38;5;129;01mor\u001b[39;00m iterator:\n\u001b[1;32m    623\u001b[0m     \u001b[38;5;28;01mreturn\u001b[39;00m parser\n",
      "File \u001b[0;32m~/miniforge3/envs/biobb_mem/lib/python3.10/site-packages/pandas/io/parsers/readers.py:1620\u001b[0m, in \u001b[0;36mTextFileReader.__init__\u001b[0;34m(self, f, engine, **kwds)\u001b[0m\n\u001b[1;32m   1617\u001b[0m     \u001b[38;5;28mself\u001b[39m\u001b[38;5;241m.\u001b[39moptions[\u001b[38;5;124m\"\u001b[39m\u001b[38;5;124mhas_index_names\u001b[39m\u001b[38;5;124m\"\u001b[39m] \u001b[38;5;241m=\u001b[39m kwds[\u001b[38;5;124m\"\u001b[39m\u001b[38;5;124mhas_index_names\u001b[39m\u001b[38;5;124m\"\u001b[39m]\n\u001b[1;32m   1619\u001b[0m \u001b[38;5;28mself\u001b[39m\u001b[38;5;241m.\u001b[39mhandles: IOHandles \u001b[38;5;241m|\u001b[39m \u001b[38;5;28;01mNone\u001b[39;00m \u001b[38;5;241m=\u001b[39m \u001b[38;5;28;01mNone\u001b[39;00m\n\u001b[0;32m-> 1620\u001b[0m \u001b[38;5;28mself\u001b[39m\u001b[38;5;241m.\u001b[39m_engine \u001b[38;5;241m=\u001b[39m \u001b[38;5;28;43mself\u001b[39;49m\u001b[38;5;241;43m.\u001b[39;49m\u001b[43m_make_engine\u001b[49m\u001b[43m(\u001b[49m\u001b[43mf\u001b[49m\u001b[43m,\u001b[49m\u001b[43m \u001b[49m\u001b[38;5;28;43mself\u001b[39;49m\u001b[38;5;241;43m.\u001b[39;49m\u001b[43mengine\u001b[49m\u001b[43m)\u001b[49m\n",
      "File \u001b[0;32m~/miniforge3/envs/biobb_mem/lib/python3.10/site-packages/pandas/io/parsers/readers.py:1880\u001b[0m, in \u001b[0;36mTextFileReader._make_engine\u001b[0;34m(self, f, engine)\u001b[0m\n\u001b[1;32m   1878\u001b[0m     \u001b[38;5;28;01mif\u001b[39;00m \u001b[38;5;124m\"\u001b[39m\u001b[38;5;124mb\u001b[39m\u001b[38;5;124m\"\u001b[39m \u001b[38;5;129;01mnot\u001b[39;00m \u001b[38;5;129;01min\u001b[39;00m mode:\n\u001b[1;32m   1879\u001b[0m         mode \u001b[38;5;241m+\u001b[39m\u001b[38;5;241m=\u001b[39m \u001b[38;5;124m\"\u001b[39m\u001b[38;5;124mb\u001b[39m\u001b[38;5;124m\"\u001b[39m\n\u001b[0;32m-> 1880\u001b[0m \u001b[38;5;28mself\u001b[39m\u001b[38;5;241m.\u001b[39mhandles \u001b[38;5;241m=\u001b[39m \u001b[43mget_handle\u001b[49m\u001b[43m(\u001b[49m\n\u001b[1;32m   1881\u001b[0m \u001b[43m    \u001b[49m\u001b[43mf\u001b[49m\u001b[43m,\u001b[49m\n\u001b[1;32m   1882\u001b[0m \u001b[43m    \u001b[49m\u001b[43mmode\u001b[49m\u001b[43m,\u001b[49m\n\u001b[1;32m   1883\u001b[0m \u001b[43m    \u001b[49m\u001b[43mencoding\u001b[49m\u001b[38;5;241;43m=\u001b[39;49m\u001b[38;5;28;43mself\u001b[39;49m\u001b[38;5;241;43m.\u001b[39;49m\u001b[43moptions\u001b[49m\u001b[38;5;241;43m.\u001b[39;49m\u001b[43mget\u001b[49m\u001b[43m(\u001b[49m\u001b[38;5;124;43m\"\u001b[39;49m\u001b[38;5;124;43mencoding\u001b[39;49m\u001b[38;5;124;43m\"\u001b[39;49m\u001b[43m,\u001b[49m\u001b[43m \u001b[49m\u001b[38;5;28;43;01mNone\u001b[39;49;00m\u001b[43m)\u001b[49m\u001b[43m,\u001b[49m\n\u001b[1;32m   1884\u001b[0m \u001b[43m    \u001b[49m\u001b[43mcompression\u001b[49m\u001b[38;5;241;43m=\u001b[39;49m\u001b[38;5;28;43mself\u001b[39;49m\u001b[38;5;241;43m.\u001b[39;49m\u001b[43moptions\u001b[49m\u001b[38;5;241;43m.\u001b[39;49m\u001b[43mget\u001b[49m\u001b[43m(\u001b[49m\u001b[38;5;124;43m\"\u001b[39;49m\u001b[38;5;124;43mcompression\u001b[39;49m\u001b[38;5;124;43m\"\u001b[39;49m\u001b[43m,\u001b[49m\u001b[43m \u001b[49m\u001b[38;5;28;43;01mNone\u001b[39;49;00m\u001b[43m)\u001b[49m\u001b[43m,\u001b[49m\n\u001b[1;32m   1885\u001b[0m \u001b[43m    \u001b[49m\u001b[43mmemory_map\u001b[49m\u001b[38;5;241;43m=\u001b[39;49m\u001b[38;5;28;43mself\u001b[39;49m\u001b[38;5;241;43m.\u001b[39;49m\u001b[43moptions\u001b[49m\u001b[38;5;241;43m.\u001b[39;49m\u001b[43mget\u001b[49m\u001b[43m(\u001b[49m\u001b[38;5;124;43m\"\u001b[39;49m\u001b[38;5;124;43mmemory_map\u001b[39;49m\u001b[38;5;124;43m\"\u001b[39;49m\u001b[43m,\u001b[49m\u001b[43m \u001b[49m\u001b[38;5;28;43;01mFalse\u001b[39;49;00m\u001b[43m)\u001b[49m\u001b[43m,\u001b[49m\n\u001b[1;32m   1886\u001b[0m \u001b[43m    \u001b[49m\u001b[43mis_text\u001b[49m\u001b[38;5;241;43m=\u001b[39;49m\u001b[43mis_text\u001b[49m\u001b[43m,\u001b[49m\n\u001b[1;32m   1887\u001b[0m \u001b[43m    \u001b[49m\u001b[43merrors\u001b[49m\u001b[38;5;241;43m=\u001b[39;49m\u001b[38;5;28;43mself\u001b[39;49m\u001b[38;5;241;43m.\u001b[39;49m\u001b[43moptions\u001b[49m\u001b[38;5;241;43m.\u001b[39;49m\u001b[43mget\u001b[49m\u001b[43m(\u001b[49m\u001b[38;5;124;43m\"\u001b[39;49m\u001b[38;5;124;43mencoding_errors\u001b[39;49m\u001b[38;5;124;43m\"\u001b[39;49m\u001b[43m,\u001b[49m\u001b[43m \u001b[49m\u001b[38;5;124;43m\"\u001b[39;49m\u001b[38;5;124;43mstrict\u001b[39;49m\u001b[38;5;124;43m\"\u001b[39;49m\u001b[43m)\u001b[49m\u001b[43m,\u001b[49m\n\u001b[1;32m   1888\u001b[0m \u001b[43m    \u001b[49m\u001b[43mstorage_options\u001b[49m\u001b[38;5;241;43m=\u001b[39;49m\u001b[38;5;28;43mself\u001b[39;49m\u001b[38;5;241;43m.\u001b[39;49m\u001b[43moptions\u001b[49m\u001b[38;5;241;43m.\u001b[39;49m\u001b[43mget\u001b[49m\u001b[43m(\u001b[49m\u001b[38;5;124;43m\"\u001b[39;49m\u001b[38;5;124;43mstorage_options\u001b[39;49m\u001b[38;5;124;43m\"\u001b[39;49m\u001b[43m,\u001b[49m\u001b[43m \u001b[49m\u001b[38;5;28;43;01mNone\u001b[39;49;00m\u001b[43m)\u001b[49m\u001b[43m,\u001b[49m\n\u001b[1;32m   1889\u001b[0m \u001b[43m\u001b[49m\u001b[43m)\u001b[49m\n\u001b[1;32m   1890\u001b[0m \u001b[38;5;28;01massert\u001b[39;00m \u001b[38;5;28mself\u001b[39m\u001b[38;5;241m.\u001b[39mhandles \u001b[38;5;129;01mis\u001b[39;00m \u001b[38;5;129;01mnot\u001b[39;00m \u001b[38;5;28;01mNone\u001b[39;00m\n\u001b[1;32m   1891\u001b[0m f \u001b[38;5;241m=\u001b[39m \u001b[38;5;28mself\u001b[39m\u001b[38;5;241m.\u001b[39mhandles\u001b[38;5;241m.\u001b[39mhandle\n",
      "File \u001b[0;32m~/miniforge3/envs/biobb_mem/lib/python3.10/site-packages/pandas/io/common.py:873\u001b[0m, in \u001b[0;36mget_handle\u001b[0;34m(path_or_buf, mode, encoding, compression, memory_map, is_text, errors, storage_options)\u001b[0m\n\u001b[1;32m    868\u001b[0m \u001b[38;5;28;01melif\u001b[39;00m \u001b[38;5;28misinstance\u001b[39m(handle, \u001b[38;5;28mstr\u001b[39m):\n\u001b[1;32m    869\u001b[0m     \u001b[38;5;66;03m# Check whether the filename is to be opened in binary mode.\u001b[39;00m\n\u001b[1;32m    870\u001b[0m     \u001b[38;5;66;03m# Binary mode does not support 'encoding' and 'newline'.\u001b[39;00m\n\u001b[1;32m    871\u001b[0m     \u001b[38;5;28;01mif\u001b[39;00m ioargs\u001b[38;5;241m.\u001b[39mencoding \u001b[38;5;129;01mand\u001b[39;00m \u001b[38;5;124m\"\u001b[39m\u001b[38;5;124mb\u001b[39m\u001b[38;5;124m\"\u001b[39m \u001b[38;5;129;01mnot\u001b[39;00m \u001b[38;5;129;01min\u001b[39;00m ioargs\u001b[38;5;241m.\u001b[39mmode:\n\u001b[1;32m    872\u001b[0m         \u001b[38;5;66;03m# Encoding\u001b[39;00m\n\u001b[0;32m--> 873\u001b[0m         handle \u001b[38;5;241m=\u001b[39m \u001b[38;5;28;43mopen\u001b[39;49m\u001b[43m(\u001b[49m\n\u001b[1;32m    874\u001b[0m \u001b[43m            \u001b[49m\u001b[43mhandle\u001b[49m\u001b[43m,\u001b[49m\n\u001b[1;32m    875\u001b[0m \u001b[43m            \u001b[49m\u001b[43mioargs\u001b[49m\u001b[38;5;241;43m.\u001b[39;49m\u001b[43mmode\u001b[49m\u001b[43m,\u001b[49m\n\u001b[1;32m    876\u001b[0m \u001b[43m            \u001b[49m\u001b[43mencoding\u001b[49m\u001b[38;5;241;43m=\u001b[39;49m\u001b[43mioargs\u001b[49m\u001b[38;5;241;43m.\u001b[39;49m\u001b[43mencoding\u001b[49m\u001b[43m,\u001b[49m\n\u001b[1;32m    877\u001b[0m \u001b[43m            \u001b[49m\u001b[43merrors\u001b[49m\u001b[38;5;241;43m=\u001b[39;49m\u001b[43merrors\u001b[49m\u001b[43m,\u001b[49m\n\u001b[1;32m    878\u001b[0m \u001b[43m            \u001b[49m\u001b[43mnewline\u001b[49m\u001b[38;5;241;43m=\u001b[39;49m\u001b[38;5;124;43m\"\u001b[39;49m\u001b[38;5;124;43m\"\u001b[39;49m\u001b[43m,\u001b[49m\n\u001b[1;32m    879\u001b[0m \u001b[43m        \u001b[49m\u001b[43m)\u001b[49m\n\u001b[1;32m    880\u001b[0m     \u001b[38;5;28;01melse\u001b[39;00m:\n\u001b[1;32m    881\u001b[0m         \u001b[38;5;66;03m# Binary mode\u001b[39;00m\n\u001b[1;32m    882\u001b[0m         handle \u001b[38;5;241m=\u001b[39m \u001b[38;5;28mopen\u001b[39m(handle, ioargs\u001b[38;5;241m.\u001b[39mmode)\n",
      "\u001b[0;31mFileNotFoundError\u001b[0m: [Errno 2] No such file or directory: 'leaflets_data.csv'"
     ]
    }
   ],
   "source": [
    "from biobb_mem.lipyphilic_biobb.lpp_assign_leaflets import display_nglview\n",
    "view = display_nglview(input_top_path, 'leaflets_data.csv')\n",
    "view.control.spin([0, 1, 0], -1.57)\n",
    "view"
   ]
  },
  {
   "cell_type": "markdown",
   "metadata": {},
   "source": [
    "<a id=\"channel\"></a>\n",
    "***\n",
    "## Channel"
   ]
  },
  {
   "cell_type": "markdown",
   "metadata": {},
   "source": [
    "Chanel... <br>\n",
    "***\n",
    "**Building Blocks** used:\n",
    " - [MDAHole](https://biobb-mem.readthedocs.io/en/latest/mdanalysis_biobb.html#mdanalysis_biobb.mda_hole.MDAHole) from **from biobb_mem.mdanalysis_biobb.mda_hole**\n",
    "***"
   ]
  },
  {
   "cell_type": "code",
   "execution_count": 14,
   "metadata": {},
   "outputs": [
    {
     "name": "stdout",
     "output_type": "stream",
     "text": [
      "2024-12-04 12:45:05,265 [MainThread  ] [INFO ]  Module: biobb_mem.mdanalysis_biobb.mda_hole Version: 5.0.2\n",
      "2024-12-04 12:45:05,266 [MainThread  ] [INFO ]  /home/rchaves/repo/biobb_wf_mem/biobb_wf_mem/notebooks/sandbox_cded5ead-dc7c-47d6-8a8b-ee6b4202800a directory successfully created\n",
      "2024-12-04 12:45:05,268 [MainThread  ] [INFO ]  Copy: A01M6.pdb to /home/rchaves/repo/biobb_wf_mem/biobb_wf_mem/notebooks/sandbox_cded5ead-dc7c-47d6-8a8b-ee6b4202800a\n"
     ]
    },
    {
     "name": "stderr",
     "output_type": "stream",
     "text": [
      "/home/rchaves/miniforge3/envs/biobb_mem/lib/python3.10/site-packages/MDAnalysis/analysis/hole2/__init__.py:47: DeprecationWarning: Deprecated in version 2.8.0\n",
      "MDAnalysis.analysis.hole2 is deprecated in favour of the MDAKit madahole2 (https://www.mdanalysis.org/mdahole2/) and will be removed in MDAnalysis version 3.0.0\n",
      "  warnings.warn(wmsg, category=DeprecationWarning)\n"
     ]
    },
    {
     "name": "stdout",
     "output_type": "stream",
     "text": [
      "2024-12-04 12:45:05,845 [MainThread  ] [INFO ]  Copy: A01M6.xtc to /home/rchaves/repo/biobb_wf_mem/biobb_wf_mem/notebooks/sandbox_cded5ead-dc7c-47d6-8a8b-ee6b4202800a\n"
     ]
    },
    {
     "name": "stderr",
     "output_type": "stream",
     "text": [
      "/home/rchaves/miniforge3/envs/biobb_mem/lib/python3.10/site-packages/MDAnalysis/coordinates/PDB.py:1154: UserWarning: Found no information for attr: 'formalcharges' Using default value of '0'\n",
      "  warnings.warn(\"Found no information for attr: '{}'\"\n",
      "/home/rchaves/miniforge3/envs/biobb_mem/lib/python3.10/site-packages/MDAnalysis/lib/util.py:575: DeprecationWarning: This method is deprecated as of MDAnalysis version 2.7.0 and will be removed in version 3.0.0. Please use shutil.which instead.\n",
      "  warnings.warn(wmsg, DeprecationWarning)\n"
     ]
    },
    {
     "name": "stdout",
     "output_type": "stream",
     "text": [
      "2024-12-04 12:45:18,455 [MainThread  ] [INFO ]  Removed: ['/home/rchaves/repo/biobb_wf_mem/biobb_wf_mem/notebooks/sandbox_cded5ead-dc7c-47d6-8a8b-ee6b4202800a']\n",
      "2024-12-04 12:45:18,455 [MainThread  ] [INFO ]  \n"
     ]
    },
    {
     "data": {
      "text/plain": [
       "0"
      ]
     },
     "execution_count": 14,
     "metadata": {},
     "output_type": "execute_result"
    }
   ],
   "source": [
    "from biobb_mem.mdanalysis_biobb.mda_hole import mda_hole\n",
    "\n",
    "prop = {\n",
    "    'select': 'protein',\n",
    "    'steps': steps,\n",
    "    'sample': 0.1\n",
    "}\n",
    "mda_hole(input_top_path=input_top_path,\n",
    "         input_traj_path=input_traj_path,\n",
    "         output_hole_path='hole.vmd',\n",
    "         properties=prop)"
   ]
  },
  {
   "cell_type": "code",
   "execution_count": null,
   "metadata": {},
   "outputs": [],
   "source": [
    "from biobb_mem.mdanalysis_biobb.mda_hole import display_hole\n",
    "display_hole(input_top_path, opacity=0.9)"
   ]
  },
  {
   "cell_type": "code",
   "execution_count": 15,
   "metadata": {},
   "outputs": [],
   "source": [
    "#%conda install -c conda-forge vmd -y # si se instala en el entorno conda da problemas de clobber y jupyter no arranca\n",
    "#%conda install libsqlite --force-reinstall -y # vmd breaks it"
   ]
  },
  {
   "cell_type": "code",
   "execution_count": 16,
   "metadata": {
    "vscode": {
     "languageId": "ruby"
    }
   },
   "outputs": [
    {
     "name": "stdout",
     "output_type": "stream",
     "text": [
      "Info) VMD for LINUXAMD64, version 1.9.4a57 (April 27, 2022)\n",
      "Info) http://www.ks.uiuc.edu/Research/vmd/                         \n",
      "Info) Email questions and bug reports to vmd@ks.uiuc.edu           \n",
      "Info) Please include this reference in published work using VMD:   \n",
      "Info)    Humphrey, W., Dalke, A. and Schulten, K., `VMD - Visual   \n",
      "Info)    Molecular Dynamics', J. Molec. Graphics 1996, 14.1, 33-38.\n",
      "Info) -------------------------------------------------------------\n",
      "Info) Multithreading available, 16 CPUs.\n",
      "Info)   CPU features: SSE2 SSE4.1 AVX AVX2 FMA F16 HT \n",
      "Info) Free system memory: 52GB (83%)\n",
      "Info) No CUDA accelerator devices available.\n",
      "Info) OpenGL renderer: Mesa Intel(R) UHD Graphics 630 (CML GT2)\n",
      "Info)   Features: STENCIL MSAA(4) MDE CVA MTX NPOT PP PS GLSL(OVFS) \n",
      "Info)   Full GLSL rendering mode is available.\n",
      "Info)   Textures: 2-D (16384x16384), 3-D (512x512x512), Multitexture (8)\n",
      "Info) Detected 8 XInput devices, 1 usable device:\n",
      "Info)   [8] xwayland-pointer-gestures:16, type: 242, classes: 1\n",
      "Info) Dynamically loaded 3 plugins in directory:\n",
      "Info) /usr/local/lib/vmd/plugins/LINUXAMD64/molfile\n",
      "Info) File loading in progress, please wait.\n",
      "Info) Using plugin pdb for structure file A01M6.pdb\n",
      "Info) Using plugin pdb for coordinates from file A01M6.pdb\n",
      "Info) Determining bond structure from distance search ...\n",
      "Info) Finished with coordinate file A01M6.pdb.\n",
      "Info) Analyzing structure ...\n",
      "Info)    Atoms: 47441\n",
      "Info)    Bonds: 47223\n",
      "Info)    Angles: 0  Dihedrals: 0  Impropers: 0  Cross-terms: 0\n",
      "Info)    Bondtypes: 0  Angletypes: 0  Dihedraltypes: 0  Impropertypes: 0\n",
      "Info)    Residues: 2259\n",
      "Info)    Waters: 0\n",
      "Info)    Segments: 1\n",
      "Info)    Fragments: 599   Protein: 5   Nucleic: 0\n",
      "Info) Using plugin xtc for coordinates from file A01M6.xtc\n",
      "Info) Coordinate I/O rate 0.24 frames/sec, 0 MB/sec, 4.2 sec\n",
      "Info) Finished with coordinate file A01M6.xtc.\n",
      "0\n",
      "vmd > ^C\n",
      "vmd > "
     ]
    }
   ],
   "source": [
    "# TODO: cargar más frame (lento pero se resolvería con H5MD) y mirar por que algunos caneles salen torcidos\n",
    "vmd_script = f\"\"\"\n",
    "mol addfile {input_traj_path} type xtc first 0 last 1 step {steps} waitfor all\n",
    "animate delete beg 0 end 0\n",
    "source hole.vmd\n",
    "\"\"\"\n",
    "\n",
    "# Join the contents and write to a new file\n",
    "with open('vmd_script.vmd', 'w') as fl:\n",
    "    fl.write(vmd_script)\n",
    "\n",
    "!vmd -pdb {input_top_path} -e vmd_script.vmd"
   ]
  }
 ],
 "metadata": {
  "kernelspec": {
   "display_name": "biobb_mem",
   "language": "python",
   "name": "python3"
  },
  "language_info": {
   "codemirror_mode": {
    "name": "ipython",
    "version": 3
   },
   "file_extension": ".py",
   "mimetype": "text/x-python",
   "name": "python",
   "nbconvert_exporter": "python",
   "pygments_lexer": "ipython3",
   "version": "3.10.15"
  }
 },
 "nbformat": 4,
 "nbformat_minor": 4
}
