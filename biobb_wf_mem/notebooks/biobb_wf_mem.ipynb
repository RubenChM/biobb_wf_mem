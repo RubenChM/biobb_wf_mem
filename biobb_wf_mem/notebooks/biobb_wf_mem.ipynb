{
 "cells": [
  {
   "cell_type": "code",
   "execution_count": 34,
   "metadata": {},
   "outputs": [],
   "source": [
    "import os, requests\n",
    "import pandas as pd\n",
    "import nglview as nv\n",
    "import matplotlib.pyplot as plt\n",
    "from ipywidgets import Output, HBox"
   ]
  },
  {
   "cell_type": "markdown",
   "metadata": {},
   "source": [
    "<a id=\"input\"></a>\n",
    "## Input parameters\n",
    "**Input parameters** needed:\n",
    " - **MD_id**: PDB code of the protein structure (e.g. [A01M6](https://mmb-dev.mddbr.eu/#/id/A01M6/overview))"
   ]
  },
  {
   "cell_type": "code",
   "execution_count": 33,
   "metadata": {},
   "outputs": [],
   "source": [
    "MD_id = 'A01M6'\n",
    "steps = 1500\n",
    "lipid_sel = '(resname DPPC and name P8)'\n",
    "ngl_sel = 'DPPC'\n",
    "ngl_hd_sel = f'{ngl_sel} and _P'\n",
    "\n",
    "# common arguments for all the components\n",
    "input_top_path = f'data/{MD_id}.pdb'\n",
    "input_traj_path = f'data/{MD_id}.xtc'"
   ]
  },
  {
   "cell_type": "markdown",
   "metadata": {},
   "source": [
    "<a id=\"fetch\"></a>\n",
    "***\n",
    "## Fetching structure and trajectory"
   ]
  },
  {
   "cell_type": "code",
   "execution_count": 8,
   "metadata": {},
   "outputs": [],
   "source": [
    "# Check if folders 'out' and 'tmp' exist and create them if not\n",
    "for folder in ['out', 'data']:\n",
    "    if not os.path.exists(folder):\n",
    "        os.makedirs(folder)\n",
    "        print(f\"Created folder: {folder}\")\n",
    "\n",
    "# Check if PDB and XTC files already exist\n",
    "if not os.path.exists(f\"data/{MD_id}.pdb\"):\n",
    "    # Download PDB\n",
    "    headers = {'accept': 'chemical/x-pdb'}\n",
    "    url = f\"https://mmb-dev.mddbr.eu/api/rest/v1/projects/{MD_id}/files/structure.pdb\"\n",
    "    response = requests.get(url, headers=headers)\n",
    "    if response.status_code == 200:\n",
    "        pdb_content = response.text\n",
    "        # Save the PDB content to a file\n",
    "        with open(f\"{MD_id}.pdb\", 'w') as pdb_file:   \n",
    "            pdb_file.write(pdb_content)\n",
    "        print(f\"Saved PDB file\")\n",
    "    else:\n",
    "        print(f\"Error for the PDB file: {response.status_code}\")\n",
    "\n",
    "if not os.path.exists(f\"data/{MD_id}.xtc\"): \n",
    "    # Download XTC\n",
    "    headers2 = {'accept': 'application/octet-stream'}\n",
    "    url2= f'https://mmb-dev.mddbr.eu/api/rest/v1/projects/{MD_id}/files/trajectory.xtc'\n",
    "    response2 = requests.get(url2, headers=headers2)\n",
    "    if response2.status_code == 200:\n",
    "        xtc_content = response2.content\n",
    "        with open(f\"{MD_id}.xtc\", 'wb') as xtc_file:\n",
    "            xtc_file.write(xtc_content)\n",
    "        print(f\"Saved XTC file\")\n",
    "    else:\n",
    "        print(f\"Error for the XTC file: {response2.status_code}\")"
   ]
  },
  {
   "cell_type": "code",
   "execution_count": 31,
   "metadata": {},
   "outputs": [
    {
     "data": {
      "application/vnd.jupyter.widget-view+json": {
       "model_id": "394ab36126b74a7dac4f61a91209cf8b",
       "version_major": 2,
       "version_minor": 0
      },
      "text/plain": [
       "NGLWidget()"
      ]
     },
     "metadata": {},
     "output_type": "display_data"
    }
   ],
   "source": [
    "view = nv.show_file(input_top_path)\n",
    "view"
   ]
  },
  {
   "cell_type": "markdown",
   "metadata": {},
   "source": [
    "<a id=\"membrane\"></a>\n",
    "***\n",
    "## Membrane identification"
   ]
  },
  {
   "cell_type": "markdown",
   "metadata": {},
   "source": [
    "Membrane identification...<br>\n",
    "***\n",
    "**Building Blocks** used:\n",
    " - [FatslimMembranes](https://biobb-mem.readthedocs.io/en/latest/fatslim.html#module-fatslim.fatslim_membranes) from **biobb_mem.fatslim.fatslim_membranes**\n",
    "***"
   ]
  },
  {
   "cell_type": "code",
   "execution_count": 12,
   "metadata": {},
   "outputs": [
    {
     "name": "stdout",
     "output_type": "stream",
     "text": [
      "2024-12-05 15:12:49,614 [MainThread  ] [INFO ]  Module: biobb_mem.fatslim.fatslim_membranes Version: 5.0.2\n",
      "2024-12-05 15:12:49,615 [MainThread  ] [INFO ]  /home/rchaves/repo/biobb_wf_mem/biobb_wf_mem/notebooks/sandbox_3cafefda-947b-4ba4-b79e-9ffc345dc5b6 directory successfully created\n",
      "2024-12-05 15:12:49,627 [MainThread  ] [INFO ]  Copy: data/A01M6.pdb to /home/rchaves/repo/biobb_wf_mem/biobb_wf_mem/notebooks/sandbox_3cafefda-947b-4ba4-b79e-9ffc345dc5b6\n",
      "2024-12-05 15:12:50,640 [MainThread  ] [INFO ]  Copy: data/A01M6.xtc to /home/rchaves/repo/biobb_wf_mem/biobb_wf_mem/notebooks/sandbox_3cafefda-947b-4ba4-b79e-9ffc345dc5b6\n",
      "2024-12-05 15:12:50,988 [MainThread  ] [INFO ]  gmx editconf -f /home/rchaves/repo/biobb_wf_mem/biobb_wf_mem/notebooks/sandbox_3cafefda-947b-4ba4-b79e-9ffc345dc5b6/A01M6.pdb -o 4663c9ca-2fc9-494c-a12e-4a5322babf42/output.gro -box 147.3093 147.3093 177.3872 ; fatslim membranes -n 7e2dc93c-702b-42a2-b0de-f0e92d367ea3/headgroups.ndx -c 4663c9ca-2fc9-494c-a12e-4a5322babf42/output.gro --output-index 320634ee-e704-4260-9e41-b55e0dfd4dd2/output.ndx --cutoff 2.2 --begin-frame -1 --end-frame -1\n",
      "\n",
      "2024-12-05 15:12:51,847 [MainThread  ] [INFO ]  Executing: gmx editconf -f /home/rchaves/repo/biobb_wf_mem/biobb_wf_mem/notebooks/sandbox_3...\n",
      "2024-12-05 15:12:51,847 [MainThread  ] [INFO ]  Exit code: 0\n",
      "2024-12-05 15:12:51,848 [MainThread  ] [INFO ]  Note that major changes are planned in future for editconf, to improve usability and utility.\n",
      "Read 47441 atoms\n",
      "No velocities found\n",
      "    system size : 16.768 17.351 12.663 (nm)\n",
      "    center      :  7.352  7.389  6.818 (nm)\n",
      "    box vectors :  0.000  0.000  0.000 (nm)\n",
      "    box angles  :   0.00   0.00   0.00 (degrees)\n",
      "    box volume  :   0.00               (nm^3)\n",
      "    shift       : 66.303 66.266 81.876 (nm)\n",
      "new center      : 73.654 73.655 88.693 (nm)\n",
      "new box vectors :147.309147.309177.387 (nm)\n",
      "new box angles  :  90.00  90.00  90.00 (degrees)\n",
      "new box volume  :3849307.50               (nm^3)\n",
      "FATSLiM - Fast Analysis Toolbox for Simulations of Lipid Membranes\n",
      "version 0.2.2\n",
      "Copyright (c) 2013-2016 Sébastien Buchoux\n",
      "\n",
      "Running command: 'membranes'... This may take some time, be patient!\n",
      "Analysis will be performed using 16 threads.\n",
      "Analysing frame     1/    1 (time: 0 ps)... done in 497 ms (Remaining: 0 s)\n",
      "'membranes' command executed in 546.899 ms (CPU)\n",
      "Goodbye!\n",
      "\n",
      "2024-12-05 15:12:51,848 [MainThread  ] [INFO ]                 :-) GROMACS - gmx editconf, 2024.4-conda_forge (-:\n",
      "\n",
      "Executable:   /home/rchaves/miniforge3/envs/biobb_mem/bin.AVX2_256/gmx\n",
      "Data prefix:  /home/rchaves/miniforge3/envs/biobb_mem\n",
      "Working dir:  /home/rchaves/repo/biobb_wf_mem/biobb_wf_mem/notebooks\n",
      "Command line:\n",
      "  gmx editconf -f /home/rchaves/repo/biobb_wf_mem/biobb_wf_mem/notebooks/sandbox_3cafefda-947b-4ba4-b79e-9ffc345dc5b6/A01M6.pdb -o 4663c9ca-2fc9-494c-a12e-4a5322babf42/output.gro -box 147.3093 147.3093 177.3872\n",
      "\n",
      "\n",
      "GROMACS reminds you: \"You still have to climb to the shoulders of the giants\" (Vedran Miletic)\n",
      "\n",
      "\n",
      "2024-12-05 15:12:51,850 [MainThread  ] [INFO ]  Removed: ['/home/rchaves/repo/biobb_wf_mem/biobb_wf_mem/notebooks/sandbox_3cafefda-947b-4ba4-b79e-9ffc345dc5b6', '7e2dc93c-702b-42a2-b0de-f0e92d367ea3', '4663c9ca-2fc9-494c-a12e-4a5322babf42', '320634ee-e704-4260-9e41-b55e0dfd4dd2']\n",
      "2024-12-05 15:12:51,850 [MainThread  ] [INFO ]  \n"
     ]
    },
    {
     "data": {
      "text/plain": [
       "0"
      ]
     },
     "execution_count": 12,
     "metadata": {},
     "output_type": "execute_result"
    }
   ],
   "source": [
    "from biobb_mem.fatslim.fatslim_membranes import fatslim_membranes\n",
    "\n",
    "prop = {\n",
    "    'selection': lipid_sel,\n",
    "    'cutoff': 2.2\n",
    "}\n",
    "fatslim_membranes(input_top_path=input_top_path,\n",
    "                  input_traj_path=input_traj_path,\n",
    "                  output_ndx_path=\"out/leaflets.ndx\",\n",
    "                  properties=prop)"
   ]
  },
  {
   "cell_type": "code",
   "execution_count": 13,
   "metadata": {},
   "outputs": [
    {
     "name": "stdout",
     "output_type": "stream",
     "text": [
      "\u001b[0;31mSignature:\u001b[0m \u001b[0mparse_index\u001b[0m\u001b[0;34m(\u001b[0m\u001b[0mndx\u001b[0m\u001b[0;34m)\u001b[0m\u001b[0;34m\u001b[0m\u001b[0;34m\u001b[0m\u001b[0m\n",
      "\u001b[0;31mSource:\u001b[0m   \n",
      "\u001b[0;32mdef\u001b[0m \u001b[0mparse_index\u001b[0m\u001b[0;34m(\u001b[0m\u001b[0mndx\u001b[0m\u001b[0;34m)\u001b[0m\u001b[0;34m:\u001b[0m\u001b[0;34m\u001b[0m\n",
      "\u001b[0;34m\u001b[0m    \u001b[0;34m\"\"\"\u001b[0m\n",
      "\u001b[0;34m    Parses a GROMACS index file (.ndx) to extract leaflet groups.\u001b[0m\n",
      "\u001b[0;34m\u001b[0m\n",
      "\u001b[0;34m    Args:\u001b[0m\n",
      "\u001b[0;34m        ndx (str): Path to the GROMACS index file (.ndx).\u001b[0m\n",
      "\u001b[0;34m    Returns:\u001b[0m\n",
      "\u001b[0;34m        dict: A dictionary where keys are group names and values are lists of integers representing atom indices.\u001b[0m\n",
      "\u001b[0;34m    \"\"\"\u001b[0m\u001b[0;34m\u001b[0m\n",
      "\u001b[0;34m\u001b[0m\u001b[0;34m\u001b[0m\n",
      "\u001b[0;34m\u001b[0m    \u001b[0;31m# Read the leaflet.ndx file\u001b[0m\u001b[0;34m\u001b[0m\n",
      "\u001b[0;34m\u001b[0m    \u001b[0;32mwith\u001b[0m \u001b[0mopen\u001b[0m\u001b[0;34m(\u001b[0m\u001b[0mndx\u001b[0m\u001b[0;34m,\u001b[0m \u001b[0;34m'r'\u001b[0m\u001b[0;34m)\u001b[0m \u001b[0;32mas\u001b[0m \u001b[0mfile\u001b[0m\u001b[0;34m:\u001b[0m\u001b[0;34m\u001b[0m\n",
      "\u001b[0;34m\u001b[0m        \u001b[0mleaflet_data\u001b[0m \u001b[0;34m=\u001b[0m \u001b[0mfile\u001b[0m\u001b[0;34m.\u001b[0m\u001b[0mreadlines\u001b[0m\u001b[0;34m(\u001b[0m\u001b[0;34m)\u001b[0m\u001b[0;34m\u001b[0m\n",
      "\u001b[0;34m\u001b[0m\u001b[0;34m\u001b[0m\n",
      "\u001b[0;34m\u001b[0m    \u001b[0;31m# Initialize dictionaries to store leaflet groups\u001b[0m\u001b[0;34m\u001b[0m\n",
      "\u001b[0;34m\u001b[0m    \u001b[0mleaflet_groups\u001b[0m \u001b[0;34m=\u001b[0m \u001b[0;34m{\u001b[0m\u001b[0;34m}\u001b[0m\u001b[0;34m\u001b[0m\n",
      "\u001b[0;34m\u001b[0m    \u001b[0mcurrent_group\u001b[0m \u001b[0;34m=\u001b[0m \u001b[0;32mNone\u001b[0m\u001b[0;34m\u001b[0m\n",
      "\u001b[0;34m\u001b[0m\u001b[0;34m\u001b[0m\n",
      "\u001b[0;34m\u001b[0m    \u001b[0;31m# Parse the leaflet.ndx file\u001b[0m\u001b[0;34m\u001b[0m\n",
      "\u001b[0;34m\u001b[0m    \u001b[0;32mfor\u001b[0m \u001b[0mline\u001b[0m \u001b[0;32min\u001b[0m \u001b[0mleaflet_data\u001b[0m\u001b[0;34m:\u001b[0m\u001b[0;34m\u001b[0m\n",
      "\u001b[0;34m\u001b[0m        \u001b[0mline\u001b[0m \u001b[0;34m=\u001b[0m \u001b[0mline\u001b[0m\u001b[0;34m.\u001b[0m\u001b[0mstrip\u001b[0m\u001b[0;34m(\u001b[0m\u001b[0;34m)\u001b[0m\u001b[0;34m\u001b[0m\n",
      "\u001b[0;34m\u001b[0m        \u001b[0;32mif\u001b[0m \u001b[0mline\u001b[0m\u001b[0;34m.\u001b[0m\u001b[0mstartswith\u001b[0m\u001b[0;34m(\u001b[0m\u001b[0;34m'['\u001b[0m\u001b[0;34m)\u001b[0m \u001b[0;32mand\u001b[0m \u001b[0mline\u001b[0m\u001b[0;34m.\u001b[0m\u001b[0mendswith\u001b[0m\u001b[0;34m(\u001b[0m\u001b[0;34m']'\u001b[0m\u001b[0;34m)\u001b[0m\u001b[0;34m:\u001b[0m\u001b[0;34m\u001b[0m\n",
      "\u001b[0;34m\u001b[0m            \u001b[0mcurrent_group\u001b[0m \u001b[0;34m=\u001b[0m \u001b[0mline\u001b[0m\u001b[0;34m[\u001b[0m\u001b[0;36m1\u001b[0m\u001b[0;34m:\u001b[0m\u001b[0;34m-\u001b[0m\u001b[0;36m1\u001b[0m\u001b[0;34m]\u001b[0m\u001b[0;34m.\u001b[0m\u001b[0mstrip\u001b[0m\u001b[0;34m(\u001b[0m\u001b[0;34m)\u001b[0m\u001b[0;34m\u001b[0m\n",
      "\u001b[0;34m\u001b[0m            \u001b[0mleaflet_groups\u001b[0m\u001b[0;34m[\u001b[0m\u001b[0mcurrent_group\u001b[0m\u001b[0;34m]\u001b[0m \u001b[0;34m=\u001b[0m \u001b[0;34m[\u001b[0m\u001b[0;34m]\u001b[0m\u001b[0;34m\u001b[0m\n",
      "\u001b[0;34m\u001b[0m        \u001b[0;32melif\u001b[0m \u001b[0mcurrent_group\u001b[0m \u001b[0;32mis\u001b[0m \u001b[0;32mnot\u001b[0m \u001b[0;32mNone\u001b[0m\u001b[0;34m:\u001b[0m\u001b[0;34m\u001b[0m\n",
      "\u001b[0;34m\u001b[0m            \u001b[0mleaflet_groups\u001b[0m\u001b[0;34m[\u001b[0m\u001b[0mcurrent_group\u001b[0m\u001b[0;34m]\u001b[0m\u001b[0;34m.\u001b[0m\u001b[0mextend\u001b[0m\u001b[0;34m(\u001b[0m\u001b[0mmap\u001b[0m\u001b[0;34m(\u001b[0m\u001b[0mint\u001b[0m\u001b[0;34m,\u001b[0m \u001b[0mline\u001b[0m\u001b[0;34m.\u001b[0m\u001b[0msplit\u001b[0m\u001b[0;34m(\u001b[0m\u001b[0;34m)\u001b[0m\u001b[0;34m)\u001b[0m\u001b[0;34m)\u001b[0m\u001b[0;34m\u001b[0m\n",
      "\u001b[0;34m\u001b[0m    \u001b[0;32mreturn\u001b[0m \u001b[0mleaflet_groups\u001b[0m\u001b[0;34m\u001b[0m\u001b[0;34m\u001b[0m\u001b[0m\n",
      "\u001b[0;31mFile:\u001b[0m      ~/repo/biobb_mem/biobb_mem/fatslim/fatslim_membranes.py\n",
      "\u001b[0;31mType:\u001b[0m      function"
     ]
    }
   ],
   "source": [
    "from biobb_mem.fatslim.fatslim_membranes import parse_index\n",
    "parse_index??"
   ]
  },
  {
   "cell_type": "code",
   "execution_count": 15,
   "metadata": {},
   "outputs": [
    {
     "data": {
      "application/vnd.jupyter.widget-view+json": {
       "model_id": "a24d6b2600444156968022c59c04d535",
       "version_major": 2,
       "version_minor": 0
      },
      "text/plain": [
       "NGLWidget()"
      ]
     },
     "metadata": {},
     "output_type": "display_data"
    }
   ],
   "source": [
    "from biobb_mem.fatslim.fatslim_membranes import display_fatslim\n",
    "view = display_fatslim(input_top_path,output_ndx_path=\"out/leaflets.ndx\")\n",
    "view.add_ball_and_stick(selection=ngl_hd_sel, color='white',aspect_ratio=5) # headgroups\n",
    "view"
   ]
  },
  {
   "cell_type": "markdown",
   "metadata": {},
   "source": [
    "<a id=\"density\"></a>\n",
    "***\n",
    "## Density profile"
   ]
  },
  {
   "cell_type": "markdown",
   "metadata": {},
   "source": [
    "Calculate density... [amber selection masks](https://amberhub.chpc.utah.edu/atom-mask-selection-syntax/)<br>\n",
    "***\n",
    "**Building Blocks** used:\n",
    " - [CpptrajDensity](https://biobb-mem.readthedocs.io/en/latest/ambertools.html#module-ambertools.cpptraj_density) from **biobb_mem.ambertools.cpptraj_density**\n",
    "***"
   ]
  },
  {
   "cell_type": "code",
   "execution_count": 35,
   "metadata": {},
   "outputs": [
    {
     "name": "stdout",
     "output_type": "stream",
     "text": [
      "2024-12-05 15:24:18,789 [MainThread  ] [INFO ]  Module: biobb_mem.ambertools.cpptraj_density Version: 5.0.2\n",
      "2024-12-05 15:24:18,790 [MainThread  ] [INFO ]  /home/rchaves/repo/biobb_wf_mem/biobb_wf_mem/notebooks/sandbox_e130a480-f3dd-4c6e-a1d9-3e64bff3c1bb directory successfully created\n",
      "2024-12-05 15:24:18,792 [MainThread  ] [INFO ]  Copy: data/A01M6.pdb to /home/rchaves/repo/biobb_wf_mem/biobb_wf_mem/notebooks/sandbox_e130a480-f3dd-4c6e-a1d9-3e64bff3c1bb\n",
      "2024-12-05 15:24:19,367 [MainThread  ] [INFO ]  Copy: data/A01M6.xtc to /home/rchaves/repo/biobb_wf_mem/biobb_wf_mem/notebooks/sandbox_e130a480-f3dd-4c6e-a1d9-3e64bff3c1bb\n",
      "2024-12-05 15:24:19,367 [MainThread  ] [INFO ]  cpptraj -i 12090ea6-2d44-486b-8d7f-443f222c576c/instructions.in\n",
      "\n",
      "2024-12-05 15:24:19,546 [MainThread  ] [INFO ]  Executing: cpptraj -i 12090ea6-2d44-486b-8d7f-443f222c576c/instructions.in...\n",
      "2024-12-05 15:24:19,547 [MainThread  ] [INFO ]  Exit code: 0\n",
      "2024-12-05 15:24:19,548 [MainThread  ] [INFO ]  \n",
      "CPPTRAJ: Trajectory Analysis. V6.18.1 (AmberTools)\n",
      "    ___  ___  ___  ___\n",
      "     | \\/ | \\/ | \\/ | \n",
      "    _|_/\\_|_/\\_|_/\\_|_\n",
      "\n",
      "| Date/time: 12/05/24 15:24:19\n",
      "| Available memory: 18.916 GB\n",
      "\n",
      "INPUT: Reading input from '12090ea6-2d44-486b-8d7f-443f222c576c/instructions.in'\n",
      "  [parm /home/rchaves/repo/biobb_wf_mem/biobb_wf_mem/notebooks/sandbox_e130a480-f3dd-4c6e-a1d9-3e64bff3c1bb/A01M6.pdb]\n",
      "\tReading '/home/rchaves/repo/biobb_wf_mem/biobb_wf_mem/notebooks/sandbox_e130a480-f3dd-4c6e-a1d9-3e64bff3c1bb/A01M6.pdb' as PDB File\n",
      "\tReading bond info from CONECT records.\n",
      "\tNot reading bond info from LINK records.\n",
      "\tDetermining bond info from distances.\n",
      "Warning: Determining bond length parameters from element types for 'A01M6.pdb'.\n",
      "  [trajin /home/rchaves/repo/biobb_wf_mem/biobb_wf_mem/notebooks/sandbox_e130a480-f3dd-4c6e-a1d9-3e64bff3c1bb/A01M6.xtc 1 -1 1500]\n",
      "\tReading '/home/rchaves/repo/biobb_wf_mem/biobb_wf_mem/notebooks/sandbox_e130a480-f3dd-4c6e-a1d9-3e64bff3c1bb/A01M6.xtc' as Gromacs XTC\n",
      "Warning: Trajectory box type is 'Tetragonal' but topology box type is 'None'.\n",
      "Warning: Setting topology box information from trajectory.\n",
      "  [density number out /home/rchaves/repo/biobb_wf_mem/biobb_wf_mem/notebooks/sandbox_e130a480-f3dd-4c6e-a1d9-3e64bff3c1bb/density_mask.dat ::M ::A,B delta 0.25 z bincenter]\n",
      "    DENSITY: Determining number density for 2 masks.\n",
      "\troutine version: 1.0.3\n",
      "\tDelta is 0.250000\n",
      "\tAxis is Z\n",
      "\tData set name is 'DENSITY_00001'\n",
      "\tData set aspect [avg] holds the mean, aspect [sd] holds standard deviation.\n",
      "\tBin coordinates will be to bin center.\n",
      "\tOutput to '/home/rchaves/repo/biobb_wf_mem/biobb_wf_mem/notebooks/sandbox_e130a480-f3dd-4c6e-a1d9-3e64bff3c1bb/density_mask.dat'\n",
      "---------- RUN BEGIN -------------------------------------------------\n",
      "\n",
      "PARAMETER FILES (1 total):\n",
      " 0: A01M6.pdb, 47441 atoms, 2259 res, box: Tetragonal, 599 mol\n",
      "\n",
      "INPUT TRAJECTORIES (1 total):\n",
      " 0: 'A01M6.xtc' is a GROMACS XTC file, Parm A01M6.pdb (Tetragonal box) (reading 7 of 10001)\n",
      "  Coordinate processing will occur on 7 frames.\n",
      "\n",
      "BEGIN TRAJECTORY PROCESSING:\n",
      ".....................................................\n",
      "ACTION SETUP FOR PARM 'A01M6.pdb' (1 actions):\n",
      "  0: [density number out /home/rchaves/repo/biobb_wf_mem/biobb_wf_mem/notebooks/sandbox_e130a480-f3dd-4c6e-a1d9-3e64bff3c1bb/density_mask.dat ::M ::A,B delta 0.25 z bincenter]\n",
      "\t [::M](29700)\n",
      "\t [::A,B](7140)\n",
      "----- A01M6.xtc (1-10001, 1500) -----\n",
      " 0% 17% 33% 50% 67% 83% 100% Complete.\n",
      "\n",
      "Read 7 frames and processed 7 frames.\n",
      "TIME: Avg. throughput= 291.9830 frames / second.\n",
      "\n",
      "ACTION OUTPUT:\n",
      "    DENSITY: The average box area in X/Y is 20644.52 Angstrom (sd = 536.74).\n",
      "TIME: Analyses took 0.0000 seconds.\n",
      "\n",
      "DATASETS (4 total):\n",
      "\tDENSITY_00001[avg]:1 \"::M\" (double), size is 677 (5.416 kB)\n",
      "\tDENSITY_00001[sd]:1 \"sd(::M)\" (double), size is 677 (5.416 kB)\n",
      "\tDENSITY_00001[avg]:2 \"::A,B\" (double), size is 677 (5.416 kB)\n",
      "\tDENSITY_00001[sd]:2 \"sd(::A,B)\" (double), size is 677 (5.416 kB)\n",
      "    Total data set memory usage is at least 21.664 kB\n",
      "\n",
      "DATAFILES (1 total):\n",
      "  density_mask.dat (Standard Data File):  ::M sd(::M) ::A,B sd(::A,B)\n",
      "\n",
      "RUN TIMING:\n",
      "TIME:\t\tInit               : 0.0000 s (  0.01%)\n",
      "TIME:\t\tTrajectory Process : 0.0240 s ( 95.16%)\n",
      "TIME:\t\tAction Post        : 0.0000 s (  0.09%)\n",
      "TIME:\t\tAnalysis           : 0.0000 s (  0.00%)\n",
      "TIME:\t\tData File Write    : 0.0011 s (  4.56%)\n",
      "TIME:\t\tOther              : 0.0000 s (  0.00%)\n",
      "TIME:\tRun Total 0.0252 s\n",
      "---------- RUN END ---------------------------------------------------\n",
      "TIME: Total execution time: 0.1635 seconds.\n",
      "--------------------------------------------------------------------------------\n",
      "To cite CPPTRAJ use:\n",
      "Daniel R. Roe and Thomas E. Cheatham, III, \"PTRAJ and CPPTRAJ: Software for\n",
      "  Processing and Analysis of Molecular Dynamics Trajectory Data\". J. Chem.\n",
      "  Theory Comput., 2013, 9 (7), pp 3084-3095.\n",
      "\n",
      "\n",
      "2024-12-05 15:24:19,730 [MainThread  ] [INFO ]  Removed: ['/home/rchaves/repo/biobb_wf_mem/biobb_wf_mem/notebooks/sandbox_e130a480-f3dd-4c6e-a1d9-3e64bff3c1bb', '12090ea6-2d44-486b-8d7f-443f222c576c']\n",
      "2024-12-05 15:24:19,731 [MainThread  ] [INFO ]  \n"
     ]
    },
    {
     "data": {
      "text/plain": [
       "0"
      ]
     },
     "execution_count": 35,
     "metadata": {},
     "output_type": "execute_result"
    }
   ],
   "source": [
    "from biobb_mem.ambertools.cpptraj_density import cpptraj_density\n",
    "\n",
    "prop = {\n",
    "    'mask': '::M ::A,B',\n",
    "    'steps': steps,\n",
    "}\n",
    "cpptraj_density(input_top_path=input_top_path,\n",
    "            input_traj_path=input_traj_path,\n",
    "            output_cpptraj_path='out/density_mask.dat',\n",
    "            properties=prop)"
   ]
  },
  {
   "cell_type": "markdown",
   "metadata": {},
   "source": [
    "### Visualization"
   ]
  },
  {
   "cell_type": "code",
   "execution_count": 36,
   "metadata": {},
   "outputs": [],
   "source": [
    "def plot_and_view(den,view,labels,axis='z'):\n",
    "    axis = f'#{axis.upper()}'\n",
    "    fig, ax = plt.subplots(1, 1, figsize=(8, 4))\n",
    "    cls = den.columns[1:]\n",
    "    cls = den.columns[1:]\n",
    "    for i,cl in enumerate(cls):\n",
    "        if i%2==0:\n",
    "            ax.plot(den[axis], den[cl], label=labels[i//2])\n",
    "            cl0 = cl\n",
    "        else:\n",
    "            ax.fill_between(den[axis], den[cl0] - den[cl], den[cl0] + den[cl],label='SD',color='red')\n",
    "    ax.set_title('Mass Density');ax.set_xlabel('Å')\n",
    "    ax.set_ylabel('Density'); ax.legend()\n",
    "\n",
    "    # Put plot in a widget and display both widgets in a row\n",
    "    out = Output()\n",
    "    with out: plt.show()\n",
    "    box = HBox([out,view]); display(box)\n",
    "    view._remote_call('setSize', target='Widget', args=['100%', '100%'])\n",
    "    view.control.spin([0, 1, 0], -1.57) "
   ]
  },
  {
   "cell_type": "code",
   "execution_count": 38,
   "metadata": {},
   "outputs": [
    {
     "data": {
      "application/vnd.jupyter.widget-view+json": {
       "model_id": "4b6c7bcbd8724646a64b8a7a98887b93",
       "version_major": 2,
       "version_minor": 0
      },
      "text/plain": [
       "HBox(children=(Output(), NGLWidget()))"
      ]
     },
     "metadata": {},
     "output_type": "display_data"
    }
   ],
   "source": [
    "# Mask\n",
    "view = nv.show_file(input_top_path)\n",
    "den = pd.read_csv(f'out/density_mask.dat', sep='\\s+')\n",
    "plot_and_view(den,view,['Membrane','Protein'])\n",
    "view.update_ball_and_stick(color='blue')\n",
    "view.update_cartoon(color='orange')"
   ]
  },
  {
   "cell_type": "markdown",
   "metadata": {},
   "source": [
    "<a id=\"leaflets\"></a>\n",
    "***\n",
    "## Leafleats assignation"
   ]
  },
  {
   "cell_type": "markdown",
   "metadata": {},
   "source": [
    "Lyphilic is faster that fatslim, it algorithm is simpler, assumes a plane membrane, it let you do the assignation of leafleats for every frame and use this information for analysis like flip-flop <br>\n",
    "***\n",
    "**Building Blocks** used:\n",
    " - [LPPAssignLeaflets](https://biobb-mem.readthedocs.io/en/latest/lipyphilic_biobb.html) from **from biobb_mem.lipyphilic_biobb.lpp_assign_leaflets**\n",
    "***"
   ]
  },
  {
   "cell_type": "markdown",
   "metadata": {},
   "source": [
    "![DPPC](../html/DPPC.png \"DPPC\")"
   ]
  },
  {
   "cell_type": "code",
   "execution_count": 12,
   "metadata": {},
   "outputs": [
    {
     "name": "stderr",
     "output_type": "stream",
     "text": [
      "/home/rchaves/miniforge3/envs/biobb_mem/lib/python3.10/site-packages/Bio/Application/__init__.py:39: BiopythonDeprecationWarning: The Bio.Application modules and modules relying on it have been deprecated.\n",
      "\n",
      "Due to the on going maintenance burden of keeping command line application\n",
      "wrappers up to date, we have decided to deprecate and eventually remove these\n",
      "modules.\n",
      "\n",
      "We instead now recommend building your command line and invoking it directly\n",
      "with the subprocess module.\n",
      "  warnings.warn(\n"
     ]
    },
    {
     "name": "stdout",
     "output_type": "stream",
     "text": [
      "2024-12-04 12:43:28,108 [MainThread  ] [INFO ]  Module: biobb_mem.lipyphilic_biobb.lpp_assign_leaflets Version: 5.0.2\n",
      "2024-12-04 12:43:28,109 [MainThread  ] [INFO ]  /home/rchaves/repo/biobb_wf_mem/biobb_wf_mem/notebooks/sandbox_e34b02ff-7e8d-49fa-b6dc-f396bfbb0b82 directory successfully created\n",
      "2024-12-04 12:43:28,111 [MainThread  ] [INFO ]  Copy: A01M6.pdb to /home/rchaves/repo/biobb_wf_mem/biobb_wf_mem/notebooks/sandbox_e34b02ff-7e8d-49fa-b6dc-f396bfbb0b82\n",
      "2024-12-04 12:43:28,701 [MainThread  ] [INFO ]  Copy: A01M6.xtc to /home/rchaves/repo/biobb_wf_mem/biobb_wf_mem/notebooks/sandbox_e34b02ff-7e8d-49fa-b6dc-f396bfbb0b82\n",
      "2024-12-04 12:43:28,961 [MainThread  ] [INFO ]  Removed: ['/home/rchaves/repo/biobb_wf_mem/biobb_wf_mem/notebooks/sandbox_e34b02ff-7e8d-49fa-b6dc-f396bfbb0b82']\n",
      "2024-12-04 12:43:28,962 [MainThread  ] [INFO ]  \n"
     ]
    },
    {
     "data": {
      "text/plain": [
       "0"
      ]
     },
     "execution_count": 12,
     "metadata": {},
     "output_type": "execute_result"
    }
   ],
   "source": [
    "from biobb_mem.lipyphilic_biobb.lpp_assign_leaflets import lpp_assign_leaflets\n",
    "\n",
    "prop = {\n",
    "    'lipid_sel': lipid_sel,\n",
    "    'steps': steps\n",
    "}\n",
    "lpp_assign_leaflets(input_top_path=input_top_path,\n",
    "                    input_traj_path=input_traj_path,\n",
    "                    output_leaflets_path= 'leaflets_data.csv',\n",
    "                    properties=prop)"
   ]
  },
  {
   "cell_type": "markdown",
   "metadata": {},
   "source": [
    "### Visualization"
   ]
  },
  {
   "cell_type": "code",
   "execution_count": 13,
   "metadata": {},
   "outputs": [
    {
     "data": {
      "application/vnd.jupyter.widget-view+json": {
       "model_id": "a9062f5ab79f482bb9bbeaac7a0dfd14",
       "version_major": 2,
       "version_minor": 0
      },
      "text/plain": [
       "NGLWidget()"
      ]
     },
     "metadata": {},
     "output_type": "display_data"
    }
   ],
   "source": [
    "from biobb_mem.lipyphilic_biobb.lpp_assign_leaflets import display_nglview\n",
    "view = display_nglview(input_top_path, 'leaflets_data.csv')\n",
    "view.control.spin([0, 1, 0], -1.57)\n",
    "view"
   ]
  },
  {
   "cell_type": "markdown",
   "metadata": {},
   "source": [
    "<a id=\"channel\"></a>\n",
    "***\n",
    "## Channel"
   ]
  },
  {
   "cell_type": "markdown",
   "metadata": {},
   "source": [
    "Chanel... <br>\n",
    "***\n",
    "**Building Blocks** used:\n",
    " - [MDAHole](https://biobb-mem.readthedocs.io/en/latest/mdanalysis_biobb.html#mdanalysis_biobb.mda_hole.MDAHole) from **from biobb_mem.mdanalysis_biobb.mda_hole**\n",
    "***"
   ]
  },
  {
   "cell_type": "code",
   "execution_count": 14,
   "metadata": {},
   "outputs": [
    {
     "name": "stdout",
     "output_type": "stream",
     "text": [
      "2024-12-04 12:45:05,265 [MainThread  ] [INFO ]  Module: biobb_mem.mdanalysis_biobb.mda_hole Version: 5.0.2\n",
      "2024-12-04 12:45:05,266 [MainThread  ] [INFO ]  /home/rchaves/repo/biobb_wf_mem/biobb_wf_mem/notebooks/sandbox_cded5ead-dc7c-47d6-8a8b-ee6b4202800a directory successfully created\n",
      "2024-12-04 12:45:05,268 [MainThread  ] [INFO ]  Copy: A01M6.pdb to /home/rchaves/repo/biobb_wf_mem/biobb_wf_mem/notebooks/sandbox_cded5ead-dc7c-47d6-8a8b-ee6b4202800a\n"
     ]
    },
    {
     "name": "stderr",
     "output_type": "stream",
     "text": [
      "/home/rchaves/miniforge3/envs/biobb_mem/lib/python3.10/site-packages/MDAnalysis/analysis/hole2/__init__.py:47: DeprecationWarning: Deprecated in version 2.8.0\n",
      "MDAnalysis.analysis.hole2 is deprecated in favour of the MDAKit madahole2 (https://www.mdanalysis.org/mdahole2/) and will be removed in MDAnalysis version 3.0.0\n",
      "  warnings.warn(wmsg, category=DeprecationWarning)\n"
     ]
    },
    {
     "name": "stdout",
     "output_type": "stream",
     "text": [
      "2024-12-04 12:45:05,845 [MainThread  ] [INFO ]  Copy: A01M6.xtc to /home/rchaves/repo/biobb_wf_mem/biobb_wf_mem/notebooks/sandbox_cded5ead-dc7c-47d6-8a8b-ee6b4202800a\n"
     ]
    },
    {
     "name": "stderr",
     "output_type": "stream",
     "text": [
      "/home/rchaves/miniforge3/envs/biobb_mem/lib/python3.10/site-packages/MDAnalysis/coordinates/PDB.py:1154: UserWarning: Found no information for attr: 'formalcharges' Using default value of '0'\n",
      "  warnings.warn(\"Found no information for attr: '{}'\"\n",
      "/home/rchaves/miniforge3/envs/biobb_mem/lib/python3.10/site-packages/MDAnalysis/lib/util.py:575: DeprecationWarning: This method is deprecated as of MDAnalysis version 2.7.0 and will be removed in version 3.0.0. Please use shutil.which instead.\n",
      "  warnings.warn(wmsg, DeprecationWarning)\n"
     ]
    },
    {
     "name": "stdout",
     "output_type": "stream",
     "text": [
      "2024-12-04 12:45:18,455 [MainThread  ] [INFO ]  Removed: ['/home/rchaves/repo/biobb_wf_mem/biobb_wf_mem/notebooks/sandbox_cded5ead-dc7c-47d6-8a8b-ee6b4202800a']\n",
      "2024-12-04 12:45:18,455 [MainThread  ] [INFO ]  \n"
     ]
    },
    {
     "data": {
      "text/plain": [
       "0"
      ]
     },
     "execution_count": 14,
     "metadata": {},
     "output_type": "execute_result"
    }
   ],
   "source": [
    "from biobb_mem.mdanalysis_biobb.mda_hole import mda_hole\n",
    "\n",
    "prop = {\n",
    "    'select': 'protein',\n",
    "    'steps': steps,\n",
    "    'sample': 0.1\n",
    "}\n",
    "mda_hole(input_top_path=input_top_path,\n",
    "         input_traj_path=input_traj_path,\n",
    "         output_hole_path='hole.vmd',\n",
    "         properties=prop)"
   ]
  },
  {
   "cell_type": "code",
   "execution_count": null,
   "metadata": {},
   "outputs": [],
   "source": [
    "from biobb_mem.mdanalysis_biobb.mda_hole import display_hole\n",
    "display_hole(input_top_path, opacity=0.9)"
   ]
  },
  {
   "cell_type": "code",
   "execution_count": 15,
   "metadata": {},
   "outputs": [],
   "source": [
    "#%conda install -c conda-forge vmd -y # si se instala en el entorno conda da problemas de clobber y jupyter no arranca\n",
    "#%conda install libsqlite --force-reinstall -y # vmd breaks it"
   ]
  },
  {
   "cell_type": "code",
   "execution_count": 16,
   "metadata": {
    "vscode": {
     "languageId": "ruby"
    }
   },
   "outputs": [
    {
     "name": "stdout",
     "output_type": "stream",
     "text": [
      "Info) VMD for LINUXAMD64, version 1.9.4a57 (April 27, 2022)\n",
      "Info) http://www.ks.uiuc.edu/Research/vmd/                         \n",
      "Info) Email questions and bug reports to vmd@ks.uiuc.edu           \n",
      "Info) Please include this reference in published work using VMD:   \n",
      "Info)    Humphrey, W., Dalke, A. and Schulten, K., `VMD - Visual   \n",
      "Info)    Molecular Dynamics', J. Molec. Graphics 1996, 14.1, 33-38.\n",
      "Info) -------------------------------------------------------------\n",
      "Info) Multithreading available, 16 CPUs.\n",
      "Info)   CPU features: SSE2 SSE4.1 AVX AVX2 FMA F16 HT \n",
      "Info) Free system memory: 52GB (83%)\n",
      "Info) No CUDA accelerator devices available.\n",
      "Info) OpenGL renderer: Mesa Intel(R) UHD Graphics 630 (CML GT2)\n",
      "Info)   Features: STENCIL MSAA(4) MDE CVA MTX NPOT PP PS GLSL(OVFS) \n",
      "Info)   Full GLSL rendering mode is available.\n",
      "Info)   Textures: 2-D (16384x16384), 3-D (512x512x512), Multitexture (8)\n",
      "Info) Detected 8 XInput devices, 1 usable device:\n",
      "Info)   [8] xwayland-pointer-gestures:16, type: 242, classes: 1\n",
      "Info) Dynamically loaded 3 plugins in directory:\n",
      "Info) /usr/local/lib/vmd/plugins/LINUXAMD64/molfile\n",
      "Info) File loading in progress, please wait.\n",
      "Info) Using plugin pdb for structure file A01M6.pdb\n",
      "Info) Using plugin pdb for coordinates from file A01M6.pdb\n",
      "Info) Determining bond structure from distance search ...\n",
      "Info) Finished with coordinate file A01M6.pdb.\n",
      "Info) Analyzing structure ...\n",
      "Info)    Atoms: 47441\n",
      "Info)    Bonds: 47223\n",
      "Info)    Angles: 0  Dihedrals: 0  Impropers: 0  Cross-terms: 0\n",
      "Info)    Bondtypes: 0  Angletypes: 0  Dihedraltypes: 0  Impropertypes: 0\n",
      "Info)    Residues: 2259\n",
      "Info)    Waters: 0\n",
      "Info)    Segments: 1\n",
      "Info)    Fragments: 599   Protein: 5   Nucleic: 0\n",
      "Info) Using plugin xtc for coordinates from file A01M6.xtc\n",
      "Info) Coordinate I/O rate 0.24 frames/sec, 0 MB/sec, 4.2 sec\n",
      "Info) Finished with coordinate file A01M6.xtc.\n",
      "0\n",
      "vmd > ^C\n",
      "vmd > "
     ]
    }
   ],
   "source": [
    "# TODO: cargar más frame (lento pero se resolvería con H5MD) y mirar por que algunos caneles salen torcidos\n",
    "vmd_script = f\"\"\"\n",
    "mol addfile {input_traj_path} type xtc first 0 last 1 step {steps} waitfor all\n",
    "animate delete beg 0 end 0\n",
    "source hole.vmd\n",
    "\"\"\"\n",
    "\n",
    "# Join the contents and write to a new file\n",
    "with open('vmd_script.vmd', 'w') as fl:\n",
    "    fl.write(vmd_script)\n",
    "\n",
    "!vmd -pdb {input_top_path} -e vmd_script.vmd"
   ]
  }
 ],
 "metadata": {
  "kernelspec": {
   "display_name": "biobb_mem",
   "language": "python",
   "name": "python3"
  },
  "language_info": {
   "codemirror_mode": {
    "name": "ipython",
    "version": 3
   },
   "file_extension": ".py",
   "mimetype": "text/x-python",
   "name": "python",
   "nbconvert_exporter": "python",
   "pygments_lexer": "ipython3",
   "version": "3.10.15"
  }
 },
 "nbformat": 4,
 "nbformat_minor": 4
}
