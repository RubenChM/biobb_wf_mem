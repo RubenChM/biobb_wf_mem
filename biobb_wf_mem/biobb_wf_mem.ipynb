{
 "cells": [
  {
   "cell_type": "code",
   "execution_count": 14,
   "metadata": {},
   "outputs": [],
   "source": [
    "import os, requests\n",
    "import matplotlib.pyplot as plt\n",
    "import nglview as nv\n",
    "from ipywidgets import Output, HBox\n",
    "import pandas as pd\n",
    "\n",
    "# Delete log files and results\n",
    "for file in os.listdir():\n",
    "    if not file.endswith(('ipynb','png','pdb','xtc')):\n",
    "        print(\"rm\", file)\n",
    "        os.remove(file)"
   ]
  },
  {
   "cell_type": "markdown",
   "metadata": {},
   "source": [
    "<a id=\"input\"></a>\n",
    "## Input parameters\n",
    "**Input parameters** needed:\n",
    " - **MD_id**: PDB code of the protein structure (e.g. [A01M6](https://mmb-dev.mddbr.eu/#/id/A01M6/overview))"
   ]
  },
  {
   "cell_type": "code",
   "execution_count": 3,
   "metadata": {},
   "outputs": [],
   "source": [
    "MD_id = 'A01M6'\n",
    "steps = 1500"
   ]
  },
  {
   "cell_type": "markdown",
   "metadata": {},
   "source": [
    "<a id=\"fetch\"></a>\n",
    "***\n",
    "## Fetching structure and trajectory"
   ]
  },
  {
   "cell_type": "code",
   "execution_count": 4,
   "metadata": {},
   "outputs": [],
   "source": [
    "# Check if PDB and XTC files already exist\n",
    "if not (os.path.exists(f\"{MD_id}.pdb\") and os.path.exists(f\"{MD_id}.xtc\")):\n",
    "    # Download PDB\n",
    "    headers = {'accept': 'chemical/x-pdb'}\n",
    "    url = f\"https://mmb-dev.mddbr.eu/api/rest/v1/projects/{MD_id}/files/structure.pdb\"\n",
    "    response = requests.get(url, headers=headers)\n",
    "    if response.status_code == 200:\n",
    "        pdb_content = response.text\n",
    "        # Save the PDB content to a file\n",
    "        with open(f\"{MD_id}.pdb\", 'w') as pdb_file:   \n",
    "            pdb_file.write(pdb_content)\n",
    "        print(f\"Saved PDB file\")\n",
    "    else:\n",
    "        print(f\"Error for the PDB file: {response.status_code}\")\n",
    "        \n",
    "    # Download XTC\n",
    "    headers2 = {'accept': 'application/octet-stream'}\n",
    "    url2= f'https://mmb-dev.mddbr.eu/api/rest/v1/projects/{MD_id}/files/trajectory.xtc'\n",
    "    response2 = requests.get(url2, headers=headers2)\n",
    "    if response2.status_code == 200:\n",
    "        xtc_content = response2.content\n",
    "        with open(f\"{MD_id}.xtc\", 'wb') as xtc_file:\n",
    "            xtc_file.write(xtc_content)\n",
    "        print(f\"Saved XTC file\")\n",
    "    else:\n",
    "        print(f\"Error for the XTC file: {response2.status_code}\")"
   ]
  },
  {
   "cell_type": "code",
   "execution_count": 5,
   "metadata": {},
   "outputs": [],
   "source": [
    "# common arguments for all the components\n",
    "input_top_path = f'{MD_id}.pdb'\n",
    "input_traj_path = f'{MD_id}.xtc'"
   ]
  },
  {
   "cell_type": "markdown",
   "metadata": {},
   "source": [
    "<a id=\"density\"></a>\n",
    "***\n",
    "## Density profile"
   ]
  },
  {
   "cell_type": "markdown",
   "metadata": {},
   "source": [
    "Calculate density...<br>\n",
    "***\n",
    "**Building Blocks** used:\n",
    " - [CpptrajDensity](https://biobb-mem.readthedocs.io/en/latest/ambertools.html#module-ambertools.cpptraj_density) from **biobb_mem.ambertools.cpptraj_density**\n",
    "***"
   ]
  },
  {
   "cell_type": "code",
   "execution_count": 6,
   "metadata": {},
   "outputs": [
    {
     "name": "stdout",
     "output_type": "stream",
     "text": [
      "2024-11-26 16:29:17,257 [MainThread  ] [INFO ]  Module: biobb_mem.ambertools.cpptraj_density Version: 5.0.2\n",
      "2024-11-26 16:29:17,258 [MainThread  ] [INFO ]  /home/rchaves/repo/biobb_wf_mem/biobb_wf_mem/sandbox_4a5f5914-4a33-4d02-b571-075c4e5da0af directory successfully created\n",
      "2024-11-26 16:29:17,260 [MainThread  ] [INFO ]  Copy: A01M6.pdb to /home/rchaves/repo/biobb_wf_mem/biobb_wf_mem/sandbox_4a5f5914-4a33-4d02-b571-075c4e5da0af\n",
      "2024-11-26 16:29:17,862 [MainThread  ] [INFO ]  Copy: A01M6.xtc to /home/rchaves/repo/biobb_wf_mem/biobb_wf_mem/sandbox_4a5f5914-4a33-4d02-b571-075c4e5da0af\n",
      "2024-11-26 16:29:17,863 [MainThread  ] [INFO ]  cpptraj -i e5d1e2eb-82e3-4e3d-a932-e0928ce6adc9/instructions.in\n",
      "\n",
      "2024-11-26 16:29:18,036 [MainThread  ] [INFO ]  Executing: cpptraj -i e5d1e2eb-82e3-4e3d-a932-e0928ce6adc9/instructions.in...\n",
      "2024-11-26 16:29:18,036 [MainThread  ] [INFO ]  Exit code: 0\n",
      "2024-11-26 16:29:18,037 [MainThread  ] [INFO ]  \n",
      "CPPTRAJ: Trajectory Analysis. V6.18.1 (AmberTools)\n",
      "    ___  ___  ___  ___\n",
      "     | \\/ | \\/ | \\/ | \n",
      "    _|_/\\_|_/\\_|_/\\_|_\n",
      "\n",
      "| Date/time: 11/26/24 16:29:17\n",
      "| Available memory: 40.657 GB\n",
      "\n",
      "INPUT: Reading input from 'e5d1e2eb-82e3-4e3d-a932-e0928ce6adc9/instructions.in'\n",
      "  [parm /home/rchaves/repo/biobb_wf_mem/biobb_wf_mem/sandbox_4a5f5914-4a33-4d02-b571-075c4e5da0af/A01M6.pdb]\n",
      "\tReading '/home/rchaves/repo/biobb_wf_mem/biobb_wf_mem/sandbox_4a5f5914-4a33-4d02-b571-075c4e5da0af/A01M6.pdb' as PDB File\n",
      "\tReading bond info from CONECT records.\n",
      "\tNot reading bond info from LINK records.\n",
      "\tDetermining bond info from distances.\n",
      "Warning: Determining bond length parameters from element types for 'A01M6.pdb'.\n",
      "  [trajin /home/rchaves/repo/biobb_wf_mem/biobb_wf_mem/sandbox_4a5f5914-4a33-4d02-b571-075c4e5da0af/A01M6.xtc 1 -1 1500]\n",
      "\tReading '/home/rchaves/repo/biobb_wf_mem/biobb_wf_mem/sandbox_4a5f5914-4a33-4d02-b571-075c4e5da0af/A01M6.xtc' as Gromacs XTC\n",
      "Warning: Trajectory box type is 'Tetragonal' but topology box type is 'None'.\n",
      "Warning: Setting topology box information from trajectory.\n",
      "  [density number out /home/rchaves/repo/biobb_wf_mem/biobb_wf_mem/sandbox_4a5f5914-4a33-4d02-b571-075c4e5da0af/density_mask.dat ::M ::A,B delta 0.25 z bincenter]\n",
      "    DENSITY: Determining number density for 2 masks.\n",
      "\troutine version: 1.0.3\n",
      "\tDelta is 0.250000\n",
      "\tAxis is Z\n",
      "\tData set name is 'DENSITY_00001'\n",
      "\tData set aspect [avg] holds the mean, aspect [sd] holds standard deviation.\n",
      "\tBin coordinates will be to bin center.\n",
      "\tOutput to '/home/rchaves/repo/biobb_wf_mem/biobb_wf_mem/sandbox_4a5f5914-4a33-4d02-b571-075c4e5da0af/density_mask.dat'\n",
      "---------- RUN BEGIN -------------------------------------------------\n",
      "\n",
      "PARAMETER FILES (1 total):\n",
      " 0: A01M6.pdb, 47441 atoms, 2259 res, box: Tetragonal, 599 mol\n",
      "\n",
      "INPUT TRAJECTORIES (1 total):\n",
      " 0: 'A01M6.xtc' is a GROMACS XTC file, Parm A01M6.pdb (Tetragonal box) (reading 7 of 10001)\n",
      "  Coordinate processing will occur on 7 frames.\n",
      "\n",
      "BEGIN TRAJECTORY PROCESSING:\n",
      ".....................................................\n",
      "ACTION SETUP FOR PARM 'A01M6.pdb' (1 actions):\n",
      "  0: [density number out /home/rchaves/repo/biobb_wf_mem/biobb_wf_mem/sandbox_4a5f5914-4a33-4d02-b571-075c4e5da0af/density_mask.dat ::M ::A,B delta 0.25 z bincenter]\n",
      "\t [::M](29700)\n",
      "\t [::A,B](7140)\n",
      "----- A01M6.xtc (1-10001, 1500) -----\n",
      " 0% 17% 33% 50% 67% 83% 100% Complete.\n",
      "\n",
      "Read 7 frames and processed 7 frames.\n",
      "TIME: Avg. throughput= 291.8734 frames / second.\n",
      "\n",
      "ACTION OUTPUT:\n",
      "    DENSITY: The average box area in X/Y is 20644.52 Angstrom (sd = 536.74).\n",
      "TIME: Analyses took 0.0000 seconds.\n",
      "\n",
      "DATASETS (4 total):\n",
      "\tDENSITY_00001[avg]:1 \"::M\" (double), size is 677 (5.416 kB)\n",
      "\tDENSITY_00001[sd]:1 \"sd(::M)\" (double), size is 677 (5.416 kB)\n",
      "\tDENSITY_00001[avg]:2 \"::A,B\" (double), size is 677 (5.416 kB)\n",
      "\tDENSITY_00001[sd]:2 \"sd(::A,B)\" (double), size is 677 (5.416 kB)\n",
      "    Total data set memory usage is at least 21.664 kB\n",
      "\n",
      "DATAFILES (1 total):\n",
      "  density_mask.dat (Standard Data File):  ::M sd(::M) ::A,B sd(::A,B)\n",
      "\n",
      "RUN TIMING:\n",
      "TIME:\t\tInit               : 0.0000 s (  0.02%)\n",
      "TIME:\t\tTrajectory Process : 0.0240 s ( 95.46%)\n",
      "TIME:\t\tAction Post        : 0.0000 s (  0.09%)\n",
      "TIME:\t\tAnalysis           : 0.0000 s (  0.00%)\n",
      "TIME:\t\tData File Write    : 0.0011 s (  4.25%)\n",
      "TIME:\t\tOther              : 0.0000 s (  0.00%)\n",
      "TIME:\tRun Total 0.0251 s\n",
      "---------- RUN END ---------------------------------------------------\n",
      "TIME: Total execution time: 0.1409 seconds.\n",
      "--------------------------------------------------------------------------------\n",
      "To cite CPPTRAJ use:\n",
      "Daniel R. Roe and Thomas E. Cheatham, III, \"PTRAJ and CPPTRAJ: Software for\n",
      "  Processing and Analysis of Molecular Dynamics Trajectory Data\". J. Chem.\n",
      "  Theory Comput., 2013, 9 (7), pp 3084-3095.\n",
      "\n",
      "\n",
      "2024-11-26 16:29:18,227 [MainThread  ] [INFO ]  Removed: ['/home/rchaves/repo/biobb_wf_mem/biobb_wf_mem/sandbox_4a5f5914-4a33-4d02-b571-075c4e5da0af', 'e5d1e2eb-82e3-4e3d-a932-e0928ce6adc9']\n",
      "2024-11-26 16:29:18,228 [MainThread  ] [INFO ]  \n"
     ]
    },
    {
     "data": {
      "text/plain": [
       "0"
      ]
     },
     "execution_count": 6,
     "metadata": {},
     "output_type": "execute_result"
    }
   ],
   "source": [
    "from biobb_mem.ambertools.cpptraj_density import cpptraj_density\n",
    "\n",
    "prop = {\n",
    "    'mask': '::M ::A,B',\n",
    "    'steps': steps,\n",
    "}\n",
    "cpptraj_density(input_top_path=input_top_path,\n",
    "            input_traj_path=input_traj_path,\n",
    "            output_cpptraj_path='density_mask.dat',\n",
    "            properties=prop)"
   ]
  },
  {
   "cell_type": "markdown",
   "metadata": {},
   "source": [
    "### Visualization"
   ]
  },
  {
   "cell_type": "code",
   "execution_count": 7,
   "metadata": {},
   "outputs": [],
   "source": [
    "def plot_and_view(den,view,labels,axis='z'):\n",
    "    axis = f'#{axis.upper()}'\n",
    "    fig, ax = plt.subplots(1, 1, figsize=(8, 4))\n",
    "    cls = den.columns[1:]\n",
    "    cls = den.columns[1:]\n",
    "    for i,cl in enumerate(cls):\n",
    "        if i%2==0:\n",
    "            ax.plot(den[axis], den[cl], label=labels[i//2])\n",
    "            cl0 = cl\n",
    "        else:\n",
    "            ax.fill_between(den[axis], den[cl0] - den[cl], den[cl0] + den[cl],label='SD',color='red')\n",
    "    ax.set_title('Mass Density');ax.set_xlabel('Å')\n",
    "    ax.set_ylabel('Density'); ax.legend()\n",
    "\n",
    "    # Put plot in a widget and display both widgets in a row\n",
    "    out = Output()\n",
    "    with out: plt.show()\n",
    "    box = HBox([out,view]); display(box)\n",
    "    view._remote_call('setSize', target='Widget', args=['100%', '100%'])\n",
    "    view.control.spin([0, 1, 0], -1.57) "
   ]
  },
  {
   "cell_type": "code",
   "execution_count": 8,
   "metadata": {},
   "outputs": [
    {
     "data": {
      "application/vnd.jupyter.widget-view+json": {
       "model_id": "8fff481223d04243a1ba0535d20569a9",
       "version_major": 2,
       "version_minor": 0
      },
      "text/plain": [
       "HBox(children=(Output(), NGLWidget()))"
      ]
     },
     "metadata": {},
     "output_type": "display_data"
    }
   ],
   "source": [
    "# Mask\n",
    "view = nv.show_file(input_top_path)\n",
    "den = pd.read_csv(f'density_mask.dat', sep='\\s+')\n",
    "plot_and_view(den,view,['Membrane','Protein'])\n",
    "view.update_ball_and_stick(color='blue')\n",
    "view.update_cartoon(color='orange')"
   ]
  },
  {
   "cell_type": "markdown",
   "metadata": {},
   "source": [
    "<a id=\"leaflets\"></a>\n",
    "***\n",
    "## Leafleats assignation"
   ]
  },
  {
   "cell_type": "markdown",
   "metadata": {},
   "source": [
    "Lyphilic is faster that fatslim, it algorithm is simpler, assumes a plane membrane, it let you do the assignation of leafleats for every frame and use this information for analysis like flip-flop <br>\n",
    "***\n",
    "**Building Blocks** used:\n",
    " - [LPPAssignLeaflets](https://biobb-mem.readthedocs.io/en/latest/lipyphilic_biobb.html) from **from biobb_mem.lipyphilic_biobb.lpp_assign_leaflets**\n",
    "***"
   ]
  },
  {
   "cell_type": "markdown",
   "metadata": {},
   "source": [
    "![DPPC](DPPC.png \"DPPC\")"
   ]
  },
  {
   "cell_type": "code",
   "execution_count": 9,
   "metadata": {},
   "outputs": [
    {
     "name": "stderr",
     "output_type": "stream",
     "text": [
      "/home/rchaves/miniforge3/envs/biobb_wf_mem/lib/python3.11/site-packages/Bio/Application/__init__.py:39: BiopythonDeprecationWarning: The Bio.Application modules and modules relying on it have been deprecated.\n",
      "\n",
      "Due to the on going maintenance burden of keeping command line application\n",
      "wrappers up to date, we have decided to deprecate and eventually remove these\n",
      "modules.\n",
      "\n",
      "We instead now recommend building your command line and invoking it directly\n",
      "with the subprocess module.\n",
      "  warnings.warn(\n"
     ]
    },
    {
     "name": "stdout",
     "output_type": "stream",
     "text": [
      "2024-11-26 16:29:20,080 [MainThread  ] [INFO ]  Module: biobb_mem.lipyphilic_biobb.lpp_assign_leaflets Version: 5.0.2\n",
      "2024-11-26 16:29:20,080 [MainThread  ] [INFO ]  /home/rchaves/repo/biobb_wf_mem/biobb_wf_mem/sandbox_730860c8-467e-4ee8-a3bb-a95d9a08cd57 directory successfully created\n",
      "2024-11-26 16:29:20,082 [MainThread  ] [INFO ]  Copy: A01M6.pdb to /home/rchaves/repo/biobb_wf_mem/biobb_wf_mem/sandbox_730860c8-467e-4ee8-a3bb-a95d9a08cd57\n",
      "2024-11-26 16:29:20,642 [MainThread  ] [INFO ]  Copy: A01M6.xtc to /home/rchaves/repo/biobb_wf_mem/biobb_wf_mem/sandbox_730860c8-467e-4ee8-a3bb-a95d9a08cd57\n",
      "2024-11-26 16:29:20,901 [MainThread  ] [INFO ]  Removed: ['/home/rchaves/repo/biobb_wf_mem/biobb_wf_mem/sandbox_730860c8-467e-4ee8-a3bb-a95d9a08cd57']\n",
      "2024-11-26 16:29:20,901 [MainThread  ] [INFO ]  \n"
     ]
    },
    {
     "data": {
      "text/plain": [
       "0"
      ]
     },
     "execution_count": 9,
     "metadata": {},
     "output_type": "execute_result"
    }
   ],
   "source": [
    "from biobb_mem.lipyphilic_biobb.lpp_assign_leaflets import lpp_assign_leaflets\n",
    "\n",
    "prop = {\n",
    "    'lipid_sel': '(resname DPPC and name P8)',\n",
    "    'steps': steps\n",
    "}\n",
    "lpp_assign_leaflets(input_top_path=input_top_path,\n",
    "                    input_traj_path=input_traj_path,\n",
    "                    output_leaflets_path= 'leaflets_data.csv',\n",
    "                    properties=prop)"
   ]
  },
  {
   "cell_type": "markdown",
   "metadata": {},
   "source": [
    "### Visualization"
   ]
  },
  {
   "cell_type": "code",
   "execution_count": 10,
   "metadata": {},
   "outputs": [
    {
     "data": {
      "application/vnd.jupyter.widget-view+json": {
       "model_id": "e2e83ee11565467faa8c600e1abe9ede",
       "version_major": 2,
       "version_minor": 0
      },
      "text/plain": [
       "NGLWidget()"
      ]
     },
     "metadata": {},
     "output_type": "display_data"
    }
   ],
   "source": [
    "df = pd.read_csv('leaflets_data.csv')\n",
    "view = nv.show_file(input_top_path)\n",
    "top_idx = df[(df['frame'] == 0) & (df['leaflet_index'] == 1)]['resindex'].values\n",
    "bot_idx = df[(df['frame'] == 0) & (df['leaflet_index'] == -1)]['resindex'].values\n",
    "\n",
    "view.update_ball_and_stick(selection='all', opacity=0.0)   # delete membrane\n",
    "view.add_ball_and_stick(selection=\", \".join(map(str, top_idx)), color='blue')\n",
    "view.add_ball_and_stick(selection=\", \".join(map(str, bot_idx)), color='yellow')\n",
    "view.control.spin([0, 1, 0], -1.57)\n",
    "view"
   ]
  },
  {
   "cell_type": "markdown",
   "metadata": {},
   "source": [
    "<a id=\"channel\"></a>\n",
    "***\n",
    "## Channel"
   ]
  },
  {
   "cell_type": "markdown",
   "metadata": {},
   "source": [
    "Chanel... <br>\n",
    "***\n",
    "**Building Blocks** used:\n",
    " - [MDAHole](https://biobb-mem.readthedocs.io/en/latest/mdanalysis_biobb.html#mdanalysis_biobb.mda_hole.MDAHole) from **from biobb_mem.mdanalysis_biobb.mda_hole**\n",
    "***"
   ]
  },
  {
   "cell_type": "code",
   "execution_count": 11,
   "metadata": {},
   "outputs": [
    {
     "name": "stdout",
     "output_type": "stream",
     "text": [
      "2024-11-26 16:29:21,449 [MainThread  ] [INFO ]  Module: biobb_mem.mdanalysis_biobb.mda_hole Version: 5.0.2\n",
      "2024-11-26 16:29:21,449 [MainThread  ] [INFO ]  /home/rchaves/repo/biobb_wf_mem/biobb_wf_mem/sandbox_74cc1417-8ff2-4ce0-bd6a-3ee1641670f6 directory successfully created\n",
      "2024-11-26 16:29:21,452 [MainThread  ] [INFO ]  Copy: A01M6.pdb to /home/rchaves/repo/biobb_wf_mem/biobb_wf_mem/sandbox_74cc1417-8ff2-4ce0-bd6a-3ee1641670f6\n",
      "2024-11-26 16:29:22,029 [MainThread  ] [INFO ]  Copy: A01M6.xtc to /home/rchaves/repo/biobb_wf_mem/biobb_wf_mem/sandbox_74cc1417-8ff2-4ce0-bd6a-3ee1641670f6\n"
     ]
    },
    {
     "name": "stderr",
     "output_type": "stream",
     "text": [
      "/home/rchaves/miniforge3/envs/biobb_wf_mem/lib/python3.11/site-packages/MDAnalysis/analysis/hole2/hole.py:495: DeprecationWarning: This class has been moved to the MDAKit `hole2-mdakit` (https://github.com/MDAnalysis/hole2-mdakit) and will be removed in version 3.0.\n",
      "  warnings.warn(wmsg, DeprecationWarning)\n",
      "/home/rchaves/miniforge3/envs/biobb_wf_mem/lib/python3.11/site-packages/MDAnalysis/coordinates/PDB.py:1153: UserWarning: Found no information for attr: 'formalcharges' Using default value of '0'\n",
      "  warnings.warn(\"Found no information for attr: '{}'\"\n",
      "/home/rchaves/miniforge3/envs/biobb_wf_mem/lib/python3.11/site-packages/MDAnalysis/lib/util.py:567: DeprecationWarning: This method is deprecated as of MDAnalysis version 2.7.0 and will be removed in version 3.0.0. Please use shutil.which instead.\n",
      "  warnings.warn(wmsg, DeprecationWarning)\n"
     ]
    },
    {
     "name": "stdout",
     "output_type": "stream",
     "text": [
      "2024-11-26 16:29:35,203 [MainThread  ] [INFO ]  Removed: ['/home/rchaves/repo/biobb_wf_mem/biobb_wf_mem/sandbox_74cc1417-8ff2-4ce0-bd6a-3ee1641670f6']\n",
      "2024-11-26 16:29:35,204 [MainThread  ] [INFO ]  \n"
     ]
    },
    {
     "data": {
      "text/plain": [
       "0"
      ]
     },
     "execution_count": 11,
     "metadata": {},
     "output_type": "execute_result"
    }
   ],
   "source": [
    "from biobb_mem.mdanalysis_biobb.mda_hole import mda_hole\n",
    "\n",
    "prop = {\n",
    "    'select': 'protein',\n",
    "    'steps': steps,\n",
    "    'sample': 0.1\n",
    "}\n",
    "mda_hole(input_top_path=input_top_path,\n",
    "         input_traj_path=input_traj_path,\n",
    "         output_hole_path='hole.vmd',\n",
    "         properties=prop)"
   ]
  },
  {
   "cell_type": "code",
   "execution_count": null,
   "metadata": {},
   "outputs": [],
   "source": [
    "!conda install -c conda-forge vmd -y # si se instala en el entorno conda da problemas"
   ]
  },
  {
   "cell_type": "code",
   "execution_count": 12,
   "metadata": {
    "vscode": {
     "languageId": "ruby"
    }
   },
   "outputs": [
    {
     "name": "stdout",
     "output_type": "stream",
     "text": [
      "Info) VMD for LINUXAMD64, version 1.9.4a57 (April 27, 2022)\n",
      "Info) http://www.ks.uiuc.edu/Research/vmd/                         \n",
      "Info) Email questions and bug reports to vmd@ks.uiuc.edu           \n",
      "Info) Please include this reference in published work using VMD:   \n",
      "Info)    Humphrey, W., Dalke, A. and Schulten, K., `VMD - Visual   \n",
      "Info)    Molecular Dynamics', J. Molec. Graphics 1996, 14.1, 33-38.\n",
      "Info) -------------------------------------------------------------\n",
      "Info) Multithreading available, 16 CPUs.\n",
      "Info)   CPU features: SSE2 SSE4.1 AVX AVX2 FMA F16 HT \n",
      "Info) Free system memory: 55GB (88%)\n",
      "Info) No CUDA accelerator devices available.\n",
      "Info) OpenGL renderer: Mesa Intel(R) UHD Graphics 630 (CML GT2)\n",
      "Info)   Features: STENCIL MSAA(4) MDE CVA MTX NPOT PP PS GLSL(OVFS) \n",
      "Info)   Full GLSL rendering mode is available.\n",
      "Info)   Textures: 2-D (16384x16384), 3-D (512x512x512), Multitexture (8)\n",
      "Info) Detected 8 XInput devices, 1 usable device:\n",
      "Info)   [8] xwayland-pointer-gestures:16, type: 242, classes: 1\n",
      "Info) Dynamically loaded 3 plugins in directory:\n",
      "Info) /usr/local/lib/vmd/plugins/LINUXAMD64/molfile\n",
      "Info) File loading in progress, please wait.\n",
      "Info) Using plugin pdb for structure file A01M6.pdb\n",
      "Info) Using plugin pdb for coordinates from file A01M6.pdb\n",
      "Info) Determining bond structure from distance search ...\n",
      "Info) Finished with coordinate file A01M6.pdb.\n",
      "Info) Analyzing structure ...\n",
      "Info)    Atoms: 47441\n",
      "Info)    Bonds: 47223\n",
      "Info)    Angles: 0  Dihedrals: 0  Impropers: 0  Cross-terms: 0\n",
      "Info)    Bondtypes: 0  Angletypes: 0  Dihedraltypes: 0  Impropertypes: 0\n",
      "Info)    Residues: 2259\n",
      "Info)    Waters: 0\n",
      "Info)    Segments: 1\n",
      "Info)    Fragments: 599   Protein: 5   Nucleic: 0\n",
      "Info) Using plugin xtc for coordinates from file A01M6.xtc\n",
      "Info) Coordinate I/O rate 0.24 frames/sec, 0 MB/sec, 4.2 sec\n",
      "Info) Finished with coordinate file A01M6.xtc.\n",
      "0\n",
      "vmd > Info) VMD for LINUXAMD64, version 1.9.4a57 (April 27, 2022)\n",
      "Info) Exiting normally.\n"
     ]
    }
   ],
   "source": [
    "# TODO: cargar más frame (lento pero se resolvería con H5MD) y mirar por que algunos caneles salen torcidos\n",
    "vmd_script = f\"\"\"\n",
    "mol addfile {input_traj_path} type xtc first 0 last 1 step {steps} waitfor all\n",
    "animate delete beg 0 end 0\n",
    "source hole.vmd\n",
    "\"\"\"\n",
    "\n",
    "# Join the contents and write to a new file\n",
    "with open('vmd_script.vmd', 'w') as fl:\n",
    "    fl.write(vmd_script)\n",
    "\n",
    "!vmd -pdb {input_top_path} -e vmd_script.vmd"
   ]
  }
 ],
 "metadata": {
  "kernelspec": {
   "display_name": "biobb_wf_mem",
   "language": "python",
   "name": "python3"
  },
  "language_info": {
   "codemirror_mode": {
    "name": "ipython",
    "version": 3
   },
   "file_extension": ".py",
   "mimetype": "text/x-python",
   "name": "python",
   "nbconvert_exporter": "python",
   "pygments_lexer": "ipython3",
   "version": "3.11.10"
  }
 },
 "nbformat": 4,
 "nbformat_minor": 2
}
